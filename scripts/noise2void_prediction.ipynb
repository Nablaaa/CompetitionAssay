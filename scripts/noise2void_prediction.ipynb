{
  "cells": [
    {
      "cell_type": "markdown",
      "metadata": {},
      "source": [
        "# Denoising images with noise2void, using a pre-trained model\n",
        "[GitHub n2v](https://github.com/juglab/n2v) <br>\n",
        "This script should help you to run a n2v prediction yourself. For training your own model, take a look at this amazing resource (it is worth to also check out all his other videos): [DigitalSreeni Youtube](https://www.youtube.com/watch?v=71wqPyapFGU&ab_channel=DigitalSreeni)"
      ]
    },
    {
      "cell_type": "code",
      "execution_count": null,
      "metadata": {
        "colab": {
          "base_uri": "https://localhost:8080/"
        },
        "id": "j0OUdazrRDMf",
        "outputId": "4b63326b-1d65-43f3-b34c-8289386971e0"
      },
      "outputs": [
        {
          "ename": "",
          "evalue": "",
          "output_type": "error",
          "traceback": [
            "\u001b[1;31mRunning cells with 'competitionassay' requires the ipykernel package.\n",
            "\u001b[1;31mRun the following command to install 'ipykernel' into the Python environment. \n",
            "\u001b[1;31mCommand: '/home/eric/python_venvs/competitionassay/bin/python3.9 -m pip install ipykernel -U --force-reinstall'"
          ]
        }
      ],
      "source": [
        "#Install the tensorflow library suggested by N2V.\n",
        "!pip install tensorflow==2.12.0\n",
        "!pip install n2v\n",
        "!pip install competitionassay"
      ]
    },
    {
      "attachments": {},
      "cell_type": "markdown",
      "metadata": {
        "id": "P13MtXx-MFAV"
      },
      "source": [
        "# Mount Google Drive to have access to your data which you should store there"
      ]
    },
    {
      "cell_type": "code",
      "execution_count": null,
      "metadata": {
        "colab": {
          "base_uri": "https://localhost:8080/"
        },
        "id": "wPAJfhbg973u",
        "outputId": "c519fae6-0ea9-4b62-c5cb-bd955800e19f"
      },
      "outputs": [
        {
          "name": "stdout",
          "output_type": "stream",
          "text": [
            "Mounted at /content/drive\n"
          ]
        }
      ],
      "source": [
        "from google.colab import drive\n",
        "drive.mount('/content/drive')"
      ]
    },
    {
      "cell_type": "code",
      "execution_count": null,
      "metadata": {
        "colab": {
          "base_uri": "https://localhost:8080/"
        },
        "id": "qRUF1zNmR4xi",
        "outputId": "2ca6403f-6cd0-44db-9d15-392346e04242"
      },
      "outputs": [
        {
          "ename": "",
          "evalue": "",
          "output_type": "error",
          "traceback": [
            "\u001b[1;31mRunning cells with 'competitionassay' requires the ipykernel package.\n",
            "\u001b[1;31mRun the following command to install 'ipykernel' into the Python environment. \n",
            "\u001b[1;31mCommand: '/home/eric/python_venvs/competitionassay/bin/python3.9 -m pip install ipykernel -U --force-reinstall'"
          ]
        }
      ],
      "source": [
        "import tensorflow as tf\n",
        "import n2v\n",
        "import os\n",
        "from skimage.io import imread, imsave\n",
        "from CompetitionAssay.denoising import n2vDenoising\n",
        "from CompetitionAssay.datahandling import GetTranswellData,GetCompetitionFolders\n",
        "\n",
        "print(tf.__version__)\n",
        "print(n2v.__version__)"
      ]
    },
    {
      "cell_type": "code",
      "execution_count": null,
      "metadata": {
        "id": "xrvgfFS_WB4b"
      },
      "outputs": [],
      "source": [
        "\n",
        "# define base directory \n",
        "# directories in Colab/Drive are mostly called like:\n",
        "# model_dir = \"/content/drive/MyDrive/YourDriveName/Noise2Void/models\"\n",
        "base_dir = \"example_data/competitions/\"\n",
        "files_are_in = \"/TW_growth/\"\n",
        "\n",
        "# n2v model directory\n",
        "model_name = \"n2v_transwell\"\n",
        "model_dir = \"models\"\n",
        "\n",
        "myModel = n2vDenoising(model_name=model_name, model_dir=model_dir)\n",
        "\n",
        "# get all the files in the directory\n",
        "different_competitions_folders = GetCompetitionFolders(base_dir)\n",
        "\n",
        "for competition in different_competitions_folders:\n",
        "    output_dir_denoised = base_dir + competition + files_are_in + \"denoised/\"\n",
        "\n",
        "    # create output directory if it does not exist\n",
        "    if not os.path.exists(output_dir_denoised):\n",
        "        os.makedirs(output_dir_denoised)\n",
        "\n",
        "    WT_files, Mutant_files = GetTranswellData(base_dir, competition, files_are_in)\n",
        "\n",
        "    for WT_file, Mutant_file in zip(WT_files, Mutant_files):\n",
        "        print(WT_file, Mutant_file)\n",
        "\n",
        "        WT_img = imread(base_dir + competition + files_are_in + WT_file)\n",
        "        Mutant_img = imread(base_dir + competition + files_are_in + Mutant_file)\n",
        "\n",
        "        WT_denoised = myModel.predict(WT_img)\n",
        "        del WT_img\n",
        "        imsave(output_dir_denoised + WT_file, WT_denoised)\n",
        "        del WT_denoised\n",
        "\n",
        "        Mutant_denoised = myModel.predict(Mutant_img)\n",
        "        del Mutant_img\n",
        "        imsave(output_dir_denoised + Mutant_file, Mutant_denoised)\n",
        "        del Mutant_denoised\n"
      ]
    }
  ],
  "metadata": {
    "accelerator": "GPU",
    "colab": {
      "provenance": []
    },
    "kernelspec": {
      "display_name": "Python 3",
      "name": "python3"
    },
    "language_info": {
      "name": "python",
      "version": "3.9.12"
    }
  },
  "nbformat": 4,
  "nbformat_minor": 0
}
