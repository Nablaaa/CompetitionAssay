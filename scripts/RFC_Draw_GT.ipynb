{
 "cells": [
  {
   "cell_type": "markdown",
   "id": "suffering-festival",
   "metadata": {
    "id": "suffering-festival"
   },
   "source": [
    "# Pixel classification using a [random forest classifier](https://en.wikipedia.org/wiki/Random_forest) \n",
    "\n",
    "See also\n",
    "* [Scikit-image random forest](https://scikit-learn.org/stable/modules/generated/sklearn.ensemble.RandomForestClassifier.html)\n"
   ]
  },
  {
   "cell_type": "code",
   "execution_count": null,
   "id": "extreme-papua",
   "metadata": {
    "id": "extreme-papua"
   },
   "outputs": [],
   "source": [
    "from skimage.io import imread, imshow,imsave\n",
    "import numpy as np\n"
   ]
  },
  {
   "cell_type": "code",
   "execution_count": null,
   "id": "91fb3308",
   "metadata": {},
   "outputs": [],
   "source": [
    "img_path = \"example_data/RFC_Trainingsdata/Mutant/denoised_img/\"\n",
    "img_fn = 'dwspF_C1-MAX_20230424_5hpif_mix2_WTmScarlet_dwspFmNeonGreen_ours_R3_003-1.tif'\n",
    "img = imread(img_path+img_fn)\n",
    "\n",
    "# filename and path for saving\n",
    "save_path = \"example_data/RFC_Trainingsdata/Mutant/GT/\"\n",
    "GT_fn = img_fn"
   ]
  },
  {
   "cell_type": "markdown",
   "id": "entitled-advantage",
   "metadata": {
    "id": "entitled-advantage"
   },
   "source": [
    "## Interactive segmentation\n",
    "Use napari to draw labels. I was drawing 1=background, 2=cell, 3=blurry regions so that the classifier can better differentiate between cell and blurry regions."
   ]
  },
  {
   "cell_type": "code",
   "execution_count": null,
   "id": "a8905c23",
   "metadata": {},
   "outputs": [],
   "source": [
    "# if not installed yet:\n",
    "!pip install napari[all]"
   ]
  },
  {
   "cell_type": "code",
   "execution_count": null,
   "id": "institutional-harvey",
   "metadata": {
    "id": "institutional-harvey"
   },
   "outputs": [],
   "source": [
    "%gui qt\n",
    "import napari\n",
    "\n",
    "# start napari\n",
    "viewer = napari.Viewer()"
   ]
  },
  {
   "cell_type": "code",
   "execution_count": null,
   "id": "0dafec82",
   "metadata": {},
   "outputs": [],
   "source": [
    "viewer.add_image(img)\n",
    "labels = viewer.add_labels(np.zeros(img.shape,dtype='uint8'))\n"
   ]
  },
  {
   "cell_type": "markdown",
   "id": "187b10ab",
   "metadata": {},
   "source": [
    "## Now open the napari viewer and draw (it doesnt need many labels)"
   ]
  },
  {
   "cell_type": "code",
   "execution_count": null,
   "id": "94eb20f0",
   "metadata": {},
   "outputs": [],
   "source": []
  },
  {
   "cell_type": "markdown",
   "id": "40f1e829",
   "metadata": {},
   "source": [
    "## Are you done with drawing for now?\n",
    "\n",
    "Retrieve the annotations from the napari layer:"
   ]
  },
  {
   "cell_type": "code",
   "execution_count": null,
   "id": "1fbf6f10",
   "metadata": {},
   "outputs": [],
   "source": [
    "# get the drawings first\n",
    "manual_annotations = labels.data\n",
    "\n",
    "# and immediately save them\n",
    "imsave(save_path+GT_fn, manual_annotations)\n",
    "imshow(manual_annotations, vmin=0, vmax=3)"
   ]
  },
  {
   "cell_type": "markdown",
   "id": "crude-figure",
   "metadata": {
    "id": "crude-figure"
   },
   "source": [
    "# Training can begin\n",
    "go to the script: Train_RFC.py"
   ]
  }
 ],
 "metadata": {
  "colab": {
   "provenance": []
  },
  "kernelspec": {
   "display_name": "Python 3 (ipykernel)",
   "language": "python",
   "name": "python3"
  },
  "language_info": {
   "codemirror_mode": {
    "name": "ipython",
    "version": 3
   },
   "file_extension": ".py",
   "mimetype": "text/x-python",
   "name": "python",
   "nbconvert_exporter": "python",
   "pygments_lexer": "ipython3",
   "version": "3.9.13"
  }
 },
 "nbformat": 4,
 "nbformat_minor": 5
}
