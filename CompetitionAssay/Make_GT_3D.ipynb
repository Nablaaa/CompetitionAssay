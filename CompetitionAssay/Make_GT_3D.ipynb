{
 "cells": [
  {
   "cell_type": "code",
   "execution_count": null,
   "metadata": {},
   "outputs": [],
   "source": [
    "from skimage.io import imsave\n",
    "import numpy as np\n"
   ]
  },
  {
   "cell_type": "markdown",
   "metadata": {},
   "source": [
    "# Define input path"
   ]
  },
  {
   "cell_type": "code",
   "execution_count": null,
   "metadata": {},
   "outputs": [],
   "source": [
    "# path to the folder containing the images of a certain channel\n",
    "\n",
    "filepath = '/media/eric/WD_Elements/EPFL-data/Lucas/'\n",
    "\n",
    "\n",
    "Z_slices = 19\n",
    "xdim = 1200\n",
    "ydim = 1200\n",
    "\n",
    "# input can be a 3D time series, but only one channel (T, Z, X, Y)\n",
    "fn_channel = 'green_20230920_AirGel_WTmSc_dwspFmN_mix_LAM02J-L_CIP_5.5hpi_23.5h.nd...el_WTmSc_dwspFmN_mix_LAM02J-L_CIP_5.5hpi_23.5h.nd2 (series 08) - C=0.tif'\n",
    "\n",
    "channel_name = \"green\" # rename it to WT or wsp or whatever mutant\n",
    "\n",
    "\n",
    "\n",
    "\n",
    "full_fn = filepath + fn_channel\n",
    "\n",
    "# if orange endswith .nd2 then import pims_nd2\n",
    "if full_fn.endswith('.nd2'):\n",
    "    !pip install pims_nd2\n",
    "    import pims_nd2 as pims\n",
    "\n",
    "else:\n",
    "    !pip install pims\n",
    "    import pims\n"
   ]
  },
  {
   "cell_type": "code",
   "execution_count": null,
   "metadata": {},
   "outputs": [],
   "source": [
    "import napari\n",
    "%gui qt\n",
    "\n",
    "def Draw_and_Save(img,output_dir,output_fn):\n",
    "    viewer = napari.Viewer()\n",
    "    viewer.add_image(img)\n",
    "    labels = viewer.add_labels(np.zeros(img.shape,dtype='uint8'))\n",
    "\n",
    "    print(\"before block\")\n",
    "    viewer.show(block=True)\n",
    "\n",
    "    print(\"after block\")\n",
    "    # get the drawings first\n",
    "    manual_annotations = labels.data\n",
    "\n",
    "    # save the drawings\n",
    "    manual_labels_filename = output_dir + '/' + output_fn\n",
    "    imsave(manual_labels_filename, manual_annotations, check_contrast=False)\n",
    "    viewer.close()\n",
    "    del viewer, labels, manual_annotations\n"
   ]
  },
  {
   "cell_type": "markdown",
   "metadata": {},
   "source": [
    "# Prepare GT and save it together with the image"
   ]
  },
  {
   "cell_type": "code",
   "execution_count": null,
   "metadata": {},
   "outputs": [],
   "source": [
    "data_dir = '../data_3D/'"
   ]
  },
  {
   "cell_type": "code",
   "execution_count": null,
   "metadata": {},
   "outputs": [],
   "source": [
    "# create output directory\n",
    "import os\n",
    "if not os.path.exists(data_dir):\n",
    "    os.makedirs(data_dir)\n",
    "\n",
    "if not os.path.exists(data_dir + channel_name):\n",
    "    os.makedirs(data_dir + channel_name + \"GT\")\n",
    "    os.makedirs(data_dir + channel_name + \"RAW\")\n"
   ]
  },
  {
   "cell_type": "code",
   "execution_count": null,
   "metadata": {},
   "outputs": [],
   "source": [
    "stack_seq = pims.open(fn_channel)\n",
    "\n",
    "timestep = 0\n",
    "counter = 0\n",
    "for t, img_slice in enumerate(stack_seq):\n",
    "    \n",
    "\n",
    "    # iterate through all z slices and stack them together\n",
    "    if np.mod(t,Z_slices) == 0:\n",
    "        # prepare empty array with the same dtype as the first image\n",
    "        counter = 0\n",
    "        img_stack = np.zeros((Z_slices,xdim,ydim))\n",
    "\n",
    "    img_stack[counter,:,:] = img_slice\n",
    "\n",
    "    if np.mod(t,Z_slices) == Z_slices-1:\n",
    "        print(\"Timestep: \", timestep)\n",
    "\n",
    "        # now there is a 3D image stack of 19 slices\n",
    "        # use napari to draw the segmentation, then save it\n",
    "        Draw_and_Save(img_stack, data_dir + channel_name + \"GT/\", 'T_'+str(timestep).zfill(3)+ '_' + fn_channel)\n",
    "        imsave(data_dir + channel_name + \"RAW/\" + 'T_'+str(timestep).zfill(3)+  '_' + fn_channel , img_stack,check_contrast=False)\n",
    "\n",
    "        del img_stack\n",
    "\n",
    "        timestep += 1\n",
    "\n",
    "    counter += 1\n",
    "\n"
   ]
  }
 ],
 "metadata": {
  "language_info": {
   "name": "python"
  },
  "orig_nbformat": 4
 },
 "nbformat": 4,
 "nbformat_minor": 2
}
