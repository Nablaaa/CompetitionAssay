{
 "cells": [
  {
   "cell_type": "code",
   "execution_count": 17,
   "id": "extreme-papua",
   "metadata": {
    "id": "extreme-papua"
   },
   "outputs": [],
   "source": [
    "from skimage.io import imsave\n",
    "import os\n",
    "import numpy as np\n",
    "import pickle\n",
    "from skimage import filters\n",
    "import time"
   ]
  },
  {
   "cell_type": "code",
   "execution_count": 14,
   "id": "99b7fe2e",
   "metadata": {},
   "outputs": [
    {
     "name": "stdout",
     "output_type": "stream",
     "text": [
      "Requirement already satisfied: pims in /home/eric/miniconda3/envs/devbio-napari-env/lib/python3.9/site-packages (0.6.1)\n",
      "Requirement already satisfied: imageio in /home/eric/miniconda3/envs/devbio-napari-env/lib/python3.9/site-packages (from pims) (2.22.0)\n",
      "Requirement already satisfied: slicerator>=0.9.8 in /home/eric/miniconda3/envs/devbio-napari-env/lib/python3.9/site-packages (from pims) (1.1.0)\n",
      "Requirement already satisfied: numpy>=1.19 in /home/eric/miniconda3/envs/devbio-napari-env/lib/python3.9/site-packages (from pims) (1.23.5)\n",
      "Requirement already satisfied: pillow>=8.3.2 in /home/eric/miniconda3/envs/devbio-napari-env/lib/python3.9/site-packages (from imageio->pims) (9.2.0)\n"
     ]
    }
   ],
   "source": [
    "# path to the folder containing the images of a certain channel\n",
    "\n",
    "filepath = '/media/eric/WD_Elements/EPFL-data/Lucas/'\n",
    "fn_channel = 'green_20230920_AirGel_WTmSc_dwspFmN_mix_LAM02J-L_CIP_5.5hpi_23.5h.nd...el_WTmSc_dwspFmN_mix_LAM02J-L_CIP_5.5hpi_23.5h.nd2 (series 08) - C=0.tif'\n",
    "channel_name = \"green\"\n",
    "\n",
    "Z_slices = 19\n",
    "xdim = 1200\n",
    "ydim = 1200\n",
    "\n",
    "visualize = False\n",
    "\n",
    "model_filename = '../models/RFC_3D/model_for_3D_data.pkl'\n",
    "segmentation_output_dir = '../data_3D/' + channel_name + '/segmentation_output/'\n",
    "\n",
    "if not os.path.exists(segmentation_output_dir):\n",
    "    os.makedirs(segmentation_output_dir)\n",
    "\n",
    "full_fn = filepath + fn_channel\n",
    "\n",
    "# if full_fn endswith .nd2 then import pims_nd2\n",
    "if full_fn.endswith('.nd2'):\n",
    "    !pip install pims_nd2\n",
    "    import pims_nd2 as pims\n",
    "\n",
    "else:\n",
    "    !pip install pims\n",
    "    import pims\n",
    "\n",
    "if visualize:\n",
    "    import napari\n",
    "    %gui qt"
   ]
  },
  {
   "cell_type": "code",
   "execution_count": 15,
   "id": "liberal-monster",
   "metadata": {
    "id": "liberal-monster",
    "outputId": "9ab5e9d7-1c36-4c37-bec9-ab69c39289a0"
   },
   "outputs": [],
   "source": [
    "\n",
    "def generate_feature_stack(image):\n",
    "    # determine features\n",
    "    blurred = filters.gaussian(image, sigma=2)\n",
    "    edges = filters.sobel(blurred)\n",
    "\n",
    "    # collect features in a stack\n",
    "    # The ravel() function turns a nD image into a 1-D image.\n",
    "    # We need to use it because scikit-learn expects values in a 1-D format here.\n",
    "    feature_stack = [\n",
    "        image.ravel(),\n",
    "        blurred.ravel(),\n",
    "        edges.ravel()\n",
    "    ]\n",
    "\n",
    "    # return stack as numpy-array\n",
    "    return np.asarray(feature_stack)\n"
   ]
  },
  {
   "cell_type": "markdown",
   "id": "d3adf714",
   "metadata": {
    "id": "strong-throat"
   },
   "source": [
    "# Use napari for visualization"
   ]
  },
  {
   "cell_type": "code",
   "execution_count": 16,
   "id": "institutional-harvey",
   "metadata": {
    "id": "institutional-harvey"
   },
   "outputs": [],
   "source": [
    "def MakePrediction(img, img_shape,model):\n",
    "    # process the whole image and show result\n",
    "    result_1d = model.predict(img.T)\n",
    "    result_3d = result_1d.reshape(img_shape)\n",
    "    result_3d = result_3d\n",
    "    result_3d[result_3d ==3]=0 # make background 0\n",
    "    #delete unused variables\n",
    "    del result_1d, img, img_shape\n",
    "    return result_3d\n",
    "\n",
    "def ShowNapari(img, prediction):\n",
    "    \n",
    "    viewer = napari.Viewer()\n",
    "    viewer.add_image(img)\n",
    "    viewer.add_labels(prediction)\n",
    "\n",
    "    viewer.show(block=True)\n",
    "    viewer.close()\n",
    "\n",
    "\n"
   ]
  },
  {
   "cell_type": "code",
   "execution_count": 18,
   "id": "4f21e32c",
   "metadata": {},
   "outputs": [
    {
     "name": "stdout",
     "output_type": "stream",
     "text": [
      "Timestep:  0\n",
      "it took  49.61208486557007  seconds to process this timestep\n",
      "Timestep:  1\n",
      "it took  51.51386475563049  seconds to process this timestep\n",
      "Timestep:  2\n",
      "it took  54.104984998703  seconds to process this timestep\n",
      "Timestep:  3\n",
      "it took  54.5662055015564  seconds to process this timestep\n",
      "Timestep:  4\n",
      "it took  54.02252221107483  seconds to process this timestep\n",
      "Timestep:  5\n"
     ]
    }
   ],
   "source": [
    "\n",
    "model = pickle.load(open(model_filename, 'rb'))\n",
    "stack_seq = pims.open(full_fn)\n",
    "\n",
    "\n",
    "timestep = 0\n",
    "counter = 0\n",
    "\n",
    "ref_time = time.time()\n",
    "\n",
    "for t, img in enumerate(stack_seq):    \n",
    "\n",
    "    # iterate through all z slices and stack them together\n",
    "    if np.mod(t,Z_slices) == 0:\n",
    "        # prepare empty array with the same dtype as the first image\n",
    "        counter = 0\n",
    "        img_stack = np.zeros((Z_slices,xdim,ydim))\n",
    "\n",
    "    img_stack[counter,:,:] = img\n",
    "\n",
    "    if np.mod(t,Z_slices) == Z_slices-1:\n",
    "        print(\"Timestep: \", timestep)\n",
    "\n",
    "\n",
    "        feature_stack = generate_feature_stack(img_stack)\n",
    "        img_shape = img_stack.shape\n",
    "\n",
    "        prediction = MakePrediction(feature_stack, img_shape,model)\n",
    "\n",
    "        # 1 is the label for the cells, 2 is blurry stuff, 3 is background\n",
    "        prediction[prediction != 1] = 0\n",
    "\n",
    "        del feature_stack\n",
    "        if visualize:\n",
    "            ShowNapari(img_stack, prediction)\n",
    "            \n",
    "        del img_stack\n",
    "\n",
    "        imsave(segmentation_output_dir + 'T_'+str(timestep).zfill(3)+  '_' + fn_channel , prediction,check_contrast=False)\n",
    "        del prediction\n",
    "\n",
    "        timestep += 1\n",
    "        print(\"it took \", np.round(time.time()-ref_time,0), \" seconds to process this timestep\")\n",
    "        ref_time = time.time()\n",
    "\n",
    "    counter += 1\n",
    "\n"
   ]
  }
 ],
 "metadata": {
  "colab": {
   "provenance": []
  },
  "kernelspec": {
   "display_name": "Python 3 (ipykernel)",
   "language": "python",
   "name": "python3"
  },
  "language_info": {
   "codemirror_mode": {
    "name": "ipython",
    "version": 3
   },
   "file_extension": ".py",
   "mimetype": "text/x-python",
   "name": "python",
   "nbconvert_exporter": "python",
   "pygments_lexer": "ipython3",
   "version": "3.9.13"
  }
 },
 "nbformat": 4,
 "nbformat_minor": 5
}
