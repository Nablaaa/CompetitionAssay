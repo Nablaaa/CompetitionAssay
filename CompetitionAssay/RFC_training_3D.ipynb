{
 "cells": [
  {
   "cell_type": "markdown",
   "id": "suffering-festival",
   "metadata": {
    "id": "suffering-festival"
   },
   "source": [
    "# Pixel classification using Scikit image\n",
    "Pixel classification is a technique for assigning pixels to multiple classes. If there are two classes (object and background), we are talking about binarization. In this example we use a [random forest classifier](https://en.wikipedia.org/wiki/Random_forest) for pixel classification.\n",
    "\n",
    "See also\n",
    "* [Scikit-image random forest](https://scikit-learn.org/stable/modules/generated/sklearn.ensemble.RandomForestClassifier.html)\n",
    "* [Classification of land cover by Chris Holden](https://ceholden.github.io/open-geo-tutorial/python/chapter_5_classification.html)\n"
   ]
  },
  {
   "cell_type": "code",
   "execution_count": 2,
   "id": "4e6ac9ba",
   "metadata": {},
   "outputs": [
    {
     "name": "stdout",
     "output_type": "stream",
     "text": [
      "Collecting scikit-image\n",
      "  Downloading scikit_image-0.22.0-cp312-cp312-manylinux_2_17_x86_64.manylinux2014_x86_64.whl.metadata (13 kB)\n",
      "Collecting numpy>=1.22 (from scikit-image)\n",
      "  Downloading numpy-1.26.1-cp312-cp312-manylinux_2_17_x86_64.manylinux2014_x86_64.whl.metadata (61 kB)\n",
      "\u001b[2K     \u001b[90m━━━━━━━━━━━━━━━━━━━━━━━━━━━━━━━━━━━━━━━━\u001b[0m \u001b[32m61.2/61.2 kB\u001b[0m \u001b[31m1.2 MB/s\u001b[0m eta \u001b[36m0:00:00\u001b[0ma \u001b[36m0:00:01\u001b[0m\n",
      "\u001b[?25hCollecting scipy>=1.8 (from scikit-image)\n",
      "  Downloading scipy-1.11.3-cp312-cp312-manylinux_2_17_x86_64.manylinux2014_x86_64.whl.metadata (60 kB)\n",
      "\u001b[2K     \u001b[90m━━━━━━━━━━━━━━━━━━━━━━━━━━━━━━━━━━━━━━━━\u001b[0m \u001b[32m60.4/60.4 kB\u001b[0m \u001b[31m1.6 MB/s\u001b[0m eta \u001b[36m0:00:00\u001b[0ma \u001b[36m0:00:01\u001b[0m\n",
      "\u001b[?25hCollecting networkx>=2.8 (from scikit-image)\n",
      "  Downloading networkx-3.2-py3-none-any.whl.metadata (5.2 kB)\n",
      "Collecting pillow>=9.0.1 (from scikit-image)\n",
      "  Downloading Pillow-10.1.0-cp312-cp312-manylinux_2_28_x86_64.whl.metadata (9.5 kB)\n",
      "Collecting imageio>=2.27 (from scikit-image)\n",
      "  Downloading imageio-2.31.6-py3-none-any.whl.metadata (4.6 kB)\n",
      "Collecting tifffile>=2022.8.12 (from scikit-image)\n",
      "  Downloading tifffile-2023.9.26-py3-none-any.whl.metadata (30 kB)\n",
      "Requirement already satisfied: packaging>=21 in /home/eschmidt/miniconda3/envs/competition_env/lib/python3.12/site-packages (from scikit-image) (23.2)\n",
      "Collecting lazy_loader>=0.3 (from scikit-image)\n",
      "  Downloading lazy_loader-0.3-py3-none-any.whl.metadata (4.3 kB)\n",
      "Collecting pillow>=9.0.1 (from scikit-image)\n",
      "  Downloading Pillow-10.0.1-cp312-cp312-manylinux_2_28_x86_64.whl.metadata (9.5 kB)\n",
      "Downloading scikit_image-0.22.0-cp312-cp312-manylinux_2_17_x86_64.manylinux2014_x86_64.whl (15.0 MB)\n",
      "\u001b[2K   \u001b[90m━━━━━━━━━━━━━━━━━━━━━━━━━━━━━━━━━━━━━━━━\u001b[0m \u001b[32m15.0/15.0 MB\u001b[0m \u001b[31m3.8 MB/s\u001b[0m eta \u001b[36m0:00:00\u001b[0m00:01\u001b[0m00:01\u001b[0m\n",
      "\u001b[?25hDownloading imageio-2.31.6-py3-none-any.whl (313 kB)\n",
      "\u001b[2K   \u001b[90m━━━━━━━━━━━━━━━━━━━━━━━━━━━━━━━━━━━━━━━━\u001b[0m \u001b[32m313.2/313.2 kB\u001b[0m \u001b[31m4.2 MB/s\u001b[0m eta \u001b[36m0:00:00\u001b[0m00:01\u001b[0m00:01\u001b[0m\n",
      "\u001b[?25hDownloading lazy_loader-0.3-py3-none-any.whl (9.1 kB)\n",
      "Downloading networkx-3.2-py3-none-any.whl (1.6 MB)\n",
      "\u001b[2K   \u001b[90m━━━━━━━━━━━━━━━━━━━━━━━━━━━━━━━━━━━━━━━━\u001b[0m \u001b[32m1.6/1.6 MB\u001b[0m \u001b[31m4.5 MB/s\u001b[0m eta \u001b[36m0:00:00\u001b[0m00:01\u001b[0m00:01\u001b[0m\n",
      "\u001b[?25hDownloading numpy-1.26.1-cp312-cp312-manylinux_2_17_x86_64.manylinux2014_x86_64.whl (17.9 MB)\n",
      "\u001b[2K   \u001b[90m━━━━━━━━━━━━━━━━━━━━━━━━━━━━━━━━━━━━━━━━\u001b[0m \u001b[32m17.9/17.9 MB\u001b[0m \u001b[31m3.9 MB/s\u001b[0m eta \u001b[36m0:00:00\u001b[0m00:01\u001b[0m00:01\u001b[0m\n",
      "\u001b[?25hDownloading Pillow-10.0.1-cp312-cp312-manylinux_2_28_x86_64.whl (3.6 MB)\n",
      "\u001b[2K   \u001b[90m━━━━━━━━━━━━━━━━━━━━━━━━━━━━━━━━━━━━━━━━\u001b[0m \u001b[32m3.6/3.6 MB\u001b[0m \u001b[31m3.7 MB/s\u001b[0m eta \u001b[36m0:00:00\u001b[0m00:01\u001b[0m00:01\u001b[0m\n",
      "\u001b[?25hDownloading scipy-1.11.3-cp312-cp312-manylinux_2_17_x86_64.manylinux2014_x86_64.whl (35.7 MB)\n",
      "\u001b[2K   \u001b[90m━━━━━━━━━━━━━━━━━━━━━━━━━━━━━━━━━━━━━━━━\u001b[0m \u001b[32m35.7/35.7 MB\u001b[0m \u001b[31m4.3 MB/s\u001b[0m eta \u001b[36m0:00:00\u001b[0m00:01\u001b[0m00:01\u001b[0m\n",
      "\u001b[?25hDownloading tifffile-2023.9.26-py3-none-any.whl (222 kB)\n",
      "\u001b[2K   \u001b[90m━━━━━━━━━━━━━━━━━━━━━━━━━━━━━━━━━━━━━━━━\u001b[0m \u001b[32m222.9/222.9 kB\u001b[0m \u001b[31m2.8 MB/s\u001b[0m eta \u001b[36m0:00:00\u001b[0ma \u001b[36m0:00:01\u001b[0m\n",
      "\u001b[?25hInstalling collected packages: pillow, numpy, networkx, lazy_loader, tifffile, scipy, imageio, scikit-image\n",
      "Successfully installed imageio-2.31.6 lazy_loader-0.3 networkx-3.2 numpy-1.26.1 pillow-10.0.1 scikit-image-0.22.0 scipy-1.11.3 tifffile-2023.9.26\n",
      "Collecting scikit-learn\n",
      "  Downloading scikit_learn-1.3.2-cp312-cp312-manylinux_2_17_x86_64.manylinux2014_x86_64.whl.metadata (11 kB)\n",
      "Requirement already satisfied: numpy<2.0,>=1.17.3 in /home/eschmidt/miniconda3/envs/competition_env/lib/python3.12/site-packages (from scikit-learn) (1.26.1)\n",
      "Requirement already satisfied: scipy>=1.5.0 in /home/eschmidt/miniconda3/envs/competition_env/lib/python3.12/site-packages (from scikit-learn) (1.11.3)\n",
      "Collecting joblib>=1.1.1 (from scikit-learn)\n",
      "  Downloading joblib-1.3.2-py3-none-any.whl.metadata (5.4 kB)\n",
      "Collecting threadpoolctl>=2.0.0 (from scikit-learn)\n",
      "  Downloading threadpoolctl-3.2.0-py3-none-any.whl.metadata (10.0 kB)\n",
      "Downloading scikit_learn-1.3.2-cp312-cp312-manylinux_2_17_x86_64.manylinux2014_x86_64.whl (10.8 MB)\n",
      "\u001b[2K   \u001b[90m━━━━━━━━━━━━━━━━━━━━━━━━━━━━━━━━━━━━━━━━\u001b[0m \u001b[32m10.8/10.8 MB\u001b[0m \u001b[31m4.3 MB/s\u001b[0m eta \u001b[36m0:00:00\u001b[0m00:01\u001b[0m00:01\u001b[0m\n",
      "\u001b[?25hDownloading joblib-1.3.2-py3-none-any.whl (302 kB)\n",
      "\u001b[2K   \u001b[90m━━━━━━━━━━━━━━━━━━━━━━━━━━━━━━━━━━━━━━━━\u001b[0m \u001b[32m302.2/302.2 kB\u001b[0m \u001b[31m3.9 MB/s\u001b[0m eta \u001b[36m0:00:00\u001b[0m00:01\u001b[0m00:01\u001b[0m\n",
      "\u001b[?25hDownloading threadpoolctl-3.2.0-py3-none-any.whl (15 kB)\n",
      "Installing collected packages: threadpoolctl, joblib, scikit-learn\n",
      "Successfully installed joblib-1.3.2 scikit-learn-1.3.2 threadpoolctl-3.2.0\n",
      "Collecting napari[all]\n",
      "  Downloading napari-0.4.18-py3-none-any.whl.metadata (14 kB)\n",
      "Collecting appdirs>=1.4.4 (from napari[all])\n",
      "  Downloading appdirs-1.4.4-py2.py3-none-any.whl (9.6 kB)\n",
      "Collecting app-model<0.3.0,>=0.1.0 (from napari[all])\n",
      "  Downloading app_model-0.2.2-py3-none-any.whl.metadata (3.3 kB)\n",
      "Collecting cachey>=0.2.1 (from napari[all])\n",
      "  Downloading cachey-0.2.1-py3-none-any.whl (6.4 kB)\n",
      "Requirement already satisfied: certifi>=2018.1.18 in /home/eschmidt/miniconda3/envs/competition_env/lib/python3.12/site-packages (from napari[all]) (2023.7.22)\n",
      "Collecting dask!=2.28.0,>=2.15.0 (from dask[array]!=2.28.0,>=2.15.0->napari[all])\n",
      "  Downloading dask-2023.10.0-py3-none-any.whl.metadata (3.6 kB)\n",
      "Requirement already satisfied: imageio!=2.22.1,>=2.20 in /home/eschmidt/miniconda3/envs/competition_env/lib/python3.12/site-packages (from napari[all]) (2.31.6)\n",
      "Requirement already satisfied: jsonschema>=3.2.0 in /home/eschmidt/miniconda3/envs/competition_env/lib/python3.12/site-packages (from napari[all]) (4.19.1)\n",
      "Requirement already satisfied: lazy-loader>=0.2 in /home/eschmidt/miniconda3/envs/competition_env/lib/python3.12/site-packages (from napari[all]) (0.3)\n",
      "Collecting magicgui>=0.3.6 (from napari[all])\n",
      "  Downloading magicgui-0.8.0-py3-none-any.whl.metadata (8.3 kB)\n",
      "Collecting napari-console>=0.0.6 (from napari[all])\n",
      "  Downloading napari_console-0.0.9-py3-none-any.whl.metadata (3.5 kB)\n",
      "Collecting napari-plugin-engine>=0.1.9 (from napari[all])\n",
      "  Downloading napari_plugin_engine-0.2.0-py3-none-any.whl (33 kB)\n",
      "Collecting napari-svg>=0.1.7 (from napari[all])\n",
      "  Downloading napari_svg-0.1.10-py3-none-any.whl.metadata (3.5 kB)\n",
      "Collecting npe2>=0.5.2 (from napari[all])\n",
      "  Downloading npe2-0.7.3-py3-none-any.whl.metadata (3.1 kB)\n",
      "Requirement already satisfied: numpy>=1.21 in /home/eschmidt/miniconda3/envs/competition_env/lib/python3.12/site-packages (from napari[all]) (1.26.1)\n",
      "Collecting numpydoc>=0.9.2 (from napari[all])\n",
      "  Downloading numpydoc-1.6.0-py3-none-any.whl.metadata (4.2 kB)\n",
      "Requirement already satisfied: Pillow!=7.1.0,!=7.1.1 in /home/eschmidt/miniconda3/envs/competition_env/lib/python3.12/site-packages (from napari[all]) (10.0.1)\n",
      "Collecting pint>=0.17 (from napari[all])\n",
      "  Downloading Pint-0.22-py3-none-any.whl.metadata (7.7 kB)\n",
      "Requirement already satisfied: psutil>=5.0 in /home/eschmidt/miniconda3/envs/competition_env/lib/python3.12/site-packages (from napari[all]) (5.9.6)\n",
      "Collecting psygnal>=0.3.4 (from napari[all])\n",
      "  Downloading psygnal-0.9.4-py3-none-any.whl.metadata (6.8 kB)\n",
      "Collecting pydantic<2,>=1.9.0 (from napari[all])\n",
      "  Downloading pydantic-1.10.13-py3-none-any.whl.metadata (149 kB)\n",
      "\u001b[2K     \u001b[90m━━━━━━━━━━━━━━━━━━━━━━━━━━━━━━━━━━━━━━━\u001b[0m \u001b[32m149.6/149.6 kB\u001b[0m \u001b[31m2.9 MB/s\u001b[0m eta \u001b[36m0:00:00\u001b[0ma \u001b[36m0:00:01\u001b[0m\n",
      "\u001b[?25hRequirement already satisfied: pygments>=2.6.0 in /home/eschmidt/miniconda3/envs/competition_env/lib/python3.12/site-packages (from napari[all]) (2.16.1)\n",
      "Collecting PyOpenGL>=3.1.0 (from napari[all])\n",
      "  Downloading PyOpenGL-3.1.7-py3-none-any.whl.metadata (3.2 kB)\n",
      "Requirement already satisfied: PyYAML>=5.1 in /home/eschmidt/miniconda3/envs/competition_env/lib/python3.12/site-packages (from napari[all]) (6.0.1)\n",
      "Requirement already satisfied: qtpy>=1.10.0 in /home/eschmidt/miniconda3/envs/competition_env/lib/python3.12/site-packages (from napari[all]) (2.4.1)\n",
      "Requirement already satisfied: scikit-image>=0.19.1 in /home/eschmidt/miniconda3/envs/competition_env/lib/python3.12/site-packages (from scikit-image[data]>=0.19.1->napari[all]) (0.22.0)\n",
      "Collecting sphinx<5,>=4.3.0 (from napari[all])\n",
      "  Downloading Sphinx-4.5.0-py3-none-any.whl (3.1 MB)\n",
      "\u001b[2K     \u001b[90m━━━━━━━━━━━━━━━━━━━━━━━━━━━━━━━━━━━━━━━━\u001b[0m \u001b[32m3.1/3.1 MB\u001b[0m \u001b[31m5.6 MB/s\u001b[0m eta \u001b[36m0:00:00\u001b[0m00:01\u001b[0m00:01\u001b[0m\n",
      "\u001b[?25hCollecting superqt>=0.4.1 (from napari[all])\n",
      "  Downloading superqt-0.6.1-py3-none-any.whl.metadata (5.7 kB)\n",
      "Requirement already satisfied: tifffile>=2020.2.16 in /home/eschmidt/miniconda3/envs/competition_env/lib/python3.12/site-packages (from napari[all]) (2023.9.26)\n",
      "Collecting toolz>=0.10.0 (from napari[all])\n",
      "  Downloading toolz-0.12.0-py3-none-any.whl (55 kB)\n",
      "\u001b[2K     \u001b[90m━━━━━━━━━━━━━━━━━━━━━━━━━━━━━━━━━━━━━━━━\u001b[0m \u001b[32m55.8/55.8 kB\u001b[0m \u001b[31m2.4 MB/s\u001b[0m eta \u001b[36m0:00:00\u001b[0m\n",
      "\u001b[?25hCollecting tqdm>=4.56.0 (from napari[all])\n",
      "  Downloading tqdm-4.66.1-py3-none-any.whl.metadata (57 kB)\n",
      "\u001b[2K     \u001b[90m━━━━━━━━━━━━━━━━━━━━━━━━━━━━━━━━━━━━━━━━\u001b[0m \u001b[32m57.6/57.6 kB\u001b[0m \u001b[31m1.9 MB/s\u001b[0m eta \u001b[36m0:00:00\u001b[0m\n",
      "\u001b[?25hCollecting typing-extensions>=4.2.0 (from napari[all])\n",
      "  Downloading typing_extensions-4.8.0-py3-none-any.whl.metadata (3.0 kB)\n",
      "Collecting vispy<0.13,>=0.12.1 (from napari[all])\n",
      "  Downloading vispy-0.12.2.tar.gz (2.5 MB)\n",
      "\u001b[2K     \u001b[90m━━━━━━━━━━━━━━━━━━━━━━━━━━━━━━━━━━━━━━━━\u001b[0m \u001b[32m2.5/2.5 MB\u001b[0m \u001b[31m8.2 MB/s\u001b[0m eta \u001b[36m0:00:00\u001b[0m00:01\u001b[0m00:01\u001b[0m\n",
      "\u001b[?25h  Installing build dependencies ... \u001b[?25ldone\n",
      "\u001b[?25h  Getting requirements to build wheel ... \u001b[?25ldone\n",
      "\u001b[?25h  Preparing metadata (pyproject.toml) ... \u001b[?25ldone\n",
      "\u001b[?25hCollecting wrapt>=1.11.1 (from napari[all])\n",
      "  Downloading wrapt-1.15.0-py3-none-any.whl (22 kB)\n",
      "Collecting pandas>=1.3.0 (from napari[all])\n",
      "  Downloading pandas-2.1.2-cp312-cp312-manylinux_2_17_x86_64.manylinux2014_x86_64.whl.metadata (18 kB)\n",
      "Requirement already satisfied: scipy>=1.5.4 in /home/eschmidt/miniconda3/envs/competition_env/lib/python3.12/site-packages (from napari[all]) (1.11.3)\n",
      "Collecting PyQt5!=5.15.0,>=5.12.3 (from napari[all])\n",
      "  Downloading PyQt5-5.15.10-cp37-abi3-manylinux_2_17_x86_64.whl.metadata (2.1 kB)\n",
      "Collecting napari-plugin-manager<0.2.0,>=0.1.0a1 (from napari[all])\n",
      "  Downloading napari_plugin_manager-0.1.0a2-py3-none-any.whl.metadata (4.9 kB)\n",
      "Collecting in-n-out>=0.1.5 (from app-model<0.3.0,>=0.1.0->napari[all])\n",
      "  Downloading in_n_out-0.1.9-py3-none-any.whl.metadata (3.8 kB)\n",
      "Collecting heapdict (from cachey>=0.2.1->napari[all])\n",
      "  Downloading HeapDict-1.0.1-py3-none-any.whl (3.9 kB)\n",
      "Collecting click>=8.0 (from dask!=2.28.0,>=2.15.0->dask[array]!=2.28.0,>=2.15.0->napari[all])\n",
      "  Downloading click-8.1.7-py3-none-any.whl.metadata (3.0 kB)\n",
      "Collecting cloudpickle>=1.5.0 (from dask!=2.28.0,>=2.15.0->dask[array]!=2.28.0,>=2.15.0->napari[all])\n",
      "  Downloading cloudpickle-3.0.0-py3-none-any.whl.metadata (7.0 kB)\n",
      "Collecting fsspec>=2021.09.0 (from dask!=2.28.0,>=2.15.0->dask[array]!=2.28.0,>=2.15.0->napari[all])\n",
      "  Downloading fsspec-2023.10.0-py3-none-any.whl.metadata (6.8 kB)\n",
      "Requirement already satisfied: packaging>=20.0 in /home/eschmidt/miniconda3/envs/competition_env/lib/python3.12/site-packages (from dask!=2.28.0,>=2.15.0->dask[array]!=2.28.0,>=2.15.0->napari[all]) (23.2)\n",
      "Collecting partd>=1.2.0 (from dask!=2.28.0,>=2.15.0->dask[array]!=2.28.0,>=2.15.0->napari[all])\n",
      "  Downloading partd-1.4.1-py3-none-any.whl.metadata (4.6 kB)\n",
      "Collecting importlib-metadata>=4.13.0 (from dask!=2.28.0,>=2.15.0->dask[array]!=2.28.0,>=2.15.0->napari[all])\n",
      "  Downloading importlib_metadata-6.8.0-py3-none-any.whl.metadata (5.1 kB)\n",
      "Requirement already satisfied: attrs>=22.2.0 in /home/eschmidt/miniconda3/envs/competition_env/lib/python3.12/site-packages (from jsonschema>=3.2.0->napari[all]) (23.1.0)\n",
      "Requirement already satisfied: jsonschema-specifications>=2023.03.6 in /home/eschmidt/miniconda3/envs/competition_env/lib/python3.12/site-packages (from jsonschema>=3.2.0->napari[all]) (2023.7.1)\n",
      "Requirement already satisfied: referencing>=0.28.4 in /home/eschmidt/miniconda3/envs/competition_env/lib/python3.12/site-packages (from jsonschema>=3.2.0->napari[all]) (0.30.2)\n",
      "Requirement already satisfied: rpds-py>=0.7.1 in /home/eschmidt/miniconda3/envs/competition_env/lib/python3.12/site-packages (from jsonschema>=3.2.0->napari[all]) (0.10.6)\n",
      "Collecting docstring-parser>=0.7 (from magicgui>=0.3.6->napari[all])\n",
      "  Downloading docstring_parser-0.15-py3-none-any.whl (36 kB)\n",
      "Requirement already satisfied: IPython>=7.7.0 in /home/eschmidt/miniconda3/envs/competition_env/lib/python3.12/site-packages (from napari-console>=0.0.6->napari[all]) (8.16.1)\n",
      "Requirement already satisfied: ipykernel>=5.2.0 in /home/eschmidt/miniconda3/envs/competition_env/lib/python3.12/site-packages (from napari-console>=0.0.6->napari[all]) (6.26.0)\n",
      "Requirement already satisfied: qtconsole!=4.7.6,!=5.4.2,>=4.5.1 in /home/eschmidt/miniconda3/envs/competition_env/lib/python3.12/site-packages (from napari-console>=0.0.6->napari[all]) (5.4.4)\n",
      "Requirement already satisfied: pip in /home/eschmidt/miniconda3/envs/competition_env/lib/python3.12/site-packages (from napari-plugin-manager<0.2.0,>=0.1.0a1->napari[all]) (23.3)\n",
      "Collecting build>=1 (from npe2>=0.5.2->napari[all])\n",
      "  Downloading build-1.0.3-py3-none-any.whl.metadata (4.2 kB)\n",
      "Collecting rich (from npe2>=0.5.2->napari[all])\n",
      "  Downloading rich-13.6.0-py3-none-any.whl.metadata (18 kB)\n",
      "Collecting tomli-w (from npe2>=0.5.2->napari[all])\n",
      "  Downloading tomli_w-1.0.0-py3-none-any.whl (6.0 kB)\n",
      "Collecting typer (from npe2>=0.5.2->napari[all])\n",
      "  Downloading typer-0.9.0-py3-none-any.whl (45 kB)\n",
      "\u001b[2K     \u001b[90m━━━━━━━━━━━━━━━━━━━━━━━━━━━━━━━━━━━━━━━━\u001b[0m \u001b[32m45.9/45.9 kB\u001b[0m \u001b[31m3.1 MB/s\u001b[0m eta \u001b[36m0:00:00\u001b[0m\n",
      "\u001b[?25hINFO: pip is looking at multiple versions of numpydoc to determine which version is compatible with other requirements. This could take a while.\n",
      "Collecting numpydoc>=0.9.2 (from napari[all])\n",
      "  Downloading numpydoc-1.5.0-py3-none-any.whl (52 kB)\n",
      "\u001b[2K     \u001b[90m━━━━━━━━━━━━━━━━━━━━━━━━━━━━━━━━━━━━━━━━\u001b[0m \u001b[32m52.4/52.4 kB\u001b[0m \u001b[31m2.8 MB/s\u001b[0m eta \u001b[36m0:00:00\u001b[0m\n",
      "\u001b[?25hRequirement already satisfied: Jinja2>=2.10 in /home/eschmidt/miniconda3/envs/competition_env/lib/python3.12/site-packages (from numpydoc>=0.9.2->napari[all]) (3.1.2)\n",
      "Requirement already satisfied: python-dateutil>=2.8.2 in /home/eschmidt/miniconda3/envs/competition_env/lib/python3.12/site-packages (from pandas>=1.3.0->napari[all]) (2.8.2)\n",
      "Collecting pytz>=2020.1 (from pandas>=1.3.0->napari[all])\n",
      "  Downloading pytz-2023.3.post1-py2.py3-none-any.whl.metadata (22 kB)\n",
      "Collecting tzdata>=2022.1 (from pandas>=1.3.0->napari[all])\n",
      "  Using cached tzdata-2023.3-py2.py3-none-any.whl (341 kB)\n",
      "Collecting mypy-extensions (from psygnal>=0.3.4->napari[all])\n",
      "  Downloading mypy_extensions-1.0.0-py3-none-any.whl (4.7 kB)\n",
      "Collecting PyQt5-sip<13,>=12.13 (from PyQt5!=5.15.0,>=5.12.3->napari[all])\n",
      "  Downloading PyQt5_sip-12.13.0-cp312-cp312-manylinux_2_5_x86_64.manylinux1_x86_64.whl.metadata (504 bytes)\n",
      "Collecting PyQt5-Qt5>=5.15.2 (from PyQt5!=5.15.0,>=5.12.3->napari[all])\n",
      "  Downloading PyQt5_Qt5-5.15.2-py3-none-manylinux2014_x86_64.whl (59.9 MB)\n",
      "\u001b[2K     \u001b[90m━━━━━━━━━━━━━━━━━━━━━━━━━━━━━━━━━━━━━━━━\u001b[0m \u001b[32m59.9/59.9 MB\u001b[0m \u001b[31m4.2 MB/s\u001b[0m eta \u001b[36m0:00:00\u001b[0m00:01\u001b[0m00:01\u001b[0m\n",
      "\u001b[?25hRequirement already satisfied: networkx>=2.8 in /home/eschmidt/miniconda3/envs/competition_env/lib/python3.12/site-packages (from scikit-image>=0.19.1->scikit-image[data]>=0.19.1->napari[all]) (3.2)\n",
      "Collecting pooch>=1.6.0 (from scikit-image[data]>=0.19.1->napari[all])\n",
      "  Downloading pooch-1.8.0-py3-none-any.whl.metadata (9.9 kB)\n",
      "Collecting sphinxcontrib-applehelp (from sphinx<5,>=4.3.0->napari[all])\n",
      "  Downloading sphinxcontrib_applehelp-1.0.7-py3-none-any.whl.metadata (2.2 kB)\n",
      "Collecting sphinxcontrib-devhelp (from sphinx<5,>=4.3.0->napari[all])\n",
      "  Downloading sphinxcontrib_devhelp-1.0.5-py3-none-any.whl.metadata (2.2 kB)\n",
      "Collecting sphinxcontrib-jsmath (from sphinx<5,>=4.3.0->napari[all])\n",
      "  Downloading sphinxcontrib_jsmath-1.0.1-py2.py3-none-any.whl (5.1 kB)\n",
      "Collecting sphinxcontrib-htmlhelp>=2.0.0 (from sphinx<5,>=4.3.0->napari[all])\n",
      "  Downloading sphinxcontrib_htmlhelp-2.0.4-py3-none-any.whl.metadata (2.2 kB)\n",
      "Collecting sphinxcontrib-serializinghtml>=1.1.5 (from sphinx<5,>=4.3.0->napari[all])\n",
      "  Downloading sphinxcontrib_serializinghtml-1.1.9-py3-none-any.whl.metadata (2.3 kB)\n",
      "Collecting sphinxcontrib-qthelp (from sphinx<5,>=4.3.0->napari[all])\n",
      "  Downloading sphinxcontrib_qthelp-1.0.6-py3-none-any.whl.metadata (2.2 kB)\n",
      "Collecting docutils<0.18,>=0.14 (from sphinx<5,>=4.3.0->napari[all])\n",
      "  Downloading docutils-0.17.1-py2.py3-none-any.whl (575 kB)\n",
      "\u001b[2K     \u001b[90m━━━━━━━━━━━━━━━━━━━━━━━━━━━━━━━━━━━━━━━\u001b[0m \u001b[32m575.5/575.5 kB\u001b[0m \u001b[31m2.3 MB/s\u001b[0m eta \u001b[36m0:00:00\u001b[0m00:01\u001b[0m00:01\u001b[0m\n",
      "\u001b[?25hCollecting snowballstemmer>=1.1 (from sphinx<5,>=4.3.0->napari[all])\n",
      "  Downloading snowballstemmer-2.2.0-py2.py3-none-any.whl (93 kB)\n",
      "\u001b[2K     \u001b[90m━━━━━━━━━━━━━━━━━━━━━━━━━━━━━━━━━━━━━━━━\u001b[0m \u001b[32m93.0/93.0 kB\u001b[0m \u001b[31m1.2 MB/s\u001b[0m eta \u001b[36m0:00:00\u001b[0m00:01\u001b[0m:00:01\u001b[0m\n",
      "\u001b[?25hRequirement already satisfied: babel>=1.3 in /home/eschmidt/miniconda3/envs/competition_env/lib/python3.12/site-packages (from sphinx<5,>=4.3.0->napari[all]) (2.13.1)\n",
      "Collecting alabaster<0.8,>=0.7 (from sphinx<5,>=4.3.0->napari[all])\n",
      "  Downloading alabaster-0.7.13-py3-none-any.whl (13 kB)\n",
      "Collecting imagesize (from sphinx<5,>=4.3.0->napari[all])\n",
      "  Downloading imagesize-1.4.1-py2.py3-none-any.whl (8.8 kB)\n",
      "Requirement already satisfied: requests>=2.5.0 in /home/eschmidt/miniconda3/envs/competition_env/lib/python3.12/site-packages (from sphinx<5,>=4.3.0->napari[all]) (2.31.0)\n",
      "Collecting freetype-py (from vispy<0.13,>=0.12.1->napari[all])\n",
      "  Downloading freetype_py-2.4.0-py3-none-manylinux_2_5_x86_64.manylinux1_x86_64.manylinux_2_12_x86_64.manylinux2010_x86_64.whl (1.0 MB)\n",
      "\u001b[2K     \u001b[90m━━━━━━━━━━━━━━━━━━━━━━━━━━━━━━━━━━━━━━━━\u001b[0m \u001b[32m1.0/1.0 MB\u001b[0m \u001b[31m2.5 MB/s\u001b[0m eta \u001b[36m0:00:00\u001b[0m00:01\u001b[0m00:01\u001b[0m0m\n",
      "\u001b[?25hCollecting hsluv (from vispy<0.13,>=0.12.1->napari[all])\n",
      "  Downloading hsluv-5.0.4-py2.py3-none-any.whl.metadata (2.7 kB)\n",
      "Collecting kiwisolver (from vispy<0.13,>=0.12.1->napari[all])\n",
      "  Downloading kiwisolver-1.4.5-cp312-cp312-manylinux_2_17_x86_64.manylinux2014_x86_64.whl.metadata (6.4 kB)\n",
      "Requirement already satisfied: setuptools in /home/eschmidt/miniconda3/envs/competition_env/lib/python3.12/site-packages (from babel>=1.3->sphinx<5,>=4.3.0->napari[all]) (68.0.0)\n",
      "Collecting pyproject_hooks (from build>=1->npe2>=0.5.2->napari[all])\n",
      "  Downloading pyproject_hooks-1.0.0-py3-none-any.whl (9.3 kB)\n",
      "Collecting zipp>=0.5 (from importlib-metadata>=4.13.0->dask!=2.28.0,>=2.15.0->dask[array]!=2.28.0,>=2.15.0->napari[all])\n",
      "  Downloading zipp-3.17.0-py3-none-any.whl.metadata (3.7 kB)\n",
      "Requirement already satisfied: comm>=0.1.1 in /home/eschmidt/miniconda3/envs/competition_env/lib/python3.12/site-packages (from ipykernel>=5.2.0->napari-console>=0.0.6->napari[all]) (0.1.4)\n",
      "Requirement already satisfied: debugpy>=1.6.5 in /home/eschmidt/miniconda3/envs/competition_env/lib/python3.12/site-packages (from ipykernel>=5.2.0->napari-console>=0.0.6->napari[all]) (1.8.0)\n",
      "Requirement already satisfied: jupyter-client>=6.1.12 in /home/eschmidt/miniconda3/envs/competition_env/lib/python3.12/site-packages (from ipykernel>=5.2.0->napari-console>=0.0.6->napari[all]) (8.5.0)\n",
      "Requirement already satisfied: jupyter-core!=5.0.*,>=4.12 in /home/eschmidt/miniconda3/envs/competition_env/lib/python3.12/site-packages (from ipykernel>=5.2.0->napari-console>=0.0.6->napari[all]) (5.4.0)\n",
      "Requirement already satisfied: matplotlib-inline>=0.1 in /home/eschmidt/miniconda3/envs/competition_env/lib/python3.12/site-packages (from ipykernel>=5.2.0->napari-console>=0.0.6->napari[all]) (0.1.6)\n",
      "Requirement already satisfied: nest-asyncio in /home/eschmidt/miniconda3/envs/competition_env/lib/python3.12/site-packages (from ipykernel>=5.2.0->napari-console>=0.0.6->napari[all]) (1.5.8)\n",
      "Requirement already satisfied: pyzmq>=20 in /home/eschmidt/miniconda3/envs/competition_env/lib/python3.12/site-packages (from ipykernel>=5.2.0->napari-console>=0.0.6->napari[all]) (25.1.1)\n",
      "Requirement already satisfied: tornado>=6.1 in /home/eschmidt/miniconda3/envs/competition_env/lib/python3.12/site-packages (from ipykernel>=5.2.0->napari-console>=0.0.6->napari[all]) (6.3.3)\n",
      "Requirement already satisfied: traitlets>=5.4.0 in /home/eschmidt/miniconda3/envs/competition_env/lib/python3.12/site-packages (from ipykernel>=5.2.0->napari-console>=0.0.6->napari[all]) (5.12.0)\n",
      "Requirement already satisfied: backcall in /home/eschmidt/miniconda3/envs/competition_env/lib/python3.12/site-packages (from IPython>=7.7.0->napari-console>=0.0.6->napari[all]) (0.2.0)\n",
      "Requirement already satisfied: decorator in /home/eschmidt/miniconda3/envs/competition_env/lib/python3.12/site-packages (from IPython>=7.7.0->napari-console>=0.0.6->napari[all]) (5.1.1)\n",
      "Requirement already satisfied: jedi>=0.16 in /home/eschmidt/miniconda3/envs/competition_env/lib/python3.12/site-packages (from IPython>=7.7.0->napari-console>=0.0.6->napari[all]) (0.19.1)\n",
      "Requirement already satisfied: pickleshare in /home/eschmidt/miniconda3/envs/competition_env/lib/python3.12/site-packages (from IPython>=7.7.0->napari-console>=0.0.6->napari[all]) (0.7.5)\n",
      "Requirement already satisfied: prompt-toolkit!=3.0.37,<3.1.0,>=3.0.30 in /home/eschmidt/miniconda3/envs/competition_env/lib/python3.12/site-packages (from IPython>=7.7.0->napari-console>=0.0.6->napari[all]) (3.0.39)\n",
      "Requirement already satisfied: stack-data in /home/eschmidt/miniconda3/envs/competition_env/lib/python3.12/site-packages (from IPython>=7.7.0->napari-console>=0.0.6->napari[all]) (0.6.3)\n",
      "Requirement already satisfied: pexpect>4.3 in /home/eschmidt/miniconda3/envs/competition_env/lib/python3.12/site-packages (from IPython>=7.7.0->napari-console>=0.0.6->napari[all]) (4.8.0)\n",
      "Requirement already satisfied: MarkupSafe>=2.0 in /home/eschmidt/miniconda3/envs/competition_env/lib/python3.12/site-packages (from Jinja2>=2.10->numpydoc>=0.9.2->napari[all]) (2.1.3)\n",
      "Collecting locket (from partd>=1.2.0->dask!=2.28.0,>=2.15.0->dask[array]!=2.28.0,>=2.15.0->napari[all])\n",
      "  Downloading locket-1.0.0-py2.py3-none-any.whl (4.4 kB)\n",
      "Requirement already satisfied: platformdirs>=2.5.0 in /home/eschmidt/miniconda3/envs/competition_env/lib/python3.12/site-packages (from pooch>=1.6.0->scikit-image[data]>=0.19.1->napari[all]) (3.11.0)\n",
      "Requirement already satisfied: six>=1.5 in /home/eschmidt/miniconda3/envs/competition_env/lib/python3.12/site-packages (from python-dateutil>=2.8.2->pandas>=1.3.0->napari[all]) (1.16.0)\n",
      "Requirement already satisfied: ipython-genutils in /home/eschmidt/miniconda3/envs/competition_env/lib/python3.12/site-packages (from qtconsole!=4.7.6,!=5.4.2,>=4.5.1->napari-console>=0.0.6->napari[all]) (0.2.0)\n",
      "Requirement already satisfied: charset-normalizer<4,>=2 in /home/eschmidt/miniconda3/envs/competition_env/lib/python3.12/site-packages (from requests>=2.5.0->sphinx<5,>=4.3.0->napari[all]) (3.3.1)\n",
      "Requirement already satisfied: idna<4,>=2.5 in /home/eschmidt/miniconda3/envs/competition_env/lib/python3.12/site-packages (from requests>=2.5.0->sphinx<5,>=4.3.0->napari[all]) (3.4)\n",
      "Requirement already satisfied: urllib3<3,>=1.21.1 in /home/eschmidt/miniconda3/envs/competition_env/lib/python3.12/site-packages (from requests>=2.5.0->sphinx<5,>=4.3.0->napari[all]) (2.0.7)\n",
      "INFO: pip is looking at multiple versions of sphinxcontrib-htmlhelp to determine which version is compatible with other requirements. This could take a while.\n",
      "Collecting sphinxcontrib-htmlhelp>=2.0.0 (from sphinx<5,>=4.3.0->napari[all])\n",
      "  Downloading sphinxcontrib_htmlhelp-2.0.3-py3-none-any.whl.metadata (2.2 kB)\n",
      "  Downloading sphinxcontrib_htmlhelp-2.0.2-py3-none-any.whl.metadata (2.2 kB)\n",
      "  Downloading sphinxcontrib_htmlhelp-2.0.1-py3-none-any.whl (99 kB)\n",
      "\u001b[2K     \u001b[90m━━━━━━━━━━━━━━━━━━━━━━━━━━━━━━━━━━━━━━━━\u001b[0m \u001b[32m99.8/99.8 kB\u001b[0m \u001b[31m3.8 MB/s\u001b[0m eta \u001b[36m0:00:00\u001b[0m\n",
      "\u001b[?25hINFO: pip is looking at multiple versions of sphinxcontrib-serializinghtml to determine which version is compatible with other requirements. This could take a while.\n",
      "Collecting sphinxcontrib-serializinghtml>=1.1.5 (from sphinx<5,>=4.3.0->napari[all])\n",
      "  Downloading sphinxcontrib_serializinghtml-1.1.8-py3-none-any.whl.metadata (2.3 kB)\n",
      "  Downloading sphinxcontrib_serializinghtml-1.1.7-py3-none-any.whl.metadata (2.3 kB)\n",
      "  Downloading sphinxcontrib_serializinghtml-1.1.6-py3-none-any.whl.metadata (2.3 kB)\n",
      "  Downloading sphinxcontrib_serializinghtml-1.1.5-py2.py3-none-any.whl (94 kB)\n",
      "\u001b[2K     \u001b[90m━━━━━━━━━━━━━━━━━━━━━━━━━━━━━━━━━━━━━━━━\u001b[0m \u001b[32m94.0/94.0 kB\u001b[0m \u001b[31m3.9 MB/s\u001b[0m eta \u001b[36m0:00:00\u001b[0m\n",
      "\u001b[?25hCollecting pyconify>=0.1.4 (from superqt[iconify]>=0.6.1->magicgui>=0.3.6->napari[all])\n",
      "  Downloading pyconify-0.1.6-py3-none-any.whl.metadata (5.5 kB)\n",
      "Collecting markdown-it-py>=2.2.0 (from rich->npe2>=0.5.2->napari[all])\n",
      "  Downloading markdown_it_py-3.0.0-py3-none-any.whl.metadata (6.9 kB)\n",
      "INFO: pip is looking at multiple versions of sphinxcontrib-applehelp to determine which version is compatible with other requirements. This could take a while.\n",
      "Collecting sphinxcontrib-applehelp (from sphinx<5,>=4.3.0->napari[all])\n",
      "  Downloading sphinxcontrib_applehelp-1.0.6-py3-none-any.whl.metadata (2.2 kB)\n",
      "  Downloading sphinxcontrib_applehelp-1.0.5-py3-none-any.whl.metadata (2.2 kB)\n",
      "  Downloading sphinxcontrib_applehelp-1.0.4-py3-none-any.whl (120 kB)\n",
      "\u001b[2K     \u001b[90m━━━━━━━━━━━━━━━━━━━━━━━━━━━━━━━━━━━━━━━\u001b[0m \u001b[32m120.6/120.6 kB\u001b[0m \u001b[31m2.5 MB/s\u001b[0m eta \u001b[36m0:00:00\u001b[0ma \u001b[36m0:00:01\u001b[0m\n",
      "\u001b[?25hINFO: pip is looking at multiple versions of sphinxcontrib-devhelp to determine which version is compatible with other requirements. This could take a while.\n",
      "Collecting sphinxcontrib-devhelp (from sphinx<5,>=4.3.0->napari[all])\n",
      "  Downloading sphinxcontrib_devhelp-1.0.4-py3-none-any.whl.metadata (2.2 kB)\n",
      "  Downloading sphinxcontrib_devhelp-1.0.3-py3-none-any.whl.metadata (2.2 kB)\n",
      "  Downloading sphinxcontrib_devhelp-1.0.2-py2.py3-none-any.whl (84 kB)\n",
      "\u001b[2K     \u001b[90m━━━━━━━━━━━━━━━━━━━━━━━━━━━━━━━━━━━━━━━━\u001b[0m \u001b[32m84.7/84.7 kB\u001b[0m \u001b[31m3.4 MB/s\u001b[0m eta \u001b[36m0:00:00\u001b[0m\n",
      "\u001b[?25hINFO: pip is looking at multiple versions of sphinxcontrib-qthelp to determine which version is compatible with other requirements. This could take a while.\n",
      "Collecting sphinxcontrib-qthelp (from sphinx<5,>=4.3.0->napari[all])\n",
      "  Downloading sphinxcontrib_qthelp-1.0.5-py3-none-any.whl.metadata (2.2 kB)\n",
      "  Downloading sphinxcontrib_qthelp-1.0.4-py3-none-any.whl.metadata (2.2 kB)\n",
      "  Downloading sphinxcontrib_qthelp-1.0.3-py2.py3-none-any.whl (90 kB)\n",
      "\u001b[2K     \u001b[90m━━━━━━━━━━━━━━━━━━━━━━━━━━━━━━━━━━━━━━━━\u001b[0m \u001b[32m90.6/90.6 kB\u001b[0m \u001b[31m3.6 MB/s\u001b[0m eta \u001b[36m0:00:00\u001b[0m\n",
      "\u001b[?25hRequirement already satisfied: parso<0.9.0,>=0.8.3 in /home/eschmidt/miniconda3/envs/competition_env/lib/python3.12/site-packages (from jedi>=0.16->IPython>=7.7.0->napari-console>=0.0.6->napari[all]) (0.8.3)\n",
      "Collecting mdurl~=0.1 (from markdown-it-py>=2.2.0->rich->npe2>=0.5.2->napari[all])\n",
      "  Downloading mdurl-0.1.2-py3-none-any.whl (10.0 kB)\n",
      "Requirement already satisfied: ptyprocess>=0.5 in /home/eschmidt/miniconda3/envs/competition_env/lib/python3.12/site-packages (from pexpect>4.3->IPython>=7.7.0->napari-console>=0.0.6->napari[all]) (0.7.0)\n",
      "Requirement already satisfied: wcwidth in /home/eschmidt/miniconda3/envs/competition_env/lib/python3.12/site-packages (from prompt-toolkit!=3.0.37,<3.1.0,>=3.0.30->IPython>=7.7.0->napari-console>=0.0.6->napari[all]) (0.2.8)\n",
      "Requirement already satisfied: executing>=1.2.0 in /home/eschmidt/miniconda3/envs/competition_env/lib/python3.12/site-packages (from stack-data->IPython>=7.7.0->napari-console>=0.0.6->napari[all]) (2.0.0)\n",
      "Requirement already satisfied: asttokens>=2.1.0 in /home/eschmidt/miniconda3/envs/competition_env/lib/python3.12/site-packages (from stack-data->IPython>=7.7.0->napari-console>=0.0.6->napari[all]) (2.4.1)\n",
      "Requirement already satisfied: pure-eval in /home/eschmidt/miniconda3/envs/competition_env/lib/python3.12/site-packages (from stack-data->IPython>=7.7.0->napari-console>=0.0.6->napari[all]) (0.2.2)\n",
      "Downloading app_model-0.2.2-py3-none-any.whl (59 kB)\n",
      "\u001b[2K   \u001b[90m━━━━━━━━━━━━━━━━━━━━━━━━━━━━━━━━━━━━━━━━\u001b[0m \u001b[32m59.2/59.2 kB\u001b[0m \u001b[31m1.9 MB/s\u001b[0m eta \u001b[36m0:00:00\u001b[0m\n",
      "\u001b[?25hDownloading dask-2023.10.0-py3-none-any.whl (1.2 MB)\n",
      "\u001b[2K   \u001b[90m━━━━━━━━━━━━━━━━━━━━━━━━━━━━━━━━━━━━━━━━\u001b[0m \u001b[32m1.2/1.2 MB\u001b[0m \u001b[31m4.6 MB/s\u001b[0m eta \u001b[36m0:00:00\u001b[0m00:01\u001b[0m00:01\u001b[0m\n",
      "\u001b[?25hDownloading magicgui-0.8.0-py3-none-any.whl (123 kB)\n",
      "\u001b[2K   \u001b[90m━━━━━━━━━━━━━━━━━━━━━━━━━━━━━━━━━━━━━━━━\u001b[0m \u001b[32m123.9/123.9 kB\u001b[0m \u001b[31m3.8 MB/s\u001b[0m eta \u001b[36m0:00:00\u001b[0m\n",
      "\u001b[?25hDownloading napari_console-0.0.9-py3-none-any.whl (8.2 kB)\n",
      "Downloading napari_plugin_manager-0.1.0a2-py3-none-any.whl (25 kB)\n",
      "Downloading napari_svg-0.1.10-py3-none-any.whl (13 kB)\n",
      "Downloading npe2-0.7.3-py3-none-any.whl (93 kB)\n",
      "\u001b[2K   \u001b[90m━━━━━━━━━━━━━━━━━━━━━━━━━━━━━━━━━━━━━━━━\u001b[0m \u001b[32m93.9/93.9 kB\u001b[0m \u001b[31m3.4 MB/s\u001b[0m eta \u001b[36m0:00:00\u001b[0m\n",
      "\u001b[?25hDownloading pandas-2.1.2-cp312-cp312-manylinux_2_17_x86_64.manylinux2014_x86_64.whl (11.7 MB)\n",
      "\u001b[2K   \u001b[90m━━━━━━━━━━━━━━━━━━━━━━━━━━━━━━━━━━━━━━━━\u001b[0m \u001b[32m11.7/11.7 MB\u001b[0m \u001b[31m3.9 MB/s\u001b[0m eta \u001b[36m0:00:00\u001b[0m00:01\u001b[0m00:01\u001b[0m\n",
      "\u001b[?25hDownloading Pint-0.22-py3-none-any.whl (294 kB)\n",
      "\u001b[2K   \u001b[90m━━━━━━━━━━━━━━━━━━━━━━━━━━━━━━━━━━━━━━━━\u001b[0m \u001b[32m294.0/294.0 kB\u001b[0m \u001b[31m3.3 MB/s\u001b[0m eta \u001b[36m0:00:00\u001b[0ma \u001b[36m0:00:01\u001b[0m\n",
      "\u001b[?25hDownloading psygnal-0.9.4-py3-none-any.whl (71 kB)\n",
      "\u001b[2K   \u001b[90m━━━━━━━━━━━━━━━━━━━━━━━━━━━━━━━━━━━━━━━━\u001b[0m \u001b[32m71.3/71.3 kB\u001b[0m \u001b[31m2.7 MB/s\u001b[0m eta \u001b[36m0:00:00\u001b[0m\n",
      "\u001b[?25hDownloading pydantic-1.10.13-py3-none-any.whl (158 kB)\n",
      "\u001b[2K   \u001b[90m━━━━━━━━━━━━━━━━━━━━━━━━━━━━━━━━━━━━━━━━\u001b[0m \u001b[32m158.6/158.6 kB\u001b[0m \u001b[31m3.8 MB/s\u001b[0m eta \u001b[36m0:00:00\u001b[0ma \u001b[36m0:00:01\u001b[0m\n",
      "\u001b[?25hDownloading PyOpenGL-3.1.7-py3-none-any.whl (2.4 MB)\n",
      "\u001b[2K   \u001b[90m━━━━━━━━━━━━━━━━━━━━━━━━━━━━━━━━━━━━━━━━\u001b[0m \u001b[32m2.4/2.4 MB\u001b[0m \u001b[31m4.1 MB/s\u001b[0m eta \u001b[36m0:00:00\u001b[0m00:01\u001b[0m00:01\u001b[0m\n",
      "\u001b[?25hDownloading PyQt5-5.15.10-cp37-abi3-manylinux_2_17_x86_64.whl (8.2 MB)\n",
      "\u001b[2K   \u001b[90m━━━━━━━━━━━━━━━━━━━━━━━━━━━━━━━━━━━━━━━━\u001b[0m \u001b[32m8.2/8.2 MB\u001b[0m \u001b[31m4.6 MB/s\u001b[0m eta \u001b[36m0:00:00\u001b[0m00:01\u001b[0m00:01\u001b[0m\n",
      "\u001b[?25hDownloading superqt-0.6.1-py3-none-any.whl (88 kB)\n",
      "\u001b[2K   \u001b[90m━━━━━━━━━━━━━━━━━━━━━━━━━━━━━━━━━━━━━━━━\u001b[0m \u001b[32m88.8/88.8 kB\u001b[0m \u001b[31m3.2 MB/s\u001b[0m eta \u001b[36m0:00:00\u001b[0m\n",
      "\u001b[?25hDownloading tqdm-4.66.1-py3-none-any.whl (78 kB)\n",
      "\u001b[2K   \u001b[90m━━━━━━━━━━━━━━━━━━━━━━━━━━━━━━━━━━━━━━━━\u001b[0m \u001b[32m78.3/78.3 kB\u001b[0m \u001b[31m3.1 MB/s\u001b[0m eta \u001b[36m0:00:00\u001b[0m\n",
      "\u001b[?25hUsing cached typing_extensions-4.8.0-py3-none-any.whl (31 kB)\n",
      "Downloading napari-0.4.18-py3-none-any.whl (2.6 MB)\n",
      "\u001b[2K   \u001b[90m━━━━━━━━━━━━━━━━━━━━━━━━━━━━━━━━━━━━━━━━\u001b[0m \u001b[32m2.6/2.6 MB\u001b[0m \u001b[31m4.4 MB/s\u001b[0m eta \u001b[36m0:00:00\u001b[0m00:01\u001b[0m00:01\u001b[0m\n",
      "\u001b[?25hDownloading build-1.0.3-py3-none-any.whl (18 kB)\n",
      "Downloading click-8.1.7-py3-none-any.whl (97 kB)\n",
      "\u001b[2K   \u001b[90m━━━━━━━━━━━━━━━━━━━━━━━━━━━━━━━━━━━━━━━━\u001b[0m \u001b[32m97.9/97.9 kB\u001b[0m \u001b[31m3.8 MB/s\u001b[0m eta \u001b[36m0:00:00\u001b[0m\n",
      "\u001b[?25hDownloading cloudpickle-3.0.0-py3-none-any.whl (20 kB)\n",
      "Downloading fsspec-2023.10.0-py3-none-any.whl (166 kB)\n",
      "\u001b[2K   \u001b[90m━━━━━━━━━━━━━━━━━━━━━━━━━━━━━━━━━━━━━━━━\u001b[0m \u001b[32m166.4/166.4 kB\u001b[0m \u001b[31m3.8 MB/s\u001b[0m eta \u001b[36m0:00:00\u001b[0m00:01\u001b[0m\n",
      "\u001b[?25hDownloading importlib_metadata-6.8.0-py3-none-any.whl (22 kB)\n",
      "Downloading in_n_out-0.1.9-py3-none-any.whl (19 kB)\n",
      "Downloading partd-1.4.1-py3-none-any.whl (18 kB)\n",
      "Downloading pooch-1.8.0-py3-none-any.whl (62 kB)\n",
      "\u001b[2K   \u001b[90m━━━━━━━━━━━━━━━━━━━━━━━━━━━━━━━━━━━━━━━━\u001b[0m \u001b[32m62.7/62.7 kB\u001b[0m \u001b[31m2.8 MB/s\u001b[0m eta \u001b[36m0:00:00\u001b[0m\n",
      "\u001b[?25hDownloading PyQt5_sip-12.13.0-cp312-cp312-manylinux_2_5_x86_64.manylinux1_x86_64.whl (360 kB)\n",
      "\u001b[2K   \u001b[90m━━━━━━━━━━━━━━━━━━━━━━━━━━━━━━━━━━━━━━━━\u001b[0m \u001b[32m361.0/361.0 kB\u001b[0m \u001b[31m4.4 MB/s\u001b[0m eta \u001b[36m0:00:00\u001b[0ma \u001b[36m0:00:01\u001b[0m\n",
      "\u001b[?25hDownloading pytz-2023.3.post1-py2.py3-none-any.whl (502 kB)\n",
      "\u001b[2K   \u001b[90m━━━━━━━━━━━━━━━━━━━━━━━━━━━━━━━━━━━━━━━━\u001b[0m \u001b[32m502.5/502.5 kB\u001b[0m \u001b[31m3.7 MB/s\u001b[0m eta \u001b[36m0:00:00\u001b[0ma \u001b[36m0:00:01\u001b[0m\n",
      "\u001b[?25hDownloading hsluv-5.0.4-py2.py3-none-any.whl (5.3 kB)\n",
      "Downloading kiwisolver-1.4.5-cp312-cp312-manylinux_2_17_x86_64.manylinux2014_x86_64.whl (1.5 MB)\n",
      "\u001b[2K   \u001b[90m━━━━━━━━━━━━━━━━━━━━━━━━━━━━━━━━━━━━━━━━\u001b[0m \u001b[32m1.5/1.5 MB\u001b[0m \u001b[31m3.3 MB/s\u001b[0m eta \u001b[36m0:00:00\u001b[0m00:01\u001b[0m00:01\u001b[0m\n",
      "\u001b[?25hDownloading rich-13.6.0-py3-none-any.whl (239 kB)\n",
      "\u001b[2K   \u001b[90m━━━━━━━━━━━━━━━━━━━━━━━━━━━━━━━━━━━━━━━━\u001b[0m \u001b[32m239.8/239.8 kB\u001b[0m \u001b[31m3.3 MB/s\u001b[0m eta \u001b[36m0:00:00\u001b[0m00:01\u001b[0m00:01\u001b[0m\n",
      "\u001b[?25hDownloading markdown_it_py-3.0.0-py3-none-any.whl (87 kB)\n",
      "\u001b[2K   \u001b[90m━━━━━━━━━━━━━━━━━━━━━━━━━━━━━━━━━━━━━━━━\u001b[0m \u001b[32m87.5/87.5 kB\u001b[0m \u001b[31m3.2 MB/s\u001b[0m eta \u001b[36m0:00:00\u001b[0m\n",
      "\u001b[?25hDownloading pyconify-0.1.6-py3-none-any.whl (18 kB)\n",
      "Downloading zipp-3.17.0-py3-none-any.whl (7.4 kB)\n",
      "Building wheels for collected packages: vispy\n",
      "  Building wheel for vispy (pyproject.toml) ... \u001b[?25ldone\n",
      "\u001b[?25h  Created wheel for vispy: filename=vispy-0.12.2-cp312-cp312-linux_x86_64.whl size=1410798 sha256=4c482f9433dbbc165d01a7d47db06edc341f2599f425bbc6df7d6ea68fb6962a\n",
      "  Stored in directory: /home/eschmidt/.cache/pip/wheels/64/0a/3a/303ee956a15ba10c7c6b4032d2808dc4240e4d91e1499e9e06\n",
      "Successfully built vispy\n",
      "Installing collected packages: snowballstemmer, pytz, PyQt5-Qt5, PyOpenGL, heapdict, appdirs, zipp, wrapt, tzdata, typing-extensions, tqdm, toolz, tomli-w, sphinxcontrib-serializinghtml, sphinxcontrib-qthelp, sphinxcontrib-jsmath, sphinxcontrib-htmlhelp, sphinxcontrib-devhelp, sphinxcontrib-applehelp, PyQt5-sip, pyproject_hooks, napari-plugin-engine, mypy-extensions, mdurl, locket, kiwisolver, in-n-out, imagesize, hsluv, fsspec, freetype-py, docutils, docstring-parser, cloudpickle, click, cachey, alabaster, vispy, typer, superqt, sphinx, PyQt5, pydantic, pyconify, psygnal, pooch, pint, partd, pandas, markdown-it-py, importlib-metadata, build, rich, numpydoc, napari-svg, dask, app-model, npe2, magicgui, napari-plugin-manager, napari-console, napari\n",
      "Successfully installed PyOpenGL-3.1.7 PyQt5-5.15.10 PyQt5-Qt5-5.15.2 PyQt5-sip-12.13.0 alabaster-0.7.13 app-model-0.2.2 appdirs-1.4.4 build-1.0.3 cachey-0.2.1 click-8.1.7 cloudpickle-3.0.0 dask-2023.10.0 docstring-parser-0.15 docutils-0.17.1 freetype-py-2.4.0 fsspec-2023.10.0 heapdict-1.0.1 hsluv-5.0.4 imagesize-1.4.1 importlib-metadata-6.8.0 in-n-out-0.1.9 kiwisolver-1.4.5 locket-1.0.0 magicgui-0.8.0 markdown-it-py-3.0.0 mdurl-0.1.2 mypy-extensions-1.0.0 napari-0.4.18 napari-console-0.0.9 napari-plugin-engine-0.2.0 napari-plugin-manager-0.1.0a2 napari-svg-0.1.10 npe2-0.7.3 numpydoc-1.5.0 pandas-2.1.2 partd-1.4.1 pint-0.22 pooch-1.8.0 psygnal-0.9.4 pyconify-0.1.6 pydantic-1.10.13 pyproject_hooks-1.0.0 pytz-2023.3.post1 rich-13.6.0 snowballstemmer-2.2.0 sphinx-4.5.0 sphinxcontrib-applehelp-1.0.4 sphinxcontrib-devhelp-1.0.2 sphinxcontrib-htmlhelp-2.0.1 sphinxcontrib-jsmath-1.0.1 sphinxcontrib-qthelp-1.0.3 sphinxcontrib-serializinghtml-1.1.5 superqt-0.6.1 tomli-w-1.0.0 toolz-0.12.0 tqdm-4.66.1 typer-0.9.0 typing-extensions-4.8.0 tzdata-2023.3 vispy-0.12.2 wrapt-1.15.0 zipp-3.17.0\n"
     ]
    }
   ],
   "source": [
    "# !pip install scikit-image\n",
    "# !pip install -U scikit-learn\n",
    "# !pip install \"napari[all]\"\n"
   ]
  },
  {
   "cell_type": "code",
   "execution_count": 2,
   "id": "extreme-papua",
   "metadata": {
    "id": "extreme-papua"
   },
   "outputs": [],
   "source": [
    "from skimage.io import imsave, imread\n",
    "import os\n",
    "import numpy as np\n",
    "from sklearn.ensemble import RandomForestClassifier\n",
    "from sklearn.model_selection import GridSearchCV\n"
   ]
  },
  {
   "cell_type": "code",
   "execution_count": null,
   "id": "8ebeb8a6",
   "metadata": {},
   "outputs": [],
   "source": []
  },
  {
   "cell_type": "markdown",
   "id": "1a685572",
   "metadata": {},
   "source": [
    "# Define input path"
   ]
  },
  {
   "cell_type": "code",
   "execution_count": 3,
   "id": "91fb3308",
   "metadata": {},
   "outputs": [
    {
     "name": "stdout",
     "output_type": "stream",
     "text": [
      "Requirement already satisfied: pims in /home/eschmidt/miniconda3/envs/competition_env/lib/python3.12/site-packages (0.6.1)\n",
      "Requirement already satisfied: imageio in /home/eschmidt/miniconda3/envs/competition_env/lib/python3.12/site-packages (from pims) (2.31.6)\n",
      "Requirement already satisfied: numpy>=1.19 in /home/eschmidt/miniconda3/envs/competition_env/lib/python3.12/site-packages (from pims) (1.26.1)\n",
      "Requirement already satisfied: slicerator>=0.9.8 in /home/eschmidt/miniconda3/envs/competition_env/lib/python3.12/site-packages (from pims) (1.1.0)\n",
      "Requirement already satisfied: pillow<10.1.0,>=8.3.2 in /home/eschmidt/miniconda3/envs/competition_env/lib/python3.12/site-packages (from imageio->pims) (10.0.1)\n"
     ]
    }
   ],
   "source": [
    "# path to the folder containing the images of a certain channel\n",
    "\n",
    "filepath = '/media/eschmidt/WD_Elements/EPFL-data/Lucas/'\n",
    "\n",
    "fn_orange = 'orange_20230920_AirGel_WTmSc_dwspFmN_mix_LAM02J-L_CIP_5.5hpi_23.5h.nd...el_WTmSc_dwspFmN_mix_LAM02J-L_CIP_5.5hpi_23.5h.nd2 (series 08) - C=1.tif'\n",
    "fn_green = 'green_20230920_AirGel_WTmSc_dwspFmN_mix_LAM02J-L_CIP_5.5hpi_23.5h.nd...el_WTmSc_dwspFmN_mix_LAM02J-L_CIP_5.5hpi_23.5h.nd2 (series 08) - C=0.tif'\n",
    "\n",
    "\n",
    "orange = filepath + fn_orange\n",
    "green = filepath + fn_green\n",
    "\n",
    "# if orange endswith .nd2 then import pims_nd2\n",
    "if orange.endswith('.nd2'):\n",
    "    !pip install pims_nd2\n",
    "    import pims_nd2 as pims\n",
    "\n",
    "else:\n",
    "    !pip install pims\n",
    "    import pims\n"
   ]
  },
  {
   "cell_type": "code",
   "execution_count": 4,
   "id": "c577c147",
   "metadata": {},
   "outputs": [],
   "source": [
    "import napari\n",
    "%gui qt\n",
    "\n",
    "def Draw_and_Save(img,output_dir,output_fn):\n",
    "    viewer = napari.Viewer()\n",
    "    viewer.add_image(img)\n",
    "    labels = viewer.add_labels(np.zeros(img.shape,dtype='uint8'))\n",
    "\n",
    "    print(\"before block\")\n",
    "    viewer.show(block=True)\n",
    "\n",
    "    print(\"after block\")\n",
    "    # get the drawings first\n",
    "    manual_annotations = labels.data\n",
    "\n",
    "    # save the drawings\n",
    "    manual_labels_filename = output_dir + '/' + output_fn\n",
    "    imsave(manual_labels_filename, manual_annotations, check_contrast=False)\n",
    "    viewer.close()\n"
   ]
  },
  {
   "cell_type": "code",
   "execution_count": 15,
   "id": "9fb8d5c4",
   "metadata": {},
   "outputs": [
    {
     "name": "stderr",
     "output_type": "stream",
     "text": [
      "WARNING: QOpenGLWidget: Failed to create context\n",
      "WARNING: QOpenGLWidget: Failed to create context\n",
      "WARNING: QOpenGLWidget: Failed to create context\n",
      "WARNING: QOpenGLWidget: Failed to create context\n",
      "WARNING: composeAndFlush: QOpenGLContext creation failed\n",
      "WARNING: composeAndFlush: makeCurrent() failed\n",
      "WARNING: QOpenGLWidget: Failed to create context\n",
      "WARNING: composeAndFlush: makeCurrent() failed\n",
      "WARNING: composeAndFlush: makeCurrent() failed\n",
      "WARNING: composeAndFlush: makeCurrent() failed\n",
      "WARNING: composeAndFlush: makeCurrent() failed\n",
      "WARNING: composeAndFlush: makeCurrent() failed\n",
      "WARNING: composeAndFlush: makeCurrent() failed\n",
      "WARNING: composeAndFlush: makeCurrent() failed\n",
      "WARNING: composeAndFlush: makeCurrent() failed\n",
      "WARNING: composeAndFlush: makeCurrent() failed\n",
      "WARNING: composeAndFlush: makeCurrent() failed\n",
      "WARNING: composeAndFlush: makeCurrent() failed\n",
      "WARNING: composeAndFlush: makeCurrent() failed\n",
      "WARNING: composeAndFlush: makeCurrent() failed\n",
      "WARNING: composeAndFlush: makeCurrent() failed\n",
      "WARNING: composeAndFlush: makeCurrent() failed\n",
      "WARNING: composeAndFlush: makeCurrent() failed\n",
      "WARNING: composeAndFlush: makeCurrent() failed\n",
      "WARNING: composeAndFlush: makeCurrent() failed\n",
      "WARNING: composeAndFlush: makeCurrent() failed\n",
      "WARNING: composeAndFlush: makeCurrent() failed\n",
      "WARNING: composeAndFlush: makeCurrent() failed\n",
      "WARNING: composeAndFlush: makeCurrent() failed\n",
      "WARNING: composeAndFlush: makeCurrent() failed\n",
      "WARNING: composeAndFlush: makeCurrent() failed\n",
      "WARNING: composeAndFlush: makeCurrent() failed\n",
      "WARNING: composeAndFlush: makeCurrent() failed\n",
      "WARNING: composeAndFlush: makeCurrent() failed\n",
      "WARNING: composeAndFlush: makeCurrent() failed\n",
      "WARNING: composeAndFlush: makeCurrent() failed\n",
      "WARNING: composeAndFlush: makeCurrent() failed\n",
      "WARNING: composeAndFlush: makeCurrent() failed\n",
      "WARNING: composeAndFlush: makeCurrent() failed\n",
      "WARNING: composeAndFlush: makeCurrent() failed\n",
      "WARNING: composeAndFlush: makeCurrent() failed\n",
      "WARNING: composeAndFlush: makeCurrent() failed\n",
      "WARNING: composeAndFlush: makeCurrent() failed\n",
      "WARNING: composeAndFlush: makeCurrent() failed\n",
      "WARNING: composeAndFlush: makeCurrent() failed\n",
      "WARNING: composeAndFlush: makeCurrent() failed\n",
      "WARNING: composeAndFlush: makeCurrent() failed\n",
      "WARNING: composeAndFlush: makeCurrent() failed\n",
      "WARNING: composeAndFlush: makeCurrent() failed\n",
      "WARNING: composeAndFlush: makeCurrent() failed\n"
     ]
    },
    {
     "name": "stdout",
     "output_type": "stream",
     "text": [
      "somethintg\n"
     ]
    }
   ],
   "source": [
    "import napari\n",
    "%gui qt\n",
    "\n",
    "viewer = napari.Viewer()\n",
    "viewer.add_image(orange_zstack)\n",
    "viewer.show(block=True)\n",
    "print(\"somethintg\")\n",
    "\n"
   ]
  },
  {
   "cell_type": "markdown",
   "id": "28bdcde9",
   "metadata": {},
   "source": [
    "# Prepare GT and save it together with the image"
   ]
  },
  {
   "cell_type": "code",
   "execution_count": 5,
   "id": "55b907a8",
   "metadata": {},
   "outputs": [],
   "source": [
    "output_dir = '../data_3D/'\n"
   ]
  },
  {
   "cell_type": "code",
   "execution_count": 6,
   "id": "88ebe093",
   "metadata": {},
   "outputs": [],
   "source": [
    "# create output directory\n",
    "import os\n",
    "if not os.path.exists(output_dir):\n",
    "    os.makedirs(output_dir)\n",
    "\n",
    "if not os.path.exists(output_dir + \"orange\"):\n",
    "    os.makedirs(output_dir + \"orange/GT\")\n",
    "\n",
    "if not os.path.exists(output_dir + \"green\"):\n",
    "    os.makedirs(output_dir + \"green/GT\")\n",
    "\n",
    "if not os.path.exists(output_dir + \"orange/RAW\"):\n",
    "    os.makedirs(output_dir + \"orange/RAW\")\n",
    "\n",
    "if not os.path.exists(output_dir + \"green/RAW\"):\n",
    "    os.makedirs(output_dir + \"green/RAW\")\n"
   ]
  },
  {
   "cell_type": "code",
   "execution_count": 13,
   "id": "26269504",
   "metadata": {},
   "outputs": [
    {
     "name": "stdout",
     "output_type": "stream",
     "text": [
      "Timestep:  0\n",
      "(19, 1200, 1200)\n",
      "(19, 1200, 1200)\n",
      "orange_20230920_AirGel_WTmSc_dwspFmN_mix_LAM02J-L_CIP_5.5hpi_23.5h.nd...el_WTmSc_dwspFmN_mix_LAM02J-L_CIP_5.5hpi_23.5h.nd2 (series 08) - C=1\n"
     ]
    },
    {
     "name": "stderr",
     "output_type": "stream",
     "text": [
      "WARNING: QOpenGLWidget: Failed to create context\n",
      "WARNING: QOpenGLWidget: Failed to create context\n",
      "WARNING: QOpenGLWidget: Failed to create context\n",
      "WARNING: QOpenGLWidget: Failed to create context\n",
      "WARNING: composeAndFlush: QOpenGLContext creation failed\n",
      "WARNING: composeAndFlush: makeCurrent() failed\n",
      "WARNING: QOpenGLWidget: Failed to create context\n",
      "WARNING: composeAndFlush: makeCurrent() failed\n",
      "WARNING: composeAndFlush: makeCurrent() failed\n",
      "WARNING: composeAndFlush: makeCurrent() failed\n"
     ]
    },
    {
     "name": "stdout",
     "output_type": "stream",
     "text": [
      "before block\n"
     ]
    },
    {
     "name": "stderr",
     "output_type": "stream",
     "text": [
      "WARNING: composeAndFlush: makeCurrent() failed\n",
      "WARNING: composeAndFlush: makeCurrent() failed\n",
      "WARNING: composeAndFlush: makeCurrent() failed\n",
      "WARNING: composeAndFlush: makeCurrent() failed\n",
      "WARNING: composeAndFlush: makeCurrent() failed\n",
      "WARNING: composeAndFlush: makeCurrent() failed\n",
      "WARNING: composeAndFlush: makeCurrent() failed\n",
      "WARNING: composeAndFlush: makeCurrent() failed\n",
      "WARNING: composeAndFlush: makeCurrent() failed\n",
      "WARNING: composeAndFlush: makeCurrent() failed\n",
      "WARNING: composeAndFlush: makeCurrent() failed\n",
      "WARNING: composeAndFlush: makeCurrent() failed\n",
      "WARNING: composeAndFlush: makeCurrent() failed\n",
      "WARNING: composeAndFlush: makeCurrent() failed\n",
      "WARNING: composeAndFlush: makeCurrent() failed\n",
      "WARNING: composeAndFlush: makeCurrent() failed\n",
      "WARNING: composeAndFlush: makeCurrent() failed\n",
      "WARNING: composeAndFlush: makeCurrent() failed\n",
      "WARNING: composeAndFlush: makeCurrent() failed\n",
      "WARNING: composeAndFlush: makeCurrent() failed\n",
      "WARNING: composeAndFlush: makeCurrent() failed\n",
      "WARNING: composeAndFlush: makeCurrent() failed\n",
      "WARNING: composeAndFlush: makeCurrent() failed\n",
      "WARNING: composeAndFlush: makeCurrent() failed\n",
      "WARNING: composeAndFlush: makeCurrent() failed\n",
      "WARNING: composeAndFlush: makeCurrent() failed\n",
      "WARNING: composeAndFlush: makeCurrent() failed\n",
      "WARNING: composeAndFlush: makeCurrent() failed\n",
      "WARNING: composeAndFlush: makeCurrent() failed\n",
      "WARNING: composeAndFlush: makeCurrent() failed\n",
      "WARNING: composeAndFlush: makeCurrent() failed\n",
      "WARNING: composeAndFlush: makeCurrent() failed\n",
      "WARNING: composeAndFlush: makeCurrent() failed\n",
      "WARNING: composeAndFlush: makeCurrent() failed\n",
      "WARNING: composeAndFlush: makeCurrent() failed\n",
      "WARNING: composeAndFlush: makeCurrent() failed\n"
     ]
    },
    {
     "name": "stdout",
     "output_type": "stream",
     "text": [
      "after block\n"
     ]
    },
    {
     "name": "stderr",
     "output_type": "stream",
     "text": [
      "WARNING: QOpenGLWidget: Failed to create context\n",
      "WARNING: QOpenGLWidget: Failed to create context\n",
      "WARNING: QOpenGLWidget: Failed to create context\n",
      "WARNING: QOpenGLWidget: Failed to create context\n",
      "WARNING: composeAndFlush: QOpenGLContext creation failed\n",
      "WARNING: composeAndFlush: makeCurrent() failed\n",
      "WARNING: QOpenGLWidget: Failed to create context\n",
      "WARNING: composeAndFlush: makeCurrent() failed\n",
      "WARNING: OpenGL version could not be determined, which might be a sign that OpenGL is not loaded correctly.\n",
      "WARNING: Error drawing visual <vispy.visuals.mesh.MeshVisual object at 0x7fc731e70140>\n"
     ]
    },
    {
     "name": "stdout",
     "output_type": "stream",
     "text": [
      "before block\n"
     ]
    },
    {
     "ename": "IndexError",
     "evalue": "list index out of range",
     "output_type": "error",
     "traceback": [
      "\u001b[0;31m---------------------------------------------------------------------------\u001b[0m",
      "\u001b[0;31mIndexError\u001b[0m                                Traceback (most recent call last)",
      "File \u001b[0;32m~/miniconda3/envs/competition_env/lib/python3.12/site-packages/vispy/app/backends/_qt.py:553\u001b[0m, in \u001b[0;36mQtBaseCanvasBackend.wheelEvent\u001b[0;34m(self, ev)\u001b[0m\n\u001b[1;32m    551\u001b[0m     deltax, deltay \u001b[39m=\u001b[39m delta\u001b[39m.\u001b[39mx() \u001b[39m/\u001b[39m \u001b[39m120.0\u001b[39m, delta\u001b[39m.\u001b[39my() \u001b[39m/\u001b[39m \u001b[39m120.0\u001b[39m\n\u001b[1;32m    552\u001b[0m \u001b[39m# Emit event\u001b[39;00m\n\u001b[0;32m--> 553\u001b[0m \u001b[39mself\u001b[39;49m\u001b[39m.\u001b[39;49m_vispy_canvas\u001b[39m.\u001b[39;49mevents\u001b[39m.\u001b[39;49mmouse_wheel(\n\u001b[1;32m    554\u001b[0m     native\u001b[39m=\u001b[39;49mev,\n\u001b[1;32m    555\u001b[0m     delta\u001b[39m=\u001b[39;49m(deltax, deltay),\n\u001b[1;32m    556\u001b[0m     pos\u001b[39m=\u001b[39;49m_get_event_xy(ev),\n\u001b[1;32m    557\u001b[0m     modifiers\u001b[39m=\u001b[39;49m\u001b[39mself\u001b[39;49m\u001b[39m.\u001b[39;49m_modifiers(ev),\n\u001b[1;32m    558\u001b[0m )\n",
      "File \u001b[0;32m~/miniconda3/envs/competition_env/lib/python3.12/site-packages/vispy/util/event.py:453\u001b[0m, in \u001b[0;36mEventEmitter.__call__\u001b[0;34m(self, *args, **kwargs)\u001b[0m\n\u001b[1;32m    450\u001b[0m \u001b[39mif\u001b[39;00m \u001b[39mself\u001b[39m\u001b[39m.\u001b[39m_emitting \u001b[39m>\u001b[39m \u001b[39m1\u001b[39m:\n\u001b[1;32m    451\u001b[0m     \u001b[39mraise\u001b[39;00m \u001b[39mRuntimeError\u001b[39;00m(\u001b[39m'\u001b[39m\u001b[39mEventEmitter loop detected!\u001b[39m\u001b[39m'\u001b[39m)\n\u001b[0;32m--> 453\u001b[0m \u001b[39mself\u001b[39;49m\u001b[39m.\u001b[39;49m_invoke_callback(cb, event)\n\u001b[1;32m    454\u001b[0m \u001b[39mif\u001b[39;00m event\u001b[39m.\u001b[39mblocked:\n\u001b[1;32m    455\u001b[0m     \u001b[39mbreak\u001b[39;00m\n",
      "File \u001b[0;32m~/miniconda3/envs/competition_env/lib/python3.12/site-packages/vispy/util/event.py:471\u001b[0m, in \u001b[0;36mEventEmitter._invoke_callback\u001b[0;34m(self, cb, event)\u001b[0m\n\u001b[1;32m    469\u001b[0m     cb(event)\n\u001b[1;32m    470\u001b[0m \u001b[39mexcept\u001b[39;00m \u001b[39mException\u001b[39;00m:\n\u001b[0;32m--> 471\u001b[0m     _handle_exception(\u001b[39mself\u001b[39;49m\u001b[39m.\u001b[39;49mignore_callback_errors,\n\u001b[1;32m    472\u001b[0m                       \u001b[39mself\u001b[39;49m\u001b[39m.\u001b[39;49mprint_callback_errors,\n\u001b[1;32m    473\u001b[0m                       \u001b[39mself\u001b[39;49m, cb_event\u001b[39m=\u001b[39;49m(cb, event))\n",
      "File \u001b[0;32m~/miniconda3/envs/competition_env/lib/python3.12/site-packages/vispy/util/event.py:469\u001b[0m, in \u001b[0;36mEventEmitter._invoke_callback\u001b[0;34m(self, cb, event)\u001b[0m\n\u001b[1;32m    467\u001b[0m \u001b[39mdef\u001b[39;00m \u001b[39m_invoke_callback\u001b[39m(\u001b[39mself\u001b[39m, cb, event):\n\u001b[1;32m    468\u001b[0m     \u001b[39mtry\u001b[39;00m:\n\u001b[0;32m--> 469\u001b[0m         cb(event)\n\u001b[1;32m    470\u001b[0m     \u001b[39mexcept\u001b[39;00m \u001b[39mException\u001b[39;00m:\n\u001b[1;32m    471\u001b[0m         _handle_exception(\u001b[39mself\u001b[39m\u001b[39m.\u001b[39mignore_callback_errors,\n\u001b[1;32m    472\u001b[0m                           \u001b[39mself\u001b[39m\u001b[39m.\u001b[39mprint_callback_errors,\n\u001b[1;32m    473\u001b[0m                           \u001b[39mself\u001b[39m, cb_event\u001b[39m=\u001b[39m(cb, event))\n",
      "File \u001b[0;32m~/miniconda3/envs/competition_env/lib/python3.12/site-packages/napari/_vispy/canvas.py:97\u001b[0m, in \u001b[0;36mVispyCanvas._process_mouse_event\u001b[0;34m(self, event)\u001b[0m\n\u001b[1;32m     95\u001b[0m \u001b[39mif\u001b[39;00m event\u001b[39m.\u001b[39mhandled:\n\u001b[1;32m     96\u001b[0m     \u001b[39mreturn\u001b[39;00m\n\u001b[0;32m---> 97\u001b[0m \u001b[39msuper\u001b[39;49m()\u001b[39m.\u001b[39;49m_process_mouse_event(event)\n",
      "File \u001b[0;32m~/miniconda3/envs/competition_env/lib/python3.12/site-packages/vispy/scene/canvas.py:354\u001b[0m, in \u001b[0;36mSceneCanvas._process_mouse_event\u001b[0;34m(self, event)\u001b[0m\n\u001b[1;32m    352\u001b[0m \u001b[39mif\u001b[39;00m picked \u001b[39mis\u001b[39;00m \u001b[39mNone\u001b[39;00m:\n\u001b[1;32m    353\u001b[0m     \u001b[39mif\u001b[39;00m event\u001b[39m.\u001b[39mtype \u001b[39min\u001b[39;00m deliver_types:\n\u001b[0;32m--> 354\u001b[0m         picked \u001b[39m=\u001b[39m \u001b[39mself\u001b[39;49m\u001b[39m.\u001b[39;49mvisual_at(event\u001b[39m.\u001b[39;49mpos)\n\u001b[1;32m    356\u001b[0m \u001b[39m# No visual to handle this event; bail out now\u001b[39;00m\n\u001b[1;32m    357\u001b[0m \u001b[39mif\u001b[39;00m picked \u001b[39mis\u001b[39;00m \u001b[39mNone\u001b[39;00m:\n",
      "File \u001b[0;32m~/miniconda3/envs/competition_env/lib/python3.12/site-packages/vispy/scene/canvas.py:407\u001b[0m, in \u001b[0;36mSceneCanvas.visual_at\u001b[0;34m(self, pos)\u001b[0m\n\u001b[1;32m    404\u001b[0m fbpos \u001b[39m=\u001b[39m tr\u001b[39m.\u001b[39mmap(pos)[:\u001b[39m2\u001b[39m]\n\u001b[1;32m    406\u001b[0m \u001b[39mtry\u001b[39;00m:\n\u001b[0;32m--> 407\u001b[0m     id_ \u001b[39m=\u001b[39m \u001b[39mself\u001b[39;49m\u001b[39m.\u001b[39;49m_render_picking((fbpos[\u001b[39m0\u001b[39;49m], fbpos[\u001b[39m1\u001b[39;49m], \u001b[39m1\u001b[39;49m, \u001b[39m1\u001b[39;49m))\n\u001b[1;32m    408\u001b[0m     vis \u001b[39m=\u001b[39m VisualNode\u001b[39m.\u001b[39m_visual_ids\u001b[39m.\u001b[39mget(id_[\u001b[39m0\u001b[39m, \u001b[39m0\u001b[39m], \u001b[39mNone\u001b[39;00m)\n\u001b[1;32m    409\u001b[0m \u001b[39mexcept\u001b[39;00m \u001b[39mRuntimeError\u001b[39;00m:\n\u001b[1;32m    410\u001b[0m     \u001b[39m# Don't have read_pixels() support for IPython. Fall back to\u001b[39;00m\n\u001b[1;32m    411\u001b[0m     \u001b[39m# bounds checking.\u001b[39;00m\n",
      "File \u001b[0;32m~/miniconda3/envs/competition_env/lib/python3.12/site-packages/vispy/scene/canvas.py:492\u001b[0m, in \u001b[0;36mSceneCanvas._render_picking\u001b[0;34m(self, crop)\u001b[0m\n\u001b[1;32m    490\u001b[0m \u001b[39mtry\u001b[39;00m:\n\u001b[1;32m    491\u001b[0m     \u001b[39mself\u001b[39m\u001b[39m.\u001b[39m_scene\u001b[39m.\u001b[39mpicking \u001b[39m=\u001b[39m \u001b[39mTrue\u001b[39;00m\n\u001b[0;32m--> 492\u001b[0m     img \u001b[39m=\u001b[39m \u001b[39mself\u001b[39;49m\u001b[39m.\u001b[39;49mrender(bgcolor\u001b[39m=\u001b[39;49m(\u001b[39m0\u001b[39;49m, \u001b[39m0\u001b[39;49m, \u001b[39m0\u001b[39;49m, \u001b[39m0\u001b[39;49m), crop\u001b[39m=\u001b[39;49mcrop)\n\u001b[1;32m    493\u001b[0m \u001b[39mfinally\u001b[39;00m:\n\u001b[1;32m    494\u001b[0m     \u001b[39mself\u001b[39m\u001b[39m.\u001b[39m_scene\u001b[39m.\u001b[39mpicking \u001b[39m=\u001b[39m \u001b[39mFalse\u001b[39;00m\n",
      "File \u001b[0;32m~/miniconda3/envs/competition_env/lib/python3.12/site-packages/vispy/scene/canvas.py:264\u001b[0m, in \u001b[0;36mSceneCanvas.render\u001b[0;34m(self, region, size, bgcolor, crop, alpha)\u001b[0m\n\u001b[1;32m    262\u001b[0m \u001b[39mself\u001b[39m\u001b[39m.\u001b[39mpush_fbo(fbo, offset, csize)\n\u001b[1;32m    263\u001b[0m \u001b[39mtry\u001b[39;00m:\n\u001b[0;32m--> 264\u001b[0m     \u001b[39mself\u001b[39;49m\u001b[39m.\u001b[39;49m_draw_scene(bgcolor\u001b[39m=\u001b[39;49mbgcolor)\n\u001b[1;32m    265\u001b[0m     result \u001b[39m=\u001b[39m fbo\u001b[39m.\u001b[39mread(crop\u001b[39m=\u001b[39mcrop)\n\u001b[1;32m    266\u001b[0m \u001b[39mfinally\u001b[39;00m:\n",
      "File \u001b[0;32m~/miniconda3/envs/competition_env/lib/python3.12/site-packages/vispy/scene/canvas.py:277\u001b[0m, in \u001b[0;36mSceneCanvas._draw_scene\u001b[0;34m(self, bgcolor)\u001b[0m\n\u001b[1;32m    275\u001b[0m     bgcolor \u001b[39m=\u001b[39m \u001b[39mself\u001b[39m\u001b[39m.\u001b[39m_bgcolor\n\u001b[1;32m    276\u001b[0m \u001b[39mself\u001b[39m\u001b[39m.\u001b[39mcontext\u001b[39m.\u001b[39mclear(color\u001b[39m=\u001b[39mbgcolor, depth\u001b[39m=\u001b[39m\u001b[39mTrue\u001b[39;00m)\n\u001b[0;32m--> 277\u001b[0m \u001b[39mself\u001b[39;49m\u001b[39m.\u001b[39;49mdraw_visual(\u001b[39mself\u001b[39;49m\u001b[39m.\u001b[39;49mscene)\n",
      "File \u001b[0;32m~/miniconda3/envs/competition_env/lib/python3.12/site-packages/vispy/scene/canvas.py:315\u001b[0m, in \u001b[0;36mSceneCanvas.draw_visual\u001b[0;34m(self, visual, event)\u001b[0m\n\u001b[1;32m    313\u001b[0m         \u001b[39melse\u001b[39;00m:\n\u001b[1;32m    314\u001b[0m             \u001b[39mif\u001b[39;00m \u001b[39mhasattr\u001b[39m(node, \u001b[39m'\u001b[39m\u001b[39mdraw\u001b[39m\u001b[39m'\u001b[39m):\n\u001b[0;32m--> 315\u001b[0m                 node\u001b[39m.\u001b[39;49mdraw()\n\u001b[1;32m    316\u001b[0m                 prof\u001b[39m.\u001b[39mmark(\u001b[39mstr\u001b[39m(node))\n\u001b[1;32m    317\u001b[0m \u001b[39melse\u001b[39;00m:\n",
      "File \u001b[0;32m~/miniconda3/envs/competition_env/lib/python3.12/site-packages/vispy/scene/visuals.py:103\u001b[0m, in \u001b[0;36mVisualNode.draw\u001b[0;34m(self)\u001b[0m\n\u001b[1;32m    101\u001b[0m \u001b[39mif\u001b[39;00m \u001b[39mself\u001b[39m\u001b[39m.\u001b[39mpicking \u001b[39mand\u001b[39;00m \u001b[39mnot\u001b[39;00m \u001b[39mself\u001b[39m\u001b[39m.\u001b[39minteractive:\n\u001b[1;32m    102\u001b[0m     \u001b[39mreturn\u001b[39;00m\n\u001b[0;32m--> 103\u001b[0m \u001b[39mself\u001b[39;49m\u001b[39m.\u001b[39;49m_visual_superclass\u001b[39m.\u001b[39;49mdraw(\u001b[39mself\u001b[39;49m)\n",
      "File \u001b[0;32m~/miniconda3/envs/competition_env/lib/python3.12/site-packages/vispy/visuals/visual.py:605\u001b[0m, in \u001b[0;36mCompoundVisual.draw\u001b[0;34m(self)\u001b[0m\n\u001b[1;32m    603\u001b[0m \u001b[39mfor\u001b[39;00m v \u001b[39min\u001b[39;00m \u001b[39mself\u001b[39m\u001b[39m.\u001b[39m_subvisuals:\n\u001b[1;32m    604\u001b[0m     \u001b[39mif\u001b[39;00m v\u001b[39m.\u001b[39mvisible:\n\u001b[0;32m--> 605\u001b[0m         v\u001b[39m.\u001b[39;49mdraw()\n",
      "File \u001b[0;32m~/miniconda3/envs/competition_env/lib/python3.12/site-packages/vispy/visuals/visual.py:451\u001b[0m, in \u001b[0;36mVisual.draw\u001b[0;34m(self)\u001b[0m\n\u001b[1;32m    449\u001b[0m \u001b[39mself\u001b[39m\u001b[39m.\u001b[39m_configure_gl_state()\n\u001b[1;32m    450\u001b[0m \u001b[39mtry\u001b[39;00m:\n\u001b[0;32m--> 451\u001b[0m     \u001b[39mself\u001b[39;49m\u001b[39m.\u001b[39;49m_program\u001b[39m.\u001b[39;49mdraw(\u001b[39mself\u001b[39;49m\u001b[39m.\u001b[39;49m_vshare\u001b[39m.\u001b[39;49mdraw_mode,\n\u001b[1;32m    452\u001b[0m                        \u001b[39mself\u001b[39;49m\u001b[39m.\u001b[39;49m_vshare\u001b[39m.\u001b[39;49mindex_buffer)\n\u001b[1;32m    453\u001b[0m \u001b[39mexcept\u001b[39;00m \u001b[39mException\u001b[39;00m:\n\u001b[1;32m    454\u001b[0m     logger\u001b[39m.\u001b[39mwarning(\u001b[39m\"\u001b[39m\u001b[39mError drawing visual \u001b[39m\u001b[39m%r\u001b[39;00m\u001b[39m\"\u001b[39m \u001b[39m%\u001b[39m \u001b[39mself\u001b[39m)\n",
      "File \u001b[0;32m~/miniconda3/envs/competition_env/lib/python3.12/site-packages/vispy/visuals/shaders/program.py:102\u001b[0m, in \u001b[0;36mModularProgram.draw\u001b[0;34m(self, *args, **kwargs)\u001b[0m\n\u001b[1;32m    100\u001b[0m \u001b[39mself\u001b[39m\u001b[39m.\u001b[39mbuild_if_needed()\n\u001b[1;32m    101\u001b[0m \u001b[39mself\u001b[39m\u001b[39m.\u001b[39mupdate_variables()\n\u001b[0;32m--> 102\u001b[0m Program\u001b[39m.\u001b[39;49mdraw(\u001b[39mself\u001b[39;49m, \u001b[39m*\u001b[39;49margs, \u001b[39m*\u001b[39;49m\u001b[39m*\u001b[39;49mkwargs)\n",
      "File \u001b[0;32m~/miniconda3/envs/competition_env/lib/python3.12/site-packages/vispy/gloo/program.py:543\u001b[0m, in \u001b[0;36mProgram.draw\u001b[0;34m(self, mode, indices, check_error)\u001b[0m\n\u001b[1;32m    539\u001b[0m     \u001b[39mraise\u001b[39;00m \u001b[39mTypeError\u001b[39;00m(\u001b[39m\"\u001b[39m\u001b[39mInvalid index: \u001b[39m\u001b[39m%r\u001b[39;00m\u001b[39m (must be IndexBuffer)\u001b[39m\u001b[39m\"\u001b[39m \u001b[39m%\u001b[39m\n\u001b[1;32m    540\u001b[0m                     indices)\n\u001b[1;32m    542\u001b[0m \u001b[39m# Process GLIR commands\u001b[39;00m\n\u001b[0;32m--> 543\u001b[0m canvas\u001b[39m.\u001b[39;49mcontext\u001b[39m.\u001b[39;49mflush_commands()\n",
      "File \u001b[0;32m~/miniconda3/envs/competition_env/lib/python3.12/site-packages/vispy/gloo/context.py:172\u001b[0m, in \u001b[0;36mGLContext.flush_commands\u001b[0;34m(self, event)\u001b[0m\n\u001b[1;32m    170\u001b[0m         fbo \u001b[39m=\u001b[39m \u001b[39m0\u001b[39m\n\u001b[1;32m    171\u001b[0m     \u001b[39mself\u001b[39m\u001b[39m.\u001b[39mshared\u001b[39m.\u001b[39mparser\u001b[39m.\u001b[39mparse([(\u001b[39m'\u001b[39m\u001b[39mCURRENT\u001b[39m\u001b[39m'\u001b[39m, \u001b[39m0\u001b[39m, fbo)])\n\u001b[0;32m--> 172\u001b[0m \u001b[39mself\u001b[39;49m\u001b[39m.\u001b[39;49mglir\u001b[39m.\u001b[39;49mflush(\u001b[39mself\u001b[39;49m\u001b[39m.\u001b[39;49mshared\u001b[39m.\u001b[39;49mparser)\n",
      "File \u001b[0;32m~/miniconda3/envs/competition_env/lib/python3.12/site-packages/vispy/gloo/glir.py:584\u001b[0m, in \u001b[0;36mGlirQueue.flush\u001b[0;34m(self, parser)\u001b[0m\n\u001b[1;32m    582\u001b[0m \u001b[39mdef\u001b[39;00m \u001b[39mflush\u001b[39m(\u001b[39mself\u001b[39m, parser):\n\u001b[1;32m    583\u001b[0m \u001b[39m    \u001b[39m\u001b[39m\"\"\"Flush all current commands to the GLIR interpreter.\"\"\"\u001b[39;00m\n\u001b[0;32m--> 584\u001b[0m     \u001b[39mself\u001b[39;49m\u001b[39m.\u001b[39;49m_shared\u001b[39m.\u001b[39;49mflush(parser)\n",
      "File \u001b[0;32m~/miniconda3/envs/competition_env/lib/python3.12/site-packages/vispy/gloo/glir.py:506\u001b[0m, in \u001b[0;36m_GlirQueueShare.flush\u001b[0;34m(self, parser)\u001b[0m\n\u001b[1;32m    504\u001b[0m     show \u001b[39m=\u001b[39m \u001b[39mself\u001b[39m\u001b[39m.\u001b[39m_verbose \u001b[39mif\u001b[39;00m \u001b[39misinstance\u001b[39m(\u001b[39mself\u001b[39m\u001b[39m.\u001b[39m_verbose, \u001b[39mstr\u001b[39m) \u001b[39melse\u001b[39;00m \u001b[39mNone\u001b[39;00m\n\u001b[1;32m    505\u001b[0m     \u001b[39mself\u001b[39m\u001b[39m.\u001b[39mshow(show)\n\u001b[0;32m--> 506\u001b[0m parser\u001b[39m.\u001b[39;49mparse(\u001b[39mself\u001b[39;49m\u001b[39m.\u001b[39;49m_filter(\u001b[39mself\u001b[39;49m\u001b[39m.\u001b[39;49mclear(), parser))\n",
      "File \u001b[0;32m~/miniconda3/envs/competition_env/lib/python3.12/site-packages/vispy/gloo/glir.py:824\u001b[0m, in \u001b[0;36mGlirParser.parse\u001b[0;34m(self, commands)\u001b[0m\n\u001b[1;32m    821\u001b[0m     \u001b[39mself\u001b[39m\u001b[39m.\u001b[39m_objects\u001b[39m.\u001b[39mpop(id_)\n\u001b[1;32m    823\u001b[0m \u001b[39mfor\u001b[39;00m command \u001b[39min\u001b[39;00m commands:\n\u001b[0;32m--> 824\u001b[0m     \u001b[39mself\u001b[39;49m\u001b[39m.\u001b[39;49m_parse(command)\n",
      "File \u001b[0;32m~/miniconda3/envs/competition_env/lib/python3.12/site-packages/vispy/gloo/glir.py:798\u001b[0m, in \u001b[0;36mGlirParser._parse\u001b[0;34m(self, command)\u001b[0m\n\u001b[1;32m    796\u001b[0m     ob\u001b[39m.\u001b[39mset_size(\u001b[39m*\u001b[39margs)  \u001b[39m# Texture[1D, 2D, 3D], RenderBuffer\u001b[39;00m\n\u001b[1;32m    797\u001b[0m \u001b[39melif\u001b[39;00m cmd \u001b[39m==\u001b[39m \u001b[39m'\u001b[39m\u001b[39mATTACH\u001b[39m\u001b[39m'\u001b[39m:  \u001b[39m# FrameBuffer, Program\u001b[39;00m\n\u001b[0;32m--> 798\u001b[0m     ob\u001b[39m.\u001b[39;49mattach(\u001b[39m*\u001b[39;49margs)\n\u001b[1;32m    799\u001b[0m \u001b[39melif\u001b[39;00m cmd \u001b[39m==\u001b[39m \u001b[39m'\u001b[39m\u001b[39mFRAMEBUFFER\u001b[39m\u001b[39m'\u001b[39m:  \u001b[39m# FrameBuffer\u001b[39;00m\n\u001b[1;32m    800\u001b[0m     ob\u001b[39m.\u001b[39mset_framebuffer(\u001b[39m*\u001b[39margs)\n",
      "File \u001b[0;32m~/miniconda3/envs/competition_env/lib/python3.12/site-packages/vispy/gloo/glir.py:1795\u001b[0m, in \u001b[0;36mGlirFrameBuffer.attach\u001b[0;34m(self, attachment, buffer_id)\u001b[0m\n\u001b[1;32m   1793\u001b[0m         \u001b[39mraise\u001b[39;00m \u001b[39mValueError\u001b[39;00m(\u001b[39m\"\u001b[39m\u001b[39mInvalid attachment: \u001b[39m\u001b[39m%s\u001b[39;00m\u001b[39m\"\u001b[39m \u001b[39m%\u001b[39m \u001b[39mtype\u001b[39m(buffer))\n\u001b[1;32m   1794\u001b[0m \u001b[39mself\u001b[39m\u001b[39m.\u001b[39m_validated \u001b[39m=\u001b[39m \u001b[39mFalse\u001b[39;00m\n\u001b[0;32m-> 1795\u001b[0m \u001b[39mself\u001b[39;49m\u001b[39m.\u001b[39;49mdeactivate()\n",
      "File \u001b[0;32m~/miniconda3/envs/competition_env/lib/python3.12/site-packages/vispy/gloo/glir.py:1766\u001b[0m, in \u001b[0;36mGlirFrameBuffer.deactivate\u001b[0;34m(self)\u001b[0m\n\u001b[1;32m   1764\u001b[0m \u001b[39mwhile\u001b[39;00m \u001b[39mself\u001b[39m\u001b[39m.\u001b[39m_handle \u001b[39min\u001b[39;00m stack:\n\u001b[1;32m   1765\u001b[0m     stack\u001b[39m.\u001b[39mremove(\u001b[39mself\u001b[39m\u001b[39m.\u001b[39m_handle)\n\u001b[0;32m-> 1766\u001b[0m gl\u001b[39m.\u001b[39mglBindFramebuffer(gl\u001b[39m.\u001b[39mGL_FRAMEBUFFER, stack[\u001b[39m-\u001b[39;49m\u001b[39m1\u001b[39;49m])\n",
      "\u001b[0;31mIndexError\u001b[0m: list index out of range"
     ]
    },
    {
     "name": "stderr",
     "output_type": "stream",
     "text": [
      "WARNING: composeAndFlush: makeCurrent() failed\n",
      "WARNING: Error drawing visual <vispy.visuals.mesh.MeshVisual object at 0x7fc731e70140>\n"
     ]
    },
    {
     "ename": "IndexError",
     "evalue": "list index out of range",
     "output_type": "error",
     "traceback": [
      "\u001b[0;31m---------------------------------------------------------------------------\u001b[0m",
      "\u001b[0;31mIndexError\u001b[0m                                Traceback (most recent call last)",
      "File \u001b[0;32m~/miniconda3/envs/competition_env/lib/python3.12/site-packages/vispy/app/backends/_qt.py:553\u001b[0m, in \u001b[0;36mQtBaseCanvasBackend.wheelEvent\u001b[0;34m(self, ev)\u001b[0m\n\u001b[1;32m    551\u001b[0m     deltax, deltay \u001b[39m=\u001b[39m delta\u001b[39m.\u001b[39mx() \u001b[39m/\u001b[39m \u001b[39m120.0\u001b[39m, delta\u001b[39m.\u001b[39my() \u001b[39m/\u001b[39m \u001b[39m120.0\u001b[39m\n\u001b[1;32m    552\u001b[0m \u001b[39m# Emit event\u001b[39;00m\n\u001b[0;32m--> 553\u001b[0m \u001b[39mself\u001b[39;49m\u001b[39m.\u001b[39;49m_vispy_canvas\u001b[39m.\u001b[39;49mevents\u001b[39m.\u001b[39;49mmouse_wheel(\n\u001b[1;32m    554\u001b[0m     native\u001b[39m=\u001b[39;49mev,\n\u001b[1;32m    555\u001b[0m     delta\u001b[39m=\u001b[39;49m(deltax, deltay),\n\u001b[1;32m    556\u001b[0m     pos\u001b[39m=\u001b[39;49m_get_event_xy(ev),\n\u001b[1;32m    557\u001b[0m     modifiers\u001b[39m=\u001b[39;49m\u001b[39mself\u001b[39;49m\u001b[39m.\u001b[39;49m_modifiers(ev),\n\u001b[1;32m    558\u001b[0m )\n",
      "File \u001b[0;32m~/miniconda3/envs/competition_env/lib/python3.12/site-packages/vispy/util/event.py:453\u001b[0m, in \u001b[0;36mEventEmitter.__call__\u001b[0;34m(self, *args, **kwargs)\u001b[0m\n\u001b[1;32m    450\u001b[0m \u001b[39mif\u001b[39;00m \u001b[39mself\u001b[39m\u001b[39m.\u001b[39m_emitting \u001b[39m>\u001b[39m \u001b[39m1\u001b[39m:\n\u001b[1;32m    451\u001b[0m     \u001b[39mraise\u001b[39;00m \u001b[39mRuntimeError\u001b[39;00m(\u001b[39m'\u001b[39m\u001b[39mEventEmitter loop detected!\u001b[39m\u001b[39m'\u001b[39m)\n\u001b[0;32m--> 453\u001b[0m \u001b[39mself\u001b[39;49m\u001b[39m.\u001b[39;49m_invoke_callback(cb, event)\n\u001b[1;32m    454\u001b[0m \u001b[39mif\u001b[39;00m event\u001b[39m.\u001b[39mblocked:\n\u001b[1;32m    455\u001b[0m     \u001b[39mbreak\u001b[39;00m\n",
      "File \u001b[0;32m~/miniconda3/envs/competition_env/lib/python3.12/site-packages/vispy/util/event.py:471\u001b[0m, in \u001b[0;36mEventEmitter._invoke_callback\u001b[0;34m(self, cb, event)\u001b[0m\n\u001b[1;32m    469\u001b[0m     cb(event)\n\u001b[1;32m    470\u001b[0m \u001b[39mexcept\u001b[39;00m \u001b[39mException\u001b[39;00m:\n\u001b[0;32m--> 471\u001b[0m     _handle_exception(\u001b[39mself\u001b[39;49m\u001b[39m.\u001b[39;49mignore_callback_errors,\n\u001b[1;32m    472\u001b[0m                       \u001b[39mself\u001b[39;49m\u001b[39m.\u001b[39;49mprint_callback_errors,\n\u001b[1;32m    473\u001b[0m                       \u001b[39mself\u001b[39;49m, cb_event\u001b[39m=\u001b[39;49m(cb, event))\n",
      "File \u001b[0;32m~/miniconda3/envs/competition_env/lib/python3.12/site-packages/vispy/util/event.py:469\u001b[0m, in \u001b[0;36mEventEmitter._invoke_callback\u001b[0;34m(self, cb, event)\u001b[0m\n\u001b[1;32m    467\u001b[0m \u001b[39mdef\u001b[39;00m \u001b[39m_invoke_callback\u001b[39m(\u001b[39mself\u001b[39m, cb, event):\n\u001b[1;32m    468\u001b[0m     \u001b[39mtry\u001b[39;00m:\n\u001b[0;32m--> 469\u001b[0m         cb(event)\n\u001b[1;32m    470\u001b[0m     \u001b[39mexcept\u001b[39;00m \u001b[39mException\u001b[39;00m:\n\u001b[1;32m    471\u001b[0m         _handle_exception(\u001b[39mself\u001b[39m\u001b[39m.\u001b[39mignore_callback_errors,\n\u001b[1;32m    472\u001b[0m                           \u001b[39mself\u001b[39m\u001b[39m.\u001b[39mprint_callback_errors,\n\u001b[1;32m    473\u001b[0m                           \u001b[39mself\u001b[39m, cb_event\u001b[39m=\u001b[39m(cb, event))\n",
      "File \u001b[0;32m~/miniconda3/envs/competition_env/lib/python3.12/site-packages/napari/_vispy/canvas.py:97\u001b[0m, in \u001b[0;36mVispyCanvas._process_mouse_event\u001b[0;34m(self, event)\u001b[0m\n\u001b[1;32m     95\u001b[0m \u001b[39mif\u001b[39;00m event\u001b[39m.\u001b[39mhandled:\n\u001b[1;32m     96\u001b[0m     \u001b[39mreturn\u001b[39;00m\n\u001b[0;32m---> 97\u001b[0m \u001b[39msuper\u001b[39;49m()\u001b[39m.\u001b[39;49m_process_mouse_event(event)\n",
      "File \u001b[0;32m~/miniconda3/envs/competition_env/lib/python3.12/site-packages/vispy/scene/canvas.py:354\u001b[0m, in \u001b[0;36mSceneCanvas._process_mouse_event\u001b[0;34m(self, event)\u001b[0m\n\u001b[1;32m    352\u001b[0m \u001b[39mif\u001b[39;00m picked \u001b[39mis\u001b[39;00m \u001b[39mNone\u001b[39;00m:\n\u001b[1;32m    353\u001b[0m     \u001b[39mif\u001b[39;00m event\u001b[39m.\u001b[39mtype \u001b[39min\u001b[39;00m deliver_types:\n\u001b[0;32m--> 354\u001b[0m         picked \u001b[39m=\u001b[39m \u001b[39mself\u001b[39;49m\u001b[39m.\u001b[39;49mvisual_at(event\u001b[39m.\u001b[39;49mpos)\n\u001b[1;32m    356\u001b[0m \u001b[39m# No visual to handle this event; bail out now\u001b[39;00m\n\u001b[1;32m    357\u001b[0m \u001b[39mif\u001b[39;00m picked \u001b[39mis\u001b[39;00m \u001b[39mNone\u001b[39;00m:\n",
      "File \u001b[0;32m~/miniconda3/envs/competition_env/lib/python3.12/site-packages/vispy/scene/canvas.py:407\u001b[0m, in \u001b[0;36mSceneCanvas.visual_at\u001b[0;34m(self, pos)\u001b[0m\n\u001b[1;32m    404\u001b[0m fbpos \u001b[39m=\u001b[39m tr\u001b[39m.\u001b[39mmap(pos)[:\u001b[39m2\u001b[39m]\n\u001b[1;32m    406\u001b[0m \u001b[39mtry\u001b[39;00m:\n\u001b[0;32m--> 407\u001b[0m     id_ \u001b[39m=\u001b[39m \u001b[39mself\u001b[39;49m\u001b[39m.\u001b[39;49m_render_picking((fbpos[\u001b[39m0\u001b[39;49m], fbpos[\u001b[39m1\u001b[39;49m], \u001b[39m1\u001b[39;49m, \u001b[39m1\u001b[39;49m))\n\u001b[1;32m    408\u001b[0m     vis \u001b[39m=\u001b[39m VisualNode\u001b[39m.\u001b[39m_visual_ids\u001b[39m.\u001b[39mget(id_[\u001b[39m0\u001b[39m, \u001b[39m0\u001b[39m], \u001b[39mNone\u001b[39;00m)\n\u001b[1;32m    409\u001b[0m \u001b[39mexcept\u001b[39;00m \u001b[39mRuntimeError\u001b[39;00m:\n\u001b[1;32m    410\u001b[0m     \u001b[39m# Don't have read_pixels() support for IPython. Fall back to\u001b[39;00m\n\u001b[1;32m    411\u001b[0m     \u001b[39m# bounds checking.\u001b[39;00m\n",
      "File \u001b[0;32m~/miniconda3/envs/competition_env/lib/python3.12/site-packages/vispy/scene/canvas.py:492\u001b[0m, in \u001b[0;36mSceneCanvas._render_picking\u001b[0;34m(self, crop)\u001b[0m\n\u001b[1;32m    490\u001b[0m \u001b[39mtry\u001b[39;00m:\n\u001b[1;32m    491\u001b[0m     \u001b[39mself\u001b[39m\u001b[39m.\u001b[39m_scene\u001b[39m.\u001b[39mpicking \u001b[39m=\u001b[39m \u001b[39mTrue\u001b[39;00m\n\u001b[0;32m--> 492\u001b[0m     img \u001b[39m=\u001b[39m \u001b[39mself\u001b[39;49m\u001b[39m.\u001b[39;49mrender(bgcolor\u001b[39m=\u001b[39;49m(\u001b[39m0\u001b[39;49m, \u001b[39m0\u001b[39;49m, \u001b[39m0\u001b[39;49m, \u001b[39m0\u001b[39;49m), crop\u001b[39m=\u001b[39;49mcrop)\n\u001b[1;32m    493\u001b[0m \u001b[39mfinally\u001b[39;00m:\n\u001b[1;32m    494\u001b[0m     \u001b[39mself\u001b[39m\u001b[39m.\u001b[39m_scene\u001b[39m.\u001b[39mpicking \u001b[39m=\u001b[39m \u001b[39mFalse\u001b[39;00m\n",
      "File \u001b[0;32m~/miniconda3/envs/competition_env/lib/python3.12/site-packages/vispy/scene/canvas.py:264\u001b[0m, in \u001b[0;36mSceneCanvas.render\u001b[0;34m(self, region, size, bgcolor, crop, alpha)\u001b[0m\n\u001b[1;32m    262\u001b[0m \u001b[39mself\u001b[39m\u001b[39m.\u001b[39mpush_fbo(fbo, offset, csize)\n\u001b[1;32m    263\u001b[0m \u001b[39mtry\u001b[39;00m:\n\u001b[0;32m--> 264\u001b[0m     \u001b[39mself\u001b[39;49m\u001b[39m.\u001b[39;49m_draw_scene(bgcolor\u001b[39m=\u001b[39;49mbgcolor)\n\u001b[1;32m    265\u001b[0m     result \u001b[39m=\u001b[39m fbo\u001b[39m.\u001b[39mread(crop\u001b[39m=\u001b[39mcrop)\n\u001b[1;32m    266\u001b[0m \u001b[39mfinally\u001b[39;00m:\n",
      "File \u001b[0;32m~/miniconda3/envs/competition_env/lib/python3.12/site-packages/vispy/scene/canvas.py:277\u001b[0m, in \u001b[0;36mSceneCanvas._draw_scene\u001b[0;34m(self, bgcolor)\u001b[0m\n\u001b[1;32m    275\u001b[0m     bgcolor \u001b[39m=\u001b[39m \u001b[39mself\u001b[39m\u001b[39m.\u001b[39m_bgcolor\n\u001b[1;32m    276\u001b[0m \u001b[39mself\u001b[39m\u001b[39m.\u001b[39mcontext\u001b[39m.\u001b[39mclear(color\u001b[39m=\u001b[39mbgcolor, depth\u001b[39m=\u001b[39m\u001b[39mTrue\u001b[39;00m)\n\u001b[0;32m--> 277\u001b[0m \u001b[39mself\u001b[39;49m\u001b[39m.\u001b[39;49mdraw_visual(\u001b[39mself\u001b[39;49m\u001b[39m.\u001b[39;49mscene)\n",
      "File \u001b[0;32m~/miniconda3/envs/competition_env/lib/python3.12/site-packages/vispy/scene/canvas.py:315\u001b[0m, in \u001b[0;36mSceneCanvas.draw_visual\u001b[0;34m(self, visual, event)\u001b[0m\n\u001b[1;32m    313\u001b[0m         \u001b[39melse\u001b[39;00m:\n\u001b[1;32m    314\u001b[0m             \u001b[39mif\u001b[39;00m \u001b[39mhasattr\u001b[39m(node, \u001b[39m'\u001b[39m\u001b[39mdraw\u001b[39m\u001b[39m'\u001b[39m):\n\u001b[0;32m--> 315\u001b[0m                 node\u001b[39m.\u001b[39;49mdraw()\n\u001b[1;32m    316\u001b[0m                 prof\u001b[39m.\u001b[39mmark(\u001b[39mstr\u001b[39m(node))\n\u001b[1;32m    317\u001b[0m \u001b[39melse\u001b[39;00m:\n",
      "File \u001b[0;32m~/miniconda3/envs/competition_env/lib/python3.12/site-packages/vispy/scene/visuals.py:103\u001b[0m, in \u001b[0;36mVisualNode.draw\u001b[0;34m(self)\u001b[0m\n\u001b[1;32m    101\u001b[0m \u001b[39mif\u001b[39;00m \u001b[39mself\u001b[39m\u001b[39m.\u001b[39mpicking \u001b[39mand\u001b[39;00m \u001b[39mnot\u001b[39;00m \u001b[39mself\u001b[39m\u001b[39m.\u001b[39minteractive:\n\u001b[1;32m    102\u001b[0m     \u001b[39mreturn\u001b[39;00m\n\u001b[0;32m--> 103\u001b[0m \u001b[39mself\u001b[39;49m\u001b[39m.\u001b[39;49m_visual_superclass\u001b[39m.\u001b[39;49mdraw(\u001b[39mself\u001b[39;49m)\n",
      "File \u001b[0;32m~/miniconda3/envs/competition_env/lib/python3.12/site-packages/vispy/visuals/visual.py:605\u001b[0m, in \u001b[0;36mCompoundVisual.draw\u001b[0;34m(self)\u001b[0m\n\u001b[1;32m    603\u001b[0m \u001b[39mfor\u001b[39;00m v \u001b[39min\u001b[39;00m \u001b[39mself\u001b[39m\u001b[39m.\u001b[39m_subvisuals:\n\u001b[1;32m    604\u001b[0m     \u001b[39mif\u001b[39;00m v\u001b[39m.\u001b[39mvisible:\n\u001b[0;32m--> 605\u001b[0m         v\u001b[39m.\u001b[39;49mdraw()\n",
      "File \u001b[0;32m~/miniconda3/envs/competition_env/lib/python3.12/site-packages/vispy/visuals/visual.py:451\u001b[0m, in \u001b[0;36mVisual.draw\u001b[0;34m(self)\u001b[0m\n\u001b[1;32m    449\u001b[0m \u001b[39mself\u001b[39m\u001b[39m.\u001b[39m_configure_gl_state()\n\u001b[1;32m    450\u001b[0m \u001b[39mtry\u001b[39;00m:\n\u001b[0;32m--> 451\u001b[0m     \u001b[39mself\u001b[39;49m\u001b[39m.\u001b[39;49m_program\u001b[39m.\u001b[39;49mdraw(\u001b[39mself\u001b[39;49m\u001b[39m.\u001b[39;49m_vshare\u001b[39m.\u001b[39;49mdraw_mode,\n\u001b[1;32m    452\u001b[0m                        \u001b[39mself\u001b[39;49m\u001b[39m.\u001b[39;49m_vshare\u001b[39m.\u001b[39;49mindex_buffer)\n\u001b[1;32m    453\u001b[0m \u001b[39mexcept\u001b[39;00m \u001b[39mException\u001b[39;00m:\n\u001b[1;32m    454\u001b[0m     logger\u001b[39m.\u001b[39mwarning(\u001b[39m\"\u001b[39m\u001b[39mError drawing visual \u001b[39m\u001b[39m%r\u001b[39;00m\u001b[39m\"\u001b[39m \u001b[39m%\u001b[39m \u001b[39mself\u001b[39m)\n",
      "File \u001b[0;32m~/miniconda3/envs/competition_env/lib/python3.12/site-packages/vispy/visuals/shaders/program.py:102\u001b[0m, in \u001b[0;36mModularProgram.draw\u001b[0;34m(self, *args, **kwargs)\u001b[0m\n\u001b[1;32m    100\u001b[0m \u001b[39mself\u001b[39m\u001b[39m.\u001b[39mbuild_if_needed()\n\u001b[1;32m    101\u001b[0m \u001b[39mself\u001b[39m\u001b[39m.\u001b[39mupdate_variables()\n\u001b[0;32m--> 102\u001b[0m Program\u001b[39m.\u001b[39;49mdraw(\u001b[39mself\u001b[39;49m, \u001b[39m*\u001b[39;49margs, \u001b[39m*\u001b[39;49m\u001b[39m*\u001b[39;49mkwargs)\n",
      "File \u001b[0;32m~/miniconda3/envs/competition_env/lib/python3.12/site-packages/vispy/gloo/program.py:543\u001b[0m, in \u001b[0;36mProgram.draw\u001b[0;34m(self, mode, indices, check_error)\u001b[0m\n\u001b[1;32m    539\u001b[0m     \u001b[39mraise\u001b[39;00m \u001b[39mTypeError\u001b[39;00m(\u001b[39m\"\u001b[39m\u001b[39mInvalid index: \u001b[39m\u001b[39m%r\u001b[39;00m\u001b[39m (must be IndexBuffer)\u001b[39m\u001b[39m\"\u001b[39m \u001b[39m%\u001b[39m\n\u001b[1;32m    540\u001b[0m                     indices)\n\u001b[1;32m    542\u001b[0m \u001b[39m# Process GLIR commands\u001b[39;00m\n\u001b[0;32m--> 543\u001b[0m canvas\u001b[39m.\u001b[39;49mcontext\u001b[39m.\u001b[39;49mflush_commands()\n",
      "File \u001b[0;32m~/miniconda3/envs/competition_env/lib/python3.12/site-packages/vispy/gloo/context.py:172\u001b[0m, in \u001b[0;36mGLContext.flush_commands\u001b[0;34m(self, event)\u001b[0m\n\u001b[1;32m    170\u001b[0m         fbo \u001b[39m=\u001b[39m \u001b[39m0\u001b[39m\n\u001b[1;32m    171\u001b[0m     \u001b[39mself\u001b[39m\u001b[39m.\u001b[39mshared\u001b[39m.\u001b[39mparser\u001b[39m.\u001b[39mparse([(\u001b[39m'\u001b[39m\u001b[39mCURRENT\u001b[39m\u001b[39m'\u001b[39m, \u001b[39m0\u001b[39m, fbo)])\n\u001b[0;32m--> 172\u001b[0m \u001b[39mself\u001b[39;49m\u001b[39m.\u001b[39;49mglir\u001b[39m.\u001b[39;49mflush(\u001b[39mself\u001b[39;49m\u001b[39m.\u001b[39;49mshared\u001b[39m.\u001b[39;49mparser)\n",
      "File \u001b[0;32m~/miniconda3/envs/competition_env/lib/python3.12/site-packages/vispy/gloo/glir.py:584\u001b[0m, in \u001b[0;36mGlirQueue.flush\u001b[0;34m(self, parser)\u001b[0m\n\u001b[1;32m    582\u001b[0m \u001b[39mdef\u001b[39;00m \u001b[39mflush\u001b[39m(\u001b[39mself\u001b[39m, parser):\n\u001b[1;32m    583\u001b[0m \u001b[39m    \u001b[39m\u001b[39m\"\"\"Flush all current commands to the GLIR interpreter.\"\"\"\u001b[39;00m\n\u001b[0;32m--> 584\u001b[0m     \u001b[39mself\u001b[39;49m\u001b[39m.\u001b[39;49m_shared\u001b[39m.\u001b[39;49mflush(parser)\n",
      "File \u001b[0;32m~/miniconda3/envs/competition_env/lib/python3.12/site-packages/vispy/gloo/glir.py:506\u001b[0m, in \u001b[0;36m_GlirQueueShare.flush\u001b[0;34m(self, parser)\u001b[0m\n\u001b[1;32m    504\u001b[0m     show \u001b[39m=\u001b[39m \u001b[39mself\u001b[39m\u001b[39m.\u001b[39m_verbose \u001b[39mif\u001b[39;00m \u001b[39misinstance\u001b[39m(\u001b[39mself\u001b[39m\u001b[39m.\u001b[39m_verbose, \u001b[39mstr\u001b[39m) \u001b[39melse\u001b[39;00m \u001b[39mNone\u001b[39;00m\n\u001b[1;32m    505\u001b[0m     \u001b[39mself\u001b[39m\u001b[39m.\u001b[39mshow(show)\n\u001b[0;32m--> 506\u001b[0m parser\u001b[39m.\u001b[39;49mparse(\u001b[39mself\u001b[39;49m\u001b[39m.\u001b[39;49m_filter(\u001b[39mself\u001b[39;49m\u001b[39m.\u001b[39;49mclear(), parser))\n",
      "File \u001b[0;32m~/miniconda3/envs/competition_env/lib/python3.12/site-packages/vispy/gloo/glir.py:824\u001b[0m, in \u001b[0;36mGlirParser.parse\u001b[0;34m(self, commands)\u001b[0m\n\u001b[1;32m    821\u001b[0m     \u001b[39mself\u001b[39m\u001b[39m.\u001b[39m_objects\u001b[39m.\u001b[39mpop(id_)\n\u001b[1;32m    823\u001b[0m \u001b[39mfor\u001b[39;00m command \u001b[39min\u001b[39;00m commands:\n\u001b[0;32m--> 824\u001b[0m     \u001b[39mself\u001b[39;49m\u001b[39m.\u001b[39;49m_parse(command)\n",
      "File \u001b[0;32m~/miniconda3/envs/competition_env/lib/python3.12/site-packages/vispy/gloo/glir.py:800\u001b[0m, in \u001b[0;36mGlirParser._parse\u001b[0;34m(self, command)\u001b[0m\n\u001b[1;32m    798\u001b[0m     ob\u001b[39m.\u001b[39mattach(\u001b[39m*\u001b[39margs)\n\u001b[1;32m    799\u001b[0m \u001b[39melif\u001b[39;00m cmd \u001b[39m==\u001b[39m \u001b[39m'\u001b[39m\u001b[39mFRAMEBUFFER\u001b[39m\u001b[39m'\u001b[39m:  \u001b[39m# FrameBuffer\u001b[39;00m\n\u001b[0;32m--> 800\u001b[0m     ob\u001b[39m.\u001b[39;49mset_framebuffer(\u001b[39m*\u001b[39;49margs)\n\u001b[1;32m    801\u001b[0m \u001b[39m# elif cmd == 'SHADERS':  # Program\u001b[39;00m\n\u001b[1;32m    802\u001b[0m \u001b[39m#     ob.set_shaders(*args)\u001b[39;00m\n\u001b[1;32m    803\u001b[0m \u001b[39melif\u001b[39;00m cmd \u001b[39m==\u001b[39m \u001b[39m'\u001b[39m\u001b[39mLINK\u001b[39m\u001b[39m'\u001b[39m:  \u001b[39m# Program\u001b[39;00m\n",
      "File \u001b[0;32m~/miniconda3/envs/competition_env/lib/python3.12/site-packages/vispy/gloo/glir.py:1752\u001b[0m, in \u001b[0;36mGlirFrameBuffer.set_framebuffer\u001b[0;34m(self, yes)\u001b[0m\n\u001b[1;32m   1750\u001b[0m         \u001b[39mself\u001b[39m\u001b[39m.\u001b[39m_validate()\n\u001b[1;32m   1751\u001b[0m \u001b[39melse\u001b[39;00m:\n\u001b[0;32m-> 1752\u001b[0m     \u001b[39mself\u001b[39;49m\u001b[39m.\u001b[39;49mdeactivate()\n",
      "File \u001b[0;32m~/miniconda3/envs/competition_env/lib/python3.12/site-packages/vispy/gloo/glir.py:1766\u001b[0m, in \u001b[0;36mGlirFrameBuffer.deactivate\u001b[0;34m(self)\u001b[0m\n\u001b[1;32m   1764\u001b[0m \u001b[39mwhile\u001b[39;00m \u001b[39mself\u001b[39m\u001b[39m.\u001b[39m_handle \u001b[39min\u001b[39;00m stack:\n\u001b[1;32m   1765\u001b[0m     stack\u001b[39m.\u001b[39mremove(\u001b[39mself\u001b[39m\u001b[39m.\u001b[39m_handle)\n\u001b[0;32m-> 1766\u001b[0m gl\u001b[39m.\u001b[39mglBindFramebuffer(gl\u001b[39m.\u001b[39mGL_FRAMEBUFFER, stack[\u001b[39m-\u001b[39;49m\u001b[39m1\u001b[39;49m])\n",
      "\u001b[0;31mIndexError\u001b[0m: list index out of range"
     ]
    },
    {
     "name": "stderr",
     "output_type": "stream",
     "text": [
      "WARNING: composeAndFlush: makeCurrent() failed\n",
      "WARNING: composeAndFlush: makeCurrent() failed\n",
      "WARNING: composeAndFlush: makeCurrent() failed\n",
      "WARNING: composeAndFlush: makeCurrent() failed\n",
      "WARNING: composeAndFlush: makeCurrent() failed\n",
      "WARNING: composeAndFlush: makeCurrent() failed\n",
      "WARNING: composeAndFlush: makeCurrent() failed\n",
      "WARNING: composeAndFlush: makeCurrent() failed\n",
      "WARNING: composeAndFlush: makeCurrent() failed\n",
      "WARNING: composeAndFlush: makeCurrent() failed\n",
      "WARNING: composeAndFlush: makeCurrent() failed\n",
      "WARNING: composeAndFlush: makeCurrent() failed\n",
      "WARNING: composeAndFlush: makeCurrent() failed\n",
      "WARNING: composeAndFlush: makeCurrent() failed\n",
      "WARNING: composeAndFlush: makeCurrent() failed\n",
      "WARNING: composeAndFlush: makeCurrent() failed\n",
      "WARNING: composeAndFlush: makeCurrent() failed\n",
      "WARNING: composeAndFlush: makeCurrent() failed\n"
     ]
    },
    {
     "name": "stdout",
     "output_type": "stream",
     "text": [
      "after block\n",
      "Timestep:  1\n",
      "(19, 1200, 1200)\n",
      "(19, 1200, 1200)\n",
      "orange_20230920_AirGel_WTmSc_dwspFmN_mix_LAM02J-L_CIP_5.5hpi_23.5h.nd...el_WTmSc_dwspFmN_mix_LAM02J-L_CIP_5.5hpi_23.5h\n"
     ]
    },
    {
     "ename": "KeyboardInterrupt",
     "evalue": "",
     "output_type": "error",
     "traceback": [
      "\u001b[0;31m---------------------------------------------------------------------------\u001b[0m",
      "\u001b[0;31mKeyboardInterrupt\u001b[0m                         Traceback (most recent call last)",
      "\u001b[1;32m/home/eschmidt/Desktop/GitHub/CompetitionAssay/CompetitionAssay/RFC_training_3D.ipynb Cell 12\u001b[0m line \u001b[0;36m3\n\u001b[1;32m     <a href='vscode-notebook-cell:/home/eschmidt/Desktop/GitHub/CompetitionAssay/CompetitionAssay/RFC_training_3D.ipynb#X13sZmlsZQ%3D%3D?line=31'>32</a>\u001b[0m fn_orange \u001b[39m=\u001b[39m os\u001b[39m.\u001b[39mpath\u001b[39m.\u001b[39msplitext(fn_orange)[\u001b[39m0\u001b[39m]\n\u001b[1;32m     <a href='vscode-notebook-cell:/home/eschmidt/Desktop/GitHub/CompetitionAssay/CompetitionAssay/RFC_training_3D.ipynb#X13sZmlsZQ%3D%3D?line=33'>34</a>\u001b[0m \u001b[39mprint\u001b[39m(fn_orange)\n\u001b[0;32m---> <a href='vscode-notebook-cell:/home/eschmidt/Desktop/GitHub/CompetitionAssay/CompetitionAssay/RFC_training_3D.ipynb#X13sZmlsZQ%3D%3D?line=34'>35</a>\u001b[0m Draw_and_Save(orange_zstack, output_dir \u001b[39m+\u001b[39;49m \u001b[39m\"\u001b[39;49m\u001b[39morange/GT/\u001b[39;49m\u001b[39m\"\u001b[39;49m, \u001b[39m'\u001b[39;49m\u001b[39mT_\u001b[39;49m\u001b[39m'\u001b[39;49m\u001b[39m+\u001b[39;49m\u001b[39mstr\u001b[39;49m(timestep)\u001b[39m.\u001b[39;49mzfill(\u001b[39m3\u001b[39;49m)\u001b[39m+\u001b[39;49m \u001b[39m'\u001b[39;49m\u001b[39m_\u001b[39;49m\u001b[39m'\u001b[39;49m \u001b[39m+\u001b[39;49m fn_orange \u001b[39m+\u001b[39;49m \u001b[39m'\u001b[39;49m\u001b[39m.tif\u001b[39;49m\u001b[39m'\u001b[39;49m)\n\u001b[1;32m     <a href='vscode-notebook-cell:/home/eschmidt/Desktop/GitHub/CompetitionAssay/CompetitionAssay/RFC_training_3D.ipynb#X13sZmlsZQ%3D%3D?line=35'>36</a>\u001b[0m imsave(output_dir \u001b[39m+\u001b[39m \u001b[39m\"\u001b[39m\u001b[39morange/RAW/\u001b[39m\u001b[39m\"\u001b[39m \u001b[39m+\u001b[39m \u001b[39m'\u001b[39m\u001b[39mT_\u001b[39m\u001b[39m'\u001b[39m\u001b[39m+\u001b[39m\u001b[39mstr\u001b[39m(timestep)\u001b[39m.\u001b[39mzfill(\u001b[39m3\u001b[39m)\u001b[39m+\u001b[39m  \u001b[39m'\u001b[39m\u001b[39m_\u001b[39m\u001b[39m'\u001b[39m \u001b[39m+\u001b[39m fn_orange , orange_zstack,check_contrast\u001b[39m=\u001b[39m\u001b[39mFalse\u001b[39;00m)\n\u001b[1;32m     <a href='vscode-notebook-cell:/home/eschmidt/Desktop/GitHub/CompetitionAssay/CompetitionAssay/RFC_training_3D.ipynb#X13sZmlsZQ%3D%3D?line=37'>38</a>\u001b[0m Draw_and_Save(green_zstack, output_dir \u001b[39m+\u001b[39m \u001b[39m\"\u001b[39m\u001b[39mgreen/GT/\u001b[39m\u001b[39m\"\u001b[39m, \u001b[39m'\u001b[39m\u001b[39mT_\u001b[39m\u001b[39m'\u001b[39m\u001b[39m+\u001b[39m\u001b[39mstr\u001b[39m(timestep)\u001b[39m.\u001b[39mzfill(\u001b[39m3\u001b[39m)\u001b[39m+\u001b[39m \u001b[39m'\u001b[39m\u001b[39m_\u001b[39m\u001b[39m'\u001b[39m \u001b[39m+\u001b[39m fn_green )\n",
      "\u001b[1;32m/home/eschmidt/Desktop/GitHub/CompetitionAssay/CompetitionAssay/RFC_training_3D.ipynb Cell 12\u001b[0m line \u001b[0;36m5\n\u001b[1;32m      <a href='vscode-notebook-cell:/home/eschmidt/Desktop/GitHub/CompetitionAssay/CompetitionAssay/RFC_training_3D.ipynb#X13sZmlsZQ%3D%3D?line=3'>4</a>\u001b[0m \u001b[39mdef\u001b[39;00m \u001b[39mDraw_and_Save\u001b[39m(img,output_dir,output_fn):\n\u001b[0;32m----> <a href='vscode-notebook-cell:/home/eschmidt/Desktop/GitHub/CompetitionAssay/CompetitionAssay/RFC_training_3D.ipynb#X13sZmlsZQ%3D%3D?line=4'>5</a>\u001b[0m     viewer \u001b[39m=\u001b[39m napari\u001b[39m.\u001b[39;49mViewer()\n\u001b[1;32m      <a href='vscode-notebook-cell:/home/eschmidt/Desktop/GitHub/CompetitionAssay/CompetitionAssay/RFC_training_3D.ipynb#X13sZmlsZQ%3D%3D?line=5'>6</a>\u001b[0m     viewer\u001b[39m.\u001b[39madd_image(img)\n\u001b[1;32m      <a href='vscode-notebook-cell:/home/eschmidt/Desktop/GitHub/CompetitionAssay/CompetitionAssay/RFC_training_3D.ipynb#X13sZmlsZQ%3D%3D?line=6'>7</a>\u001b[0m     labels \u001b[39m=\u001b[39m viewer\u001b[39m.\u001b[39madd_labels(np\u001b[39m.\u001b[39mzeros(img\u001b[39m.\u001b[39mshape,dtype\u001b[39m=\u001b[39m\u001b[39m'\u001b[39m\u001b[39muint8\u001b[39m\u001b[39m'\u001b[39m))\n",
      "File \u001b[0;32m~/miniconda3/envs/competition_env/lib/python3.12/site-packages/napari/viewer.py:67\u001b[0m, in \u001b[0;36mViewer.__init__\u001b[0;34m(self, title, ndisplay, order, axis_labels, show)\u001b[0m\n\u001b[1;32m     63\u001b[0m \u001b[39mfrom\u001b[39;00m \u001b[39mnapari\u001b[39;00m\u001b[39m.\u001b[39;00m\u001b[39mwindow\u001b[39;00m \u001b[39mimport\u001b[39;00m Window\n\u001b[1;32m     65\u001b[0m _initialize_plugins()\n\u001b[0;32m---> 67\u001b[0m \u001b[39mself\u001b[39m\u001b[39m.\u001b[39m_window \u001b[39m=\u001b[39m Window(\u001b[39mself\u001b[39;49m, show\u001b[39m=\u001b[39;49mshow)\n\u001b[1;32m     68\u001b[0m \u001b[39mself\u001b[39m\u001b[39m.\u001b[39m_instances\u001b[39m.\u001b[39madd(\u001b[39mself\u001b[39m)\n",
      "File \u001b[0;32m~/miniconda3/envs/competition_env/lib/python3.12/site-packages/napari/_qt/qt_main_window.py:552\u001b[0m, in \u001b[0;36mWindow.__init__\u001b[0;34m(self, viewer, show)\u001b[0m\n\u001b[1;32m    549\u001b[0m \u001b[39mself\u001b[39m\u001b[39m.\u001b[39m_unnamed_dockwidget_count \u001b[39m=\u001b[39m \u001b[39m1\u001b[39m\n\u001b[1;32m    551\u001b[0m \u001b[39m# Connect the Viewer and create the Main Window\u001b[39;00m\n\u001b[0;32m--> 552\u001b[0m \u001b[39mself\u001b[39m\u001b[39m.\u001b[39m_qt_window \u001b[39m=\u001b[39m _QtMainWindow(viewer, \u001b[39mself\u001b[39;49m)\n\u001b[1;32m    553\u001b[0m qapp\u001b[39m.\u001b[39minstallEventFilter(\u001b[39mself\u001b[39m\u001b[39m.\u001b[39m_qt_window)\n\u001b[1;32m    555\u001b[0m \u001b[39m# connect theme events before collecting plugin-provided themes\u001b[39;00m\n\u001b[1;32m    556\u001b[0m \u001b[39m# to ensure icons from the plugins are generated correctly.\u001b[39;00m\n",
      "File \u001b[0;32m~/miniconda3/envs/competition_env/lib/python3.12/site-packages/napari/_qt/qt_main_window.py:114\u001b[0m, in \u001b[0;36m_QtMainWindow.__init__\u001b[0;34m(self, viewer, window, parent)\u001b[0m\n\u001b[1;32m    112\u001b[0m \u001b[39mself\u001b[39m\u001b[39m.\u001b[39m_ev \u001b[39m=\u001b[39m \u001b[39mNone\u001b[39;00m\n\u001b[1;32m    113\u001b[0m \u001b[39mself\u001b[39m\u001b[39m.\u001b[39m_window \u001b[39m=\u001b[39m window\n\u001b[0;32m--> 114\u001b[0m \u001b[39mself\u001b[39m\u001b[39m.\u001b[39m_qt_viewer \u001b[39m=\u001b[39m QtViewer(viewer, show_welcome_screen\u001b[39m=\u001b[39;49m\u001b[39mTrue\u001b[39;49;00m)\n\u001b[1;32m    115\u001b[0m \u001b[39mself\u001b[39m\u001b[39m.\u001b[39m_quit_app \u001b[39m=\u001b[39m \u001b[39mFalse\u001b[39;00m\n\u001b[1;32m    117\u001b[0m \u001b[39mself\u001b[39m\u001b[39m.\u001b[39msetWindowIcon(QIcon(\u001b[39mself\u001b[39m\u001b[39m.\u001b[39m_window_icon))\n",
      "File \u001b[0;32m~/miniconda3/envs/competition_env/lib/python3.12/site-packages/napari/_qt/qt_viewer.py:224\u001b[0m, in \u001b[0;36mQtViewer.__init__\u001b[0;34m(self, viewer, show_welcome_screen)\u001b[0m\n\u001b[1;32m    221\u001b[0m \u001b[39mself\u001b[39m\u001b[39m.\u001b[39mlayer_to_visual \u001b[39m=\u001b[39m {}\n\u001b[1;32m    222\u001b[0m \u001b[39mself\u001b[39m\u001b[39m.\u001b[39moverlay_to_visual \u001b[39m=\u001b[39m {}\n\u001b[0;32m--> 224\u001b[0m \u001b[39mself\u001b[39;49m\u001b[39m.\u001b[39;49m_create_canvas()\n\u001b[1;32m    226\u001b[0m \u001b[39m# Stacked widget to provide a welcome page\u001b[39;00m\n\u001b[1;32m    227\u001b[0m \u001b[39mself\u001b[39m\u001b[39m.\u001b[39m_welcome_widget \u001b[39m=\u001b[39m QtWidgetOverlay(\u001b[39mself\u001b[39m, \u001b[39mself\u001b[39m\u001b[39m.\u001b[39mcanvas\u001b[39m.\u001b[39mnative)\n",
      "File \u001b[0;32m~/miniconda3/envs/competition_env/lib/python3.12/site-packages/napari/_qt/qt_viewer.py:430\u001b[0m, in \u001b[0;36mQtViewer._create_canvas\u001b[0;34m(self)\u001b[0m\n\u001b[1;32m    428\u001b[0m \u001b[39mdef\u001b[39;00m \u001b[39m_create_canvas\u001b[39m(\u001b[39mself\u001b[39m) \u001b[39m-\u001b[39m\u001b[39m>\u001b[39m \u001b[39mNone\u001b[39;00m:\n\u001b[1;32m    429\u001b[0m \u001b[39m    \u001b[39m\u001b[39m\"\"\"Create the canvas and hook up events.\"\"\"\u001b[39;00m\n\u001b[0;32m--> 430\u001b[0m     \u001b[39mself\u001b[39m\u001b[39m.\u001b[39mcanvas \u001b[39m=\u001b[39m VispyCanvas(\n\u001b[1;32m    431\u001b[0m         keys\u001b[39m=\u001b[39;49m\u001b[39mNone\u001b[39;49;00m,\n\u001b[1;32m    432\u001b[0m         vsync\u001b[39m=\u001b[39;49m\u001b[39mTrue\u001b[39;49;00m,\n\u001b[1;32m    433\u001b[0m         parent\u001b[39m=\u001b[39;49m\u001b[39mself\u001b[39;49m,\n\u001b[1;32m    434\u001b[0m         size\u001b[39m=\u001b[39;49m\u001b[39mself\u001b[39;49m\u001b[39m.\u001b[39;49mviewer\u001b[39m.\u001b[39;49m_canvas_size[::\u001b[39m-\u001b[39;49m\u001b[39m1\u001b[39;49m],\n\u001b[1;32m    435\u001b[0m         autoswap\u001b[39m=\u001b[39;49mget_settings()\u001b[39m.\u001b[39;49mexperimental\u001b[39m.\u001b[39;49mautoswap_buffers,  \u001b[39m# see #5734\u001b[39;49;00m\n\u001b[1;32m    436\u001b[0m     )\n\u001b[1;32m    437\u001b[0m     \u001b[39mself\u001b[39m\u001b[39m.\u001b[39mcanvas\u001b[39m.\u001b[39mevents\u001b[39m.\u001b[39mdraw\u001b[39m.\u001b[39mconnect(\u001b[39mself\u001b[39m\u001b[39m.\u001b[39mdims\u001b[39m.\u001b[39menable_play)\n\u001b[1;32m    439\u001b[0m     \u001b[39mself\u001b[39m\u001b[39m.\u001b[39mcanvas\u001b[39m.\u001b[39mevents\u001b[39m.\u001b[39mmouse_double_click\u001b[39m.\u001b[39mconnect(\n\u001b[1;32m    440\u001b[0m         \u001b[39mself\u001b[39m\u001b[39m.\u001b[39mon_mouse_double_click\n\u001b[1;32m    441\u001b[0m     )\n",
      "File \u001b[0;32m~/miniconda3/envs/competition_env/lib/python3.12/site-packages/napari/_vispy/canvas.py:32\u001b[0m, in \u001b[0;36mVispyCanvas.__init__\u001b[0;34m(self, *args, **kwargs)\u001b[0m\n\u001b[1;32m     30\u001b[0m \u001b[39mself\u001b[39m\u001b[39m.\u001b[39m_last_theme_color \u001b[39m=\u001b[39m \u001b[39mNone\u001b[39;00m\n\u001b[1;32m     31\u001b[0m \u001b[39mself\u001b[39m\u001b[39m.\u001b[39m_background_color_override \u001b[39m=\u001b[39m \u001b[39mNone\u001b[39;00m\n\u001b[0;32m---> 32\u001b[0m \u001b[39msuper\u001b[39;49m()\u001b[39m.\u001b[39;49m\u001b[39m__init__\u001b[39;49m(\u001b[39m*\u001b[39;49margs, \u001b[39m*\u001b[39;49m\u001b[39m*\u001b[39;49mkwargs)\n\u001b[1;32m     33\u001b[0m \u001b[39mself\u001b[39m\u001b[39m.\u001b[39m_instances\u001b[39m.\u001b[39madd(\u001b[39mself\u001b[39m)\n\u001b[1;32m     35\u001b[0m \u001b[39m# Call get_max_texture_sizes() here so that we query OpenGL right\u001b[39;00m\n\u001b[1;32m     36\u001b[0m \u001b[39m# now while we know a Canvas exists. Later calls to\u001b[39;00m\n\u001b[1;32m     37\u001b[0m \u001b[39m# get_max_texture_sizes() will return the same results because it's\u001b[39;00m\n\u001b[1;32m     38\u001b[0m \u001b[39m# using an lru_cache.\u001b[39;00m\n",
      "File \u001b[0;32m~/miniconda3/envs/competition_env/lib/python3.12/site-packages/vispy/scene/canvas.py:135\u001b[0m, in \u001b[0;36mSceneCanvas.__init__\u001b[0;34m(self, title, size, position, show, autoswap, app, create_native, vsync, resizable, decorate, fullscreen, config, shared, keys, parent, dpi, always_on_top, px_scale, bgcolor)\u001b[0m\n\u001b[1;32m    130\u001b[0m \u001b[39m# Set to True to enable sending mouse events even when no button is\u001b[39;00m\n\u001b[1;32m    131\u001b[0m \u001b[39m# pressed. Disabled by default because it is very expensive. Also\u001b[39;00m\n\u001b[1;32m    132\u001b[0m \u001b[39m# private for now because this behavior / API needs more thought.\u001b[39;00m\n\u001b[1;32m    133\u001b[0m \u001b[39mself\u001b[39m\u001b[39m.\u001b[39m_send_hover_events \u001b[39m=\u001b[39m \u001b[39mFalse\u001b[39;00m\n\u001b[0;32m--> 135\u001b[0m \u001b[39msuper\u001b[39;49m(SceneCanvas, \u001b[39mself\u001b[39;49m)\u001b[39m.\u001b[39;49m\u001b[39m__init__\u001b[39;49m(\n\u001b[1;32m    136\u001b[0m     title, size, position, show, autoswap, app, create_native, vsync,\n\u001b[1;32m    137\u001b[0m     resizable, decorate, fullscreen, config, shared, keys, parent, dpi,\n\u001b[1;32m    138\u001b[0m     always_on_top, px_scale)\n\u001b[1;32m    139\u001b[0m \u001b[39mself\u001b[39m\u001b[39m.\u001b[39mevents\u001b[39m.\u001b[39mmouse_press\u001b[39m.\u001b[39mconnect(\u001b[39mself\u001b[39m\u001b[39m.\u001b[39m_process_mouse_event)\n\u001b[1;32m    140\u001b[0m \u001b[39mself\u001b[39m\u001b[39m.\u001b[39mevents\u001b[39m.\u001b[39mmouse_move\u001b[39m.\u001b[39mconnect(\u001b[39mself\u001b[39m\u001b[39m.\u001b[39m_process_mouse_event)\n",
      "File \u001b[0;32m~/miniconda3/envs/competition_env/lib/python3.12/site-packages/vispy/app/canvas.py:143\u001b[0m, in \u001b[0;36mCanvas.__init__\u001b[0;34m(self, title, size, position, show, autoswap, app, create_native, vsync, resizable, decorate, fullscreen, config, shared, keys, parent, dpi, always_on_top, px_scale, backend_kwargs)\u001b[0m\n\u001b[1;32m    141\u001b[0m     dpi \u001b[39m=\u001b[39m util_config[\u001b[39m'\u001b[39m\u001b[39mdpi\u001b[39m\u001b[39m'\u001b[39m]\n\u001b[1;32m    142\u001b[0m \u001b[39mif\u001b[39;00m dpi \u001b[39mis\u001b[39;00m \u001b[39mNone\u001b[39;00m:\n\u001b[0;32m--> 143\u001b[0m     dpi \u001b[39m=\u001b[39m get_dpi(raise_error\u001b[39m=\u001b[39;49m\u001b[39mFalse\u001b[39;49;00m)\n\u001b[1;32m    144\u001b[0m \u001b[39mself\u001b[39m\u001b[39m.\u001b[39mdpi \u001b[39m=\u001b[39m dpi\n\u001b[1;32m    146\u001b[0m \u001b[39m# Create events\u001b[39;00m\n",
      "File \u001b[0;32m~/miniconda3/envs/competition_env/lib/python3.12/site-packages/vispy/util/dpi/_linux.py:54\u001b[0m, in \u001b[0;36mget_dpi\u001b[0;34m(raise_error)\u001b[0m\n\u001b[1;32m     51\u001b[0m \u001b[39mif\u001b[39;00m \u001b[39m'\u001b[39m\u001b[39mDISPLAY\u001b[39m\u001b[39m'\u001b[39m \u001b[39mnot\u001b[39;00m \u001b[39min\u001b[39;00m os\u001b[39m.\u001b[39menviron:\n\u001b[1;32m     52\u001b[0m     \u001b[39mreturn\u001b[39;00m \u001b[39m96.\u001b[39m\n\u001b[0;32m---> 54\u001b[0m from_xdpyinfo \u001b[39m=\u001b[39m _get_dpi_from(\n\u001b[1;32m     55\u001b[0m     \u001b[39m'\u001b[39;49m\u001b[39mxdpyinfo\u001b[39;49m\u001b[39m'\u001b[39;49m, \u001b[39mr\u001b[39;49m\u001b[39m'\u001b[39;49m\u001b[39m(\u001b[39;49m\u001b[39m\\\u001b[39;49m\u001b[39md+)x(\u001b[39;49m\u001b[39m\\\u001b[39;49m\u001b[39md+) dots per inch\u001b[39;49m\u001b[39m'\u001b[39;49m,\n\u001b[1;32m     56\u001b[0m     \u001b[39mlambda\u001b[39;49;00m x_dpi, y_dpi: (x_dpi \u001b[39m+\u001b[39;49m y_dpi) \u001b[39m/\u001b[39;49m \u001b[39m2\u001b[39;49m)\n\u001b[1;32m     57\u001b[0m \u001b[39mif\u001b[39;00m from_xdpyinfo \u001b[39mis\u001b[39;00m \u001b[39mnot\u001b[39;00m \u001b[39mNone\u001b[39;00m:\n\u001b[1;32m     58\u001b[0m     \u001b[39mreturn\u001b[39;00m from_xdpyinfo\n",
      "File \u001b[0;32m~/miniconda3/envs/competition_env/lib/python3.12/site-packages/vispy/util/dpi/_linux.py:20\u001b[0m, in \u001b[0;36m_get_dpi_from\u001b[0;34m(cmd, pattern, func)\u001b[0m\n\u001b[1;32m     16\u001b[0m \u001b[39m\u001b[39m\u001b[39m\"\"\"Match pattern against the output of func, passing the results as\u001b[39;00m\n\u001b[1;32m     17\u001b[0m \u001b[39mfloats to func.  If anything fails, return None.\u001b[39;00m\n\u001b[1;32m     18\u001b[0m \u001b[39m\"\"\"\u001b[39;00m\n\u001b[1;32m     19\u001b[0m \u001b[39mtry\u001b[39;00m:\n\u001b[0;32m---> 20\u001b[0m     out, _ \u001b[39m=\u001b[39m run_subprocess([cmd])\n\u001b[1;32m     21\u001b[0m \u001b[39mexcept\u001b[39;00m (\u001b[39mOSError\u001b[39;00m, CalledProcessError):\n\u001b[1;32m     22\u001b[0m     \u001b[39mpass\u001b[39;00m\n",
      "File \u001b[0;32m~/miniconda3/envs/competition_env/lib/python3.12/site-packages/vispy/util/wrappers.py:128\u001b[0m, in \u001b[0;36mrun_subprocess\u001b[0;34m(command, return_code, **kwargs)\u001b[0m\n\u001b[1;32m    125\u001b[0m use_kwargs \u001b[39m=\u001b[39m \u001b[39mdict\u001b[39m(stderr\u001b[39m=\u001b[39msubprocess\u001b[39m.\u001b[39mPIPE, stdout\u001b[39m=\u001b[39msubprocess\u001b[39m.\u001b[39mPIPE)\n\u001b[1;32m    126\u001b[0m use_kwargs\u001b[39m.\u001b[39mupdate(kwargs)\n\u001b[0;32m--> 128\u001b[0m p \u001b[39m=\u001b[39m subprocess\u001b[39m.\u001b[39;49mPopen(command, \u001b[39m*\u001b[39;49m\u001b[39m*\u001b[39;49muse_kwargs)\n\u001b[1;32m    129\u001b[0m output \u001b[39m=\u001b[39m p\u001b[39m.\u001b[39mcommunicate()\n\u001b[1;32m    131\u001b[0m \u001b[39m# communicate() may return bytes, str, or None depending on the kwargs\u001b[39;00m\n\u001b[1;32m    132\u001b[0m \u001b[39m# passed to Popen(). Convert all to unicode str:\u001b[39;00m\n",
      "File \u001b[0;32m~/miniconda3/envs/competition_env/lib/python3.12/subprocess.py:1026\u001b[0m, in \u001b[0;36mPopen.__init__\u001b[0;34m(self, args, bufsize, executable, stdin, stdout, stderr, preexec_fn, close_fds, shell, cwd, env, universal_newlines, startupinfo, creationflags, restore_signals, start_new_session, pass_fds, user, group, extra_groups, encoding, errors, text, umask, pipesize, process_group)\u001b[0m\n\u001b[1;32m   1022\u001b[0m         \u001b[39mif\u001b[39;00m \u001b[39mself\u001b[39m\u001b[39m.\u001b[39mtext_mode:\n\u001b[1;32m   1023\u001b[0m             \u001b[39mself\u001b[39m\u001b[39m.\u001b[39mstderr \u001b[39m=\u001b[39m io\u001b[39m.\u001b[39mTextIOWrapper(\u001b[39mself\u001b[39m\u001b[39m.\u001b[39mstderr,\n\u001b[1;32m   1024\u001b[0m                     encoding\u001b[39m=\u001b[39mencoding, errors\u001b[39m=\u001b[39merrors)\n\u001b[0;32m-> 1026\u001b[0m     \u001b[39mself\u001b[39;49m\u001b[39m.\u001b[39;49m_execute_child(args, executable, preexec_fn, close_fds,\n\u001b[1;32m   1027\u001b[0m                         pass_fds, cwd, env,\n\u001b[1;32m   1028\u001b[0m                         startupinfo, creationflags, shell,\n\u001b[1;32m   1029\u001b[0m                         p2cread, p2cwrite,\n\u001b[1;32m   1030\u001b[0m                         c2pread, c2pwrite,\n\u001b[1;32m   1031\u001b[0m                         errread, errwrite,\n\u001b[1;32m   1032\u001b[0m                         restore_signals,\n\u001b[1;32m   1033\u001b[0m                         gid, gids, uid, umask,\n\u001b[1;32m   1034\u001b[0m                         start_new_session, process_group)\n\u001b[1;32m   1035\u001b[0m \u001b[39mexcept\u001b[39;00m:\n\u001b[1;32m   1036\u001b[0m     \u001b[39m# Cleanup if the child failed starting.\u001b[39;00m\n\u001b[1;32m   1037\u001b[0m     \u001b[39mfor\u001b[39;00m f \u001b[39min\u001b[39;00m \u001b[39mfilter\u001b[39m(\u001b[39mNone\u001b[39;00m, (\u001b[39mself\u001b[39m\u001b[39m.\u001b[39mstdin, \u001b[39mself\u001b[39m\u001b[39m.\u001b[39mstdout, \u001b[39mself\u001b[39m\u001b[39m.\u001b[39mstderr)):\n",
      "File \u001b[0;32m~/miniconda3/envs/competition_env/lib/python3.12/subprocess.py:1883\u001b[0m, in \u001b[0;36mPopen._execute_child\u001b[0;34m(self, args, executable, preexec_fn, close_fds, pass_fds, cwd, env, startupinfo, creationflags, shell, p2cread, p2cwrite, c2pread, c2pwrite, errread, errwrite, restore_signals, gid, gids, uid, umask, start_new_session, process_group)\u001b[0m\n\u001b[1;32m   1881\u001b[0m     fds_to_keep \u001b[39m=\u001b[39m \u001b[39mset\u001b[39m(pass_fds)\n\u001b[1;32m   1882\u001b[0m     fds_to_keep\u001b[39m.\u001b[39madd(errpipe_write)\n\u001b[0;32m-> 1883\u001b[0m     \u001b[39mself\u001b[39m\u001b[39m.\u001b[39mpid \u001b[39m=\u001b[39m _fork_exec(\n\u001b[1;32m   1884\u001b[0m             args, executable_list,\n\u001b[1;32m   1885\u001b[0m             close_fds, \u001b[39mtuple\u001b[39;49m(\u001b[39msorted\u001b[39;49m(\u001b[39mmap\u001b[39;49m(\u001b[39mint\u001b[39;49m, fds_to_keep))),\n\u001b[1;32m   1886\u001b[0m             cwd, env_list,\n\u001b[1;32m   1887\u001b[0m             p2cread, p2cwrite, c2pread, c2pwrite,\n\u001b[1;32m   1888\u001b[0m             errread, errwrite,\n\u001b[1;32m   1889\u001b[0m             errpipe_read, errpipe_write,\n\u001b[1;32m   1890\u001b[0m             restore_signals, start_new_session,\n\u001b[1;32m   1891\u001b[0m             process_group, gid, gids, uid, umask,\n\u001b[1;32m   1892\u001b[0m             preexec_fn, _USE_VFORK)\n\u001b[1;32m   1893\u001b[0m     \u001b[39mself\u001b[39m\u001b[39m.\u001b[39m_child_created \u001b[39m=\u001b[39m \u001b[39mTrue\u001b[39;00m\n\u001b[1;32m   1894\u001b[0m \u001b[39mfinally\u001b[39;00m:\n\u001b[1;32m   1895\u001b[0m     \u001b[39m# be sure the FD is closed no matter what\u001b[39;00m\n",
      "\u001b[0;31mKeyboardInterrupt\u001b[0m: "
     ]
    }
   ],
   "source": [
    "orange_seq = pims.open(orange)\n",
    "green_seq = pims.open(green)\n",
    "Z_slices = 19\n",
    "xdim = 1200\n",
    "ydim = 1200\n",
    "\n",
    "timestep = 0\n",
    "counter = 0\n",
    "for t, (img_o, img_g) in enumerate(zip(orange_seq,green_seq)):\n",
    "    \n",
    "\n",
    "    # iterate through all z slices and stack them together\n",
    "    if np.mod(t,Z_slices) == 0:\n",
    "        # prepare empty array with the same dtype as the first image\n",
    "        counter = 0\n",
    "        orange_zstack = np.zeros((Z_slices,xdim,ydim))\n",
    "        green_zstack = np.zeros((Z_slices,xdim,ydim))\n",
    "\n",
    "    orange_zstack[counter,:,:] = img_o\n",
    "    green_zstack[counter,:,:] = img_g\n",
    "\n",
    "    if np.mod(t,Z_slices) == Z_slices-1:\n",
    "        print(\"Timestep: \", timestep)\n",
    "\n",
    "        # now there is a 3D image stack of 19 slices\n",
    "        print(orange_zstack.shape)\n",
    "        print(green_zstack.shape)\n",
    "\n",
    "        # start napari, save GT and RAW images\n",
    "        # keep the basename of fn\n",
    "\n",
    "        print(fn_orange)\n",
    "        Draw_and_Save(orange_zstack, output_dir + \"orange/GT/\", 'T_'+str(timestep).zfill(3)+ '_' + fn_orange + '.tif')\n",
    "        imsave(output_dir + \"orange/RAW/\" + 'T_'+str(timestep).zfill(3)+  '_' + fn_orange , orange_zstack,check_contrast=False)\n",
    "\n",
    "        Draw_and_Save(green_zstack, output_dir + \"green/GT/\", 'T_'+str(timestep).zfill(3)+ '_' + fn_green )\n",
    "        imsave(output_dir + \"green/RAW/\" + 'T_'+str(timestep).zfill(3) + '_' +  fn_green, green_zstack,check_contrast=False)\n",
    "\n",
    "\n",
    "        timestep += 1\n",
    "\n",
    "    counter += 1\n",
    "\n"
   ]
  },
  {
   "cell_type": "markdown",
   "id": "f51f9f2d",
   "metadata": {},
   "source": [
    "# Now work with the GT to train the model"
   ]
  },
  {
   "cell_type": "code",
   "execution_count": 7,
   "id": "e1d2d52f",
   "metadata": {},
   "outputs": [
    {
     "data": {
      "text/plain": [
       "['green_20230920_AirGel_WTmSc_dwspFmN_mix_LAM02J-L_CIP_5.5hpi_23.5h.nd...el_WTmSc_dwspFmN_mix_LAM02J-L_CIP_5.5hpi_23.5h.nd2 (series 08) - C=0.tif_T_001.tif',\n",
       " 'green_20230920_AirGel_WTmSc_dwspFmN_mix_LAM02J-L_CIP_5.5hpi_23.5h.nd...el_WTmSc_dwspFmN_mix_LAM02J-L_CIP_5.5hpi_23.5h.nd2 (series 08) - C=0.tif_T_000.tif']"
      ]
     },
     "execution_count": 7,
     "metadata": {},
     "output_type": "execute_result"
    }
   ],
   "source": [
    "\n",
    "\n",
    "# Now go through all existing GT files that contain non-zero pixels\n",
    "green_gt_fn = os.listdir(output_dir + \"green/GT\")\n",
    "orange_gt_fn = os.listdir(output_dir + \"orange/GT\")\n",
    "\n",
    "green_gt_fn"
   ]
  },
  {
   "cell_type": "markdown",
   "id": "touched-application",
   "metadata": {
    "id": "touched-application"
   },
   "source": [
    "## Generating a feature stack\n",
    "Pixel classifiers such as the random forest classifier takes multiple images as input. We typically call these images a feature stack because for every pixel exist now multiple values (features). In the following example we create a feature stack containing three features:\n",
    "* The original pixel value\n",
    "* The pixel value after a Gaussian blur\n",
    "* The pixel value of the Gaussian blurred image processed through a Sobel operator.\n",
    "\n",
    "Thus, we denoise the image and detect edges. All three images serve the pixel classifier to differentiate positive an negative pixels."
   ]
  },
  {
   "cell_type": "code",
   "execution_count": 8,
   "id": "liberal-monster",
   "metadata": {
    "id": "liberal-monster",
    "outputId": "9ab5e9d7-1c36-4c37-bec9-ab69c39289a0"
   },
   "outputs": [],
   "source": [
    "from skimage import filters\n",
    "\n",
    "def generate_feature_stack(image):\n",
    "    # determine features\n",
    "    blurred = filters.gaussian(image, sigma=2)\n",
    "    edges = filters.sobel(blurred)\n",
    "\n",
    "    # collect features in a stack\n",
    "    # The ravel() function turns a nD image into a 1-D image.\n",
    "    # We need to use it because scikit-learn expects values in a 1-D format here.\n",
    "    feature_stack = [\n",
    "        image.ravel(),\n",
    "        blurred.ravel(),\n",
    "        edges.ravel()\n",
    "    ]\n",
    "\n",
    "    # return stack as numpy-array\n",
    "    return np.asarray(feature_stack)\n"
   ]
  },
  {
   "cell_type": "markdown",
   "id": "painful-english",
   "metadata": {
    "id": "painful-english"
   },
   "source": [
    "## Formating data\n",
    "We now need to format the input data so that it fits to what scikit learn expects. Scikit-learn asks for an array of shape (n, m) as input data and (n) annotations. n corresponds to number of pixels and m to number of features. In our case m = 3."
   ]
  },
  {
   "cell_type": "code",
   "execution_count": 9,
   "id": "plastic-botswana",
   "metadata": {
    "id": "plastic-botswana",
    "outputId": "0516f370-4779-4fa0-b537-dba5ac615b2d"
   },
   "outputs": [],
   "source": [
    "def format_data(feature_stack, annotation):\n",
    "    # reformat the data to match what scikit-learn expects\n",
    "    # transpose the feature stack\n",
    "    X = feature_stack.T\n",
    "    # make the annotation 1-dimensional\n",
    "    y = annotation.ravel()\n",
    "\n",
    "    # remove all pixels from the feature and annotations which have not been annotated\n",
    "    mask = y > 0\n",
    "    X = X[mask]\n",
    "    y = y[mask]\n",
    "\n",
    "    return X, y"
   ]
  },
  {
   "cell_type": "code",
   "execution_count": 40,
   "id": "a509b661",
   "metadata": {},
   "outputs": [
    {
     "name": "stderr",
     "output_type": "stream",
     "text": [
      "<tifffile.TiffPages @8> corrupted tag list of page 2 @218880272 raised TiffFileError('suspicious number of tags 34283')\n"
     ]
    },
    {
     "name": "stdout",
     "output_type": "stream",
     "text": [
      "orange_20230920_AirGel_WTmSc_dwspFmN_mix_LAM02J-L_CIP_5.5hpi_23.5h.nd...el_WTmSc_dwspFmN_mix_LAM02J-L_CIP_5.5hpi_23.5h.nd2 (series 08) - C=1.tif_T_000.tif\n"
     ]
    },
    {
     "name": "stderr",
     "output_type": "stream",
     "text": [
      "<tifffile.TiffPages @8> invalid page offset 1943076864\n"
     ]
    },
    {
     "name": "stdout",
     "output_type": "stream",
     "text": [
      "orange_20230920_AirGel_WTmSc_dwspFmN_mix_LAM02J-L_CIP_5.5hpi_23.5h.nd...el_WTmSc_dwspFmN_mix_LAM02J-L_CIP_5.5hpi_23.5h.nd2 (series 08) - C=1.tif_T_001.tif\n"
     ]
    },
    {
     "name": "stderr",
     "output_type": "stream",
     "text": [
      "/home/eschmidt/miniconda3/envs/competition_env/lib/python3.12/site-packages/skimage/filters/edges.py:181: RuntimeWarning: overflow encountered in multiply\n",
      "  ax_output *= ax_output\n"
     ]
    }
   ],
   "source": [
    "\n",
    "# in case you have not much memory as I do, you should run only one channel at a time\n",
    "\n",
    "channels = ['orange', 'green']\n",
    "filename_array = [orange_gt_fn, green_gt_fn]\n",
    "\n",
    "\n",
    "# make this to a for loop later\n",
    "channel = channels[0]\n",
    "filenames = filename_array[0]\n",
    "\n",
    "\n",
    "X_stack = []\n",
    "y_stack = []\n",
    "\n",
    "for fn in filenames:\n",
    "    print(fn)\n",
    "\n",
    "    img = imread(output_dir + channel + \"/RAW/\" + fn)\n",
    "    annotation = imread(output_dir + channel + \"/GT/\" + fn)\n",
    "    feature_stack = generate_feature_stack(img)\n",
    "    X, y = format_data(feature_stack, annotation)\n",
    "       \n",
    "    X_stack.append(X)\n",
    "    y_stack.append(y)\n",
    "\n",
    "    # delete variables to save memory\n",
    "    del X, y, img, feature_stack\n",
    "    \n",
    "X_stack = np.concatenate(X_stack)\n",
    "y_stack = np.concatenate(y_stack)"
   ]
  },
  {
   "cell_type": "code",
   "execution_count": 41,
   "id": "a75313dc",
   "metadata": {},
   "outputs": [
    {
     "data": {
      "text/plain": [
       "(93305, 3)"
      ]
     },
     "execution_count": 41,
     "metadata": {},
     "output_type": "execute_result"
    }
   ],
   "source": [
    "X_stack.shape"
   ]
  },
  {
   "cell_type": "code",
   "execution_count": 43,
   "id": "b4bebeae",
   "metadata": {},
   "outputs": [
    {
     "data": {
      "text/plain": [
       "(93305, 3)"
      ]
     },
     "execution_count": 43,
     "metadata": {},
     "output_type": "execute_result"
    }
   ],
   "source": [
    "mask = X_stack != np.inf\n",
    "mask.shape"
   ]
  },
  {
   "cell_type": "code",
   "execution_count": 44,
   "id": "3abf8259",
   "metadata": {},
   "outputs": [
    {
     "data": {
      "text/plain": [
       "(93305, 3)"
      ]
     },
     "execution_count": 44,
     "metadata": {},
     "output_type": "execute_result"
    }
   ],
   "source": [
    "X_stack.shape"
   ]
  },
  {
   "cell_type": "code",
   "execution_count": 49,
   "id": "c119072c",
   "metadata": {},
   "outputs": [
    {
     "data": {
      "text/plain": [
       "(93305,)"
      ]
     },
     "execution_count": 49,
     "metadata": {},
     "output_type": "execute_result"
    }
   ],
   "source": [
    "# remove infinite values\n",
    "mask = X_stack != np.inf\n",
    "mask = np.sum(mask,axis=1) > 2\n",
    "mask.shape\n"
   ]
  },
  {
   "cell_type": "code",
   "execution_count": 50,
   "id": "c70d443d",
   "metadata": {},
   "outputs": [],
   "source": [
    "X_stack = X_stack[mask,:]\n",
    "y_stack = y_stack[mask]\n"
   ]
  },
  {
   "cell_type": "markdown",
   "id": "crude-figure",
   "metadata": {
    "id": "crude-figure"
   },
   "source": [
    "# Training begins"
   ]
  },
  {
   "cell_type": "code",
   "execution_count": 53,
   "id": "b10e2645",
   "metadata": {},
   "outputs": [],
   "source": [
    "filename = 'model_for_3D_data.pkl'"
   ]
  },
  {
   "cell_type": "code",
   "execution_count": 52,
   "id": "c1613ee9",
   "metadata": {},
   "outputs": [
    {
     "data": {
      "text/html": [
       "<style>#sk-container-id-2 {color: black;}#sk-container-id-2 pre{padding: 0;}#sk-container-id-2 div.sk-toggleable {background-color: white;}#sk-container-id-2 label.sk-toggleable__label {cursor: pointer;display: block;width: 100%;margin-bottom: 0;padding: 0.3em;box-sizing: border-box;text-align: center;}#sk-container-id-2 label.sk-toggleable__label-arrow:before {content: \"▸\";float: left;margin-right: 0.25em;color: #696969;}#sk-container-id-2 label.sk-toggleable__label-arrow:hover:before {color: black;}#sk-container-id-2 div.sk-estimator:hover label.sk-toggleable__label-arrow:before {color: black;}#sk-container-id-2 div.sk-toggleable__content {max-height: 0;max-width: 0;overflow: hidden;text-align: left;background-color: #f0f8ff;}#sk-container-id-2 div.sk-toggleable__content pre {margin: 0.2em;color: black;border-radius: 0.25em;background-color: #f0f8ff;}#sk-container-id-2 input.sk-toggleable__control:checked~div.sk-toggleable__content {max-height: 200px;max-width: 100%;overflow: auto;}#sk-container-id-2 input.sk-toggleable__control:checked~label.sk-toggleable__label-arrow:before {content: \"▾\";}#sk-container-id-2 div.sk-estimator input.sk-toggleable__control:checked~label.sk-toggleable__label {background-color: #d4ebff;}#sk-container-id-2 div.sk-label input.sk-toggleable__control:checked~label.sk-toggleable__label {background-color: #d4ebff;}#sk-container-id-2 input.sk-hidden--visually {border: 0;clip: rect(1px 1px 1px 1px);clip: rect(1px, 1px, 1px, 1px);height: 1px;margin: -1px;overflow: hidden;padding: 0;position: absolute;width: 1px;}#sk-container-id-2 div.sk-estimator {font-family: monospace;background-color: #f0f8ff;border: 1px dotted black;border-radius: 0.25em;box-sizing: border-box;margin-bottom: 0.5em;}#sk-container-id-2 div.sk-estimator:hover {background-color: #d4ebff;}#sk-container-id-2 div.sk-parallel-item::after {content: \"\";width: 100%;border-bottom: 1px solid gray;flex-grow: 1;}#sk-container-id-2 div.sk-label:hover label.sk-toggleable__label {background-color: #d4ebff;}#sk-container-id-2 div.sk-serial::before {content: \"\";position: absolute;border-left: 1px solid gray;box-sizing: border-box;top: 0;bottom: 0;left: 50%;z-index: 0;}#sk-container-id-2 div.sk-serial {display: flex;flex-direction: column;align-items: center;background-color: white;padding-right: 0.2em;padding-left: 0.2em;position: relative;}#sk-container-id-2 div.sk-item {position: relative;z-index: 1;}#sk-container-id-2 div.sk-parallel {display: flex;align-items: stretch;justify-content: center;background-color: white;position: relative;}#sk-container-id-2 div.sk-item::before, #sk-container-id-2 div.sk-parallel-item::before {content: \"\";position: absolute;border-left: 1px solid gray;box-sizing: border-box;top: 0;bottom: 0;left: 50%;z-index: -1;}#sk-container-id-2 div.sk-parallel-item {display: flex;flex-direction: column;z-index: 1;position: relative;background-color: white;}#sk-container-id-2 div.sk-parallel-item:first-child::after {align-self: flex-end;width: 50%;}#sk-container-id-2 div.sk-parallel-item:last-child::after {align-self: flex-start;width: 50%;}#sk-container-id-2 div.sk-parallel-item:only-child::after {width: 0;}#sk-container-id-2 div.sk-dashed-wrapped {border: 1px dashed gray;margin: 0 0.4em 0.5em 0.4em;box-sizing: border-box;padding-bottom: 0.4em;background-color: white;}#sk-container-id-2 div.sk-label label {font-family: monospace;font-weight: bold;display: inline-block;line-height: 1.2em;}#sk-container-id-2 div.sk-label-container {text-align: center;}#sk-container-id-2 div.sk-container {/* jupyter's `normalize.less` sets `[hidden] { display: none; }` but bootstrap.min.css set `[hidden] { display: none !important; }` so we also need the `!important` here to be able to override the default hidden behavior on the sphinx rendered scikit-learn.org. See: https://github.com/scikit-learn/scikit-learn/issues/21755 */display: inline-block !important;position: relative;}#sk-container-id-2 div.sk-text-repr-fallback {display: none;}</style><div id=\"sk-container-id-2\" class=\"sk-top-container\"><div class=\"sk-text-repr-fallback\"><pre>GridSearchCV(cv=5, estimator=RandomForestClassifier(),\n",
       "             param_grid={&#x27;max_depth&#x27;: [2, 3], &#x27;n_estimators&#x27;: [50, 100]})</pre><b>In a Jupyter environment, please rerun this cell to show the HTML representation or trust the notebook. <br />On GitHub, the HTML representation is unable to render, please try loading this page with nbviewer.org.</b></div><div class=\"sk-container\" hidden><div class=\"sk-item sk-dashed-wrapped\"><div class=\"sk-label-container\"><div class=\"sk-label sk-toggleable\"><input class=\"sk-toggleable__control sk-hidden--visually\" id=\"sk-estimator-id-2\" type=\"checkbox\" ><label for=\"sk-estimator-id-2\" class=\"sk-toggleable__label sk-toggleable__label-arrow\">GridSearchCV</label><div class=\"sk-toggleable__content\"><pre>GridSearchCV(cv=5, estimator=RandomForestClassifier(),\n",
       "             param_grid={&#x27;max_depth&#x27;: [2, 3], &#x27;n_estimators&#x27;: [50, 100]})</pre></div></div></div><div class=\"sk-parallel\"><div class=\"sk-parallel-item\"><div class=\"sk-item\"><div class=\"sk-label-container\"><div class=\"sk-label sk-toggleable\"><input class=\"sk-toggleable__control sk-hidden--visually\" id=\"sk-estimator-id-3\" type=\"checkbox\" ><label for=\"sk-estimator-id-3\" class=\"sk-toggleable__label sk-toggleable__label-arrow\">estimator: RandomForestClassifier</label><div class=\"sk-toggleable__content\"><pre>RandomForestClassifier()</pre></div></div></div><div class=\"sk-serial\"><div class=\"sk-item\"><div class=\"sk-estimator sk-toggleable\"><input class=\"sk-toggleable__control sk-hidden--visually\" id=\"sk-estimator-id-4\" type=\"checkbox\" ><label for=\"sk-estimator-id-4\" class=\"sk-toggleable__label sk-toggleable__label-arrow\">RandomForestClassifier</label><div class=\"sk-toggleable__content\"><pre>RandomForestClassifier()</pre></div></div></div></div></div></div></div></div></div></div>"
      ],
      "text/plain": [
       "GridSearchCV(cv=5, estimator=RandomForestClassifier(),\n",
       "             param_grid={'max_depth': [2, 3], 'n_estimators': [50, 100]})"
      ]
     },
     "execution_count": 52,
     "metadata": {},
     "output_type": "execute_result"
    }
   ],
   "source": [
    "# train classifier if not trained yet\n",
    "classifier = RandomForestClassifier()\n",
    "\n",
    "\n",
    "\n",
    "\n",
    "param_grid = {\n",
    "    'n_estimators': [50,100],  # Vary the number of trees\n",
    "    'max_depth': [2, 3],       # Vary the maximum depth of trees\n",
    "}\n",
    "\n",
    "\n",
    "grid_search = GridSearchCV(classifier, param_grid, cv=5)\n",
    "grid_search.fit(X_stack, y_stack)  # X and y are your training data and labels, respectively\n",
    "\n"
   ]
  },
  {
   "cell_type": "code",
   "execution_count": 56,
   "id": "19275c03",
   "metadata": {},
   "outputs": [
    {
     "name": "stdout",
     "output_type": "stream",
     "text": [
      "Collecting matplotlib\n",
      "  Downloading matplotlib-3.8.0-cp312-cp312-manylinux_2_17_x86_64.manylinux2014_x86_64.whl.metadata (5.8 kB)\n",
      "Collecting contourpy>=1.0.1 (from matplotlib)\n",
      "  Downloading contourpy-1.1.1-cp312-cp312-manylinux_2_17_x86_64.manylinux2014_x86_64.whl.metadata (5.9 kB)\n",
      "Collecting cycler>=0.10 (from matplotlib)\n",
      "  Downloading cycler-0.12.1-py3-none-any.whl.metadata (3.8 kB)\n",
      "Collecting fonttools>=4.22.0 (from matplotlib)\n",
      "  Downloading fonttools-4.43.1-cp312-cp312-manylinux_2_5_x86_64.manylinux1_x86_64.manylinux_2_17_x86_64.manylinux2014_x86_64.whl.metadata (152 kB)\n",
      "\u001b[2K     \u001b[90m━━━━━━━━━━━━━━━━━━━━━━━━━━━━━━━━━━━━━━━\u001b[0m \u001b[32m152.4/152.4 kB\u001b[0m \u001b[31m3.1 MB/s\u001b[0m eta \u001b[36m0:00:00\u001b[0ma \u001b[36m0:00:01\u001b[0m\n",
      "\u001b[?25hRequirement already satisfied: kiwisolver>=1.0.1 in /home/eschmidt/miniconda3/envs/competition_env/lib/python3.12/site-packages (from matplotlib) (1.4.5)\n",
      "Requirement already satisfied: numpy<2,>=1.21 in /home/eschmidt/miniconda3/envs/competition_env/lib/python3.12/site-packages (from matplotlib) (1.26.1)\n",
      "Requirement already satisfied: packaging>=20.0 in /home/eschmidt/miniconda3/envs/competition_env/lib/python3.12/site-packages (from matplotlib) (23.2)\n",
      "Requirement already satisfied: pillow>=6.2.0 in /home/eschmidt/miniconda3/envs/competition_env/lib/python3.12/site-packages (from matplotlib) (10.0.1)\n",
      "Collecting pyparsing>=2.3.1 (from matplotlib)\n",
      "  Downloading pyparsing-3.1.1-py3-none-any.whl.metadata (5.1 kB)\n",
      "Requirement already satisfied: python-dateutil>=2.7 in /home/eschmidt/miniconda3/envs/competition_env/lib/python3.12/site-packages (from matplotlib) (2.8.2)\n",
      "Requirement already satisfied: six>=1.5 in /home/eschmidt/miniconda3/envs/competition_env/lib/python3.12/site-packages (from python-dateutil>=2.7->matplotlib) (1.16.0)\n",
      "Downloading matplotlib-3.8.0-cp312-cp312-manylinux_2_17_x86_64.manylinux2014_x86_64.whl (11.6 MB)\n",
      "\u001b[2K   \u001b[90m━━━━━━━━━━━━━━━━━━━━━━━━━━━━━━━━━━━━━━━━\u001b[0m \u001b[32m11.6/11.6 MB\u001b[0m \u001b[31m5.5 MB/s\u001b[0m eta \u001b[36m0:00:00\u001b[0m00:01\u001b[0m00:01\u001b[0m\n",
      "\u001b[?25hDownloading contourpy-1.1.1-cp312-cp312-manylinux_2_17_x86_64.manylinux2014_x86_64.whl (298 kB)\n",
      "\u001b[2K   \u001b[90m━━━━━━━━━━━━━━━━━━━━━━━━━━━━━━━━━━━━━━━━\u001b[0m \u001b[32m298.8/298.8 kB\u001b[0m \u001b[31m7.3 MB/s\u001b[0m eta \u001b[36m0:00:00\u001b[0ma \u001b[36m0:00:01\u001b[0m\n",
      "\u001b[?25hDownloading cycler-0.12.1-py3-none-any.whl (8.3 kB)\n",
      "Downloading fonttools-4.43.1-cp312-cp312-manylinux_2_5_x86_64.manylinux1_x86_64.manylinux_2_17_x86_64.manylinux2014_x86_64.whl (4.8 MB)\n",
      "\u001b[2K   \u001b[90m━━━━━━━━━━━━━━━━━━━━━━━━━━━━━━━━━━━━━━━━\u001b[0m \u001b[32m4.8/4.8 MB\u001b[0m \u001b[31m5.5 MB/s\u001b[0m eta \u001b[36m0:00:00\u001b[0m00:01\u001b[0m00:01\u001b[0m\n",
      "\u001b[?25hDownloading pyparsing-3.1.1-py3-none-any.whl (103 kB)\n",
      "\u001b[2K   \u001b[90m━━━━━━━━━━━━━━━━━━━━━━━━━━━━━━━━━━━━━━━━\u001b[0m \u001b[32m103.1/103.1 kB\u001b[0m \u001b[31m3.9 MB/s\u001b[0m eta \u001b[36m0:00:00\u001b[0m\n",
      "\u001b[?25hInstalling collected packages: pyparsing, fonttools, cycler, contourpy, matplotlib\n",
      "Successfully installed contourpy-1.1.1 cycler-0.12.1 fonttools-4.43.1 matplotlib-3.8.0 pyparsing-3.1.1\n"
     ]
    },
    {
     "data": {
      "image/png": "[encoded data removed]",
      "text/plain": [
       "<Figure size 640x480 with 2 Axes>"
      ]
     },
     "metadata": {},
     "output_type": "display_data"
    }
   ],
   "source": [
    "results = grid_search.cv_results_\n",
    "\n",
    "# Extract the mean scores and reshape them into a grid\n",
    "scores = np.array(results['mean_test_score']).reshape(len(param_grid['n_estimators']),\n",
    "                                                      len(param_grid['max_depth']))\n",
    "\n",
    "\n",
    "import matplotlib.pyplot as plt\n",
    "# Create a heatmap of the mean scores\n",
    "plt.imshow(scores, cmap='viridis', origin='lower')\n",
    "plt.colorbar(label='Mean Score')\n",
    "plt.xlabel('min_samples_split')\n",
    "plt.ylabel('max_depth')\n",
    "plt.title('Grid Search Mean Scores')\n",
    "plt.show()"
   ]
  },
  {
   "cell_type": "code",
   "execution_count": 57,
   "id": "78ccaee5",
   "metadata": {},
   "outputs": [],
   "source": [
    "best_classifier = grid_search.best_estimator_\n"
   ]
  },
  {
   "cell_type": "code",
   "execution_count": 61,
   "id": "cd9b1652",
   "metadata": {},
   "outputs": [],
   "source": [
    "# save classifier \n",
    "import pickle\n",
    "model_directory = \"../models/RFC_3D/\"\n",
    "\n",
    "import os\n",
    "if not os.path.exists(\"../models\"):\n",
    "    os.makedirs(\"../models\")\n",
    "\n",
    "if not os.path.exists(model_directory):\n",
    "    os.makedirs(model_directory)\n",
    "\n",
    "\n",
    "pickle.dump(best_classifier, open(model_directory+filename, 'wb'))"
   ]
  },
  {
   "cell_type": "code",
   "execution_count": null,
   "id": "4d8a553b",
   "metadata": {},
   "outputs": [],
   "source": []
  },
  {
   "cell_type": "markdown",
   "id": "b2ec2778",
   "metadata": {},
   "source": [
    "# Now go to the other notebook for prediction. "
   ]
  }
 ],
 "metadata": {
  "colab": {
   "provenance": []
  },
  "kernelspec": {
   "display_name": "Python 3 (ipykernel)",
   "language": "python",
   "name": "python3"
  },
  "language_info": {
   "codemirror_mode": {
    "name": "ipython",
    "version": 3
   },
   "file_extension": ".py",
   "mimetype": "text/x-python",
   "name": "python",
   "nbconvert_exporter": "python",
   "pygments_lexer": "ipython3",
   "version": "3.12.0"
  }
 },
 "nbformat": 4,
 "nbformat_minor": 5
}
