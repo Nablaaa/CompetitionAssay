{
 "cells": [
  {
   "cell_type": "markdown",
   "id": "suffering-festival",
   "metadata": {
    "id": "suffering-festival"
   },
   "source": [
    "# Pixel classification using Scikit image\n",
    "Pixel classification is a technique for assigning pixels to multiple classes. If there are two classes (object and background), we are talking about binarization. In this example we use a [random forest classifier](https://en.wikipedia.org/wiki/Random_forest) for pixel classification.\n",
    "\n",
    "See also\n",
    "* [Scikit-image random forest](https://scikit-learn.org/stable/modules/generated/sklearn.ensemble.RandomForestClassifier.html)\n",
    "* [Classification of land cover by Chris Holden](https://ceholden.github.io/open-geo-tutorial/python/chapter_5_classification.html)\n"
   ]
  },
  {
   "cell_type": "code",
   "execution_count": null,
   "id": "4e6ac9ba",
   "metadata": {},
   "outputs": [],
   "source": [
    "# !pip install scikit-image\n",
    "# !pip install matplotlib\n",
    "# !pip install nd2\n",
    "# !pip install -U scikit-learn"
   ]
  },
  {
   "cell_type": "code",
   "execution_count": null,
   "id": "extreme-papua",
   "metadata": {
    "id": "extreme-papua"
   },
   "outputs": [],
   "source": [
    "from skimage.io import imsave, imread\n",
    "import os\n",
    "import numpy as np\n",
    "from sklearn.ensemble import RandomForestClassifier\n",
    "from sklearn.model_selection import GridSearchCV\n",
    "import pickle"
   ]
  },
  {
   "cell_type": "code",
   "execution_count": null,
   "id": "99b7fe2e",
   "metadata": {},
   "outputs": [],
   "source": [
    "# path to the folder containing the images of a certain channel\n",
    "\n",
    "filepath = '/media/eric/WD_Elements/EPFL-data/Lucas/'\n",
    "\n",
    "fn_orange = 'orange_20230920_AirGel_WTmSc_dwspFmN_mix_LAM02J-L_CIP_5.5hpi_23.5h.nd...el_WTmSc_dwspFmN_mix_LAM02J-L_CIP_5.5hpi_23.5h.nd2 (series 08) - C=1.tif'\n",
    "\n",
    "\n",
    "orange = filepath + fn_orange\n",
    "\n",
    "# if orange endswith .nd2 then import pims_nd2\n",
    "if orange.endswith('.nd2'):\n",
    "    !pip install pims_nd2\n",
    "    import pims_nd2 as pims\n",
    "\n",
    "else:\n",
    "    !pip install pims\n",
    "    import pims"
   ]
  },
  {
   "cell_type": "code",
   "execution_count": null,
   "id": "liberal-monster",
   "metadata": {
    "id": "liberal-monster",
    "outputId": "9ab5e9d7-1c36-4c37-bec9-ab69c39289a0"
   },
   "outputs": [],
   "source": [
    "from skimage import filters\n",
    "\n",
    "def generate_feature_stack(image):\n",
    "    # determine features\n",
    "    blurred = filters.gaussian(image, sigma=2)\n",
    "    edges = filters.sobel(blurred)\n",
    "\n",
    "    # collect features in a stack\n",
    "    # The ravel() function turns a nD image into a 1-D image.\n",
    "    # We need to use it because scikit-learn expects values in a 1-D format here.\n",
    "    feature_stack = [\n",
    "        image.ravel(),\n",
    "        blurred.ravel(),\n",
    "        edges.ravel()\n",
    "    ]\n",
    "\n",
    "    # return stack as numpy-array\n",
    "    return np.asarray(feature_stack)\n"
   ]
  },
  {
   "cell_type": "markdown",
   "id": "d3adf714",
   "metadata": {
    "id": "strong-throat"
   },
   "source": [
    "# Use napari for visualization"
   ]
  },
  {
   "cell_type": "code",
   "execution_count": null,
   "id": "institutional-harvey",
   "metadata": {
    "id": "institutional-harvey"
   },
   "outputs": [],
   "source": [
    "import napari\n",
    "%gui qt\n",
    "\n",
    "\n",
    "\n",
    "def MakePrediction(img, img_shape,model):\n",
    "    # process the whole image and show result\n",
    "\n",
    "    print(img.T.shape)\n",
    "    result_1d = model.predict(img.T)\n",
    "    result_3d = result_1d.reshape(img_shape)\n",
    "    result_3d = result_3d\n",
    "    result_3d[result_3d ==3]=0 # make background 0\n",
    "    #delete unused variables\n",
    "    del result_1d, img, img_shape\n",
    "    return result_3d\n",
    "\n",
    "def ShowNapari(img, prediction):\n",
    "    viewer = napari.Viewer()\n",
    "    viewer.add_image(img)\n",
    "    labels = viewer.add_labels(prediction)\n",
    "\n",
    "    viewer.show(block=True)\n",
    "\n",
    "    viewer.close()\n",
    "\n",
    "\n"
   ]
  },
  {
   "cell_type": "code",
   "execution_count": null,
   "id": "4f21e32c",
   "metadata": {},
   "outputs": [],
   "source": [
    "model_filename = '../models/RFC_3D/model_for_3D_data.pkl'\n",
    "model = pickle.load(open(model_filename, 'rb'))\n",
    "segmentation_output_dir = '../data_3D/segmentation_output/'\n",
    "\n",
    "if not os.path.exists(segmentation_output_dir):\n",
    "    os.makedirs(segmentation_output_dir)\n",
    "\n",
    "\n",
    "orange_seq = pims.open(orange)\n",
    "Z_slices = 19\n",
    "xdim = 1200\n",
    "ydim = 1200\n",
    "\n",
    "timestep = 0\n",
    "counter = 0\n",
    "for t, img in enumerate(orange_seq):    \n",
    "\n",
    "    # iterate through all z slices and stack them together\n",
    "    if np.mod(t,Z_slices) == 0:\n",
    "        # prepare empty array with the same dtype as the first image\n",
    "        counter = 0\n",
    "        orange_zstack = np.zeros((Z_slices,xdim,ydim))\n",
    "\n",
    "    orange_zstack[counter,:,:] = img\n",
    "\n",
    "    if np.mod(t,Z_slices) == Z_slices-1:\n",
    "        print(\"Timestep: \", timestep)\n",
    "\n",
    "        # now there is a 3D image stack of 19 slices\n",
    "        print(orange_zstack.shape)\n",
    "\n",
    "        feature_stack = generate_feature_stack(orange_zstack)\n",
    "        img_shape = orange_zstack.shape\n",
    "\n",
    "\n",
    "        \n",
    "        prediction = MakePrediction(feature_stack, img_shape,model)\n",
    "        del feature_stack\n",
    "        # ShowNapari(orange_zstack, prediction)\n",
    "        del orange_zstack\n",
    "\n",
    "        imsave(segmentation_output_dir + 'T_'+str(timestep).zfill(3)+  '_' + fn_orange , prediction,check_contrast=False)\n",
    "        del prediction\n",
    "\n",
    "        timestep += 1\n",
    "\n",
    "    counter += 1\n",
    "\n"
   ]
  },
  {
   "cell_type": "markdown",
   "id": "crude-figure",
   "metadata": {
    "id": "crude-figure"
   },
   "source": [
    "could be tested later"
   ]
  },
  {
   "cell_type": "code",
   "execution_count": null,
   "id": "26aebf8c",
   "metadata": {},
   "outputs": [],
   "source": [
    "import matplotlib.pyplot as plt\n",
    "hist1 = plt.hist(img[result_2d==1],50,alpha=0.5,color='c')\n",
    "hist2 = plt.hist(img[result_2d==2],50,alpha=0.5,color='k')\n",
    "hist2 = plt.hist(img[result_2d==0],50,alpha=0.5,color='m')\n",
    "# plt.ylim(0,40000)\n",
    "# plt.xlim(-5,10)"
   ]
  }
 ],
 "metadata": {
  "colab": {
   "provenance": []
  },
  "kernelspec": {
   "display_name": "Python 3 (ipykernel)",
   "language": "python",
   "name": "python3"
  },
  "language_info": {
   "codemirror_mode": {
    "name": "ipython",
    "version": 3
   },
   "file_extension": ".py",
   "mimetype": "text/x-python",
   "name": "python",
   "nbconvert_exporter": "python",
   "pygments_lexer": "ipython3",
   "version": "3.9.13"
  }
 },
 "nbformat": 4,
 "nbformat_minor": 5
}
